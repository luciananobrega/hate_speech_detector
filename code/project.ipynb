{
 "cells": [
  {
   "cell_type": "markdown",
   "id": "imperial-cincinnati",
   "metadata": {},
   "source": [
    "## 1. Importing datsets"
   ]
  },
  {
   "cell_type": "code",
   "execution_count": 1,
   "id": "confused-sleep",
   "metadata": {},
   "outputs": [],
   "source": [
    "import pandas as pd\n",
    "import re\n",
    "import numpy as np\n",
    "import matplotlib.pyplot as plt\n",
    "from collections import Counter"
   ]
  },
  {
   "cell_type": "code",
   "execution_count": 2,
   "id": "hybrid-tourism",
   "metadata": {},
   "outputs": [],
   "source": [
    "full_dataset3 = pd.read_csv('datasets\\\\full_dataset_4.csv')"
   ]
  },
  {
   "cell_type": "markdown",
   "id": "comic-replication",
   "metadata": {},
   "source": [
    "## 2. Balancing data"
   ]
  },
  {
   "cell_type": "code",
   "execution_count": 3,
   "id": "neutral-equity",
   "metadata": {},
   "outputs": [],
   "source": [
    "def plot_count(count):\n",
    "    plt.rcdefaults()\n",
    "    fig, ax = plt.subplots()\n",
    "\n",
    "    count0 = counter[0]\n",
    "    count1 = counter[1]\n",
    "    total = count0 + count1\n",
    "    amount = (count0/total, count1/total)\n",
    "\n",
    "    ax.barh([0,1], amount, align='center')\n",
    "    ax.set_yticks([0,1])\n",
    "    ax.set_yticklabels([0,1])\n",
    "    ax.invert_yaxis()  # labels read top-to-bottom\n",
    "    ax.set_xlabel('% of data')\n",
    "    ax.set_ylabel('Hate detection')\n",
    "    ax.set_title('Data distribution')\n",
    "    \n",
    "    a = round(amount[0], 3)\n",
    "    ax.text(a, 0, str(a*100) + '%', color='black')\n",
    "    b = round(amount[1], 3)\n",
    "    ax.text(b, 1, str(b*100) + '%', color='black')\n",
    "\n",
    "    plt.xlim([0.0, 1.0])\n",
    "    plt.show()"
   ]
  },
  {
   "cell_type": "code",
   "execution_count": 4,
   "id": "involved-holocaust",
   "metadata": {},
   "outputs": [
    {
     "name": "stdout",
     "output_type": "stream",
     "text": [
      "Class 0: 5290, Class 1: 1431\n"
     ]
    }
   ],
   "source": [
    "counter = Counter(full_dataset3['hate_speech'])\n",
    "print('Class 0: {}, Class 1: {}'.format(counter[0],counter[1]))"
   ]
  },
  {
   "cell_type": "code",
   "execution_count": 5,
   "id": "scenic-dylan",
   "metadata": {},
   "outputs": [
    {
     "data": {
      "image/png": "[encoded data removed]",
      "text/plain": [
       "<Figure size 640x480 with 1 Axes>"
      ]
     },
     "metadata": {},
     "output_type": "display_data"
    }
   ],
   "source": [
    "plot_count(counter)"
   ]
  },
  {
   "cell_type": "code",
   "execution_count": 6,
   "id": "occasional-zimbabwe",
   "metadata": {},
   "outputs": [],
   "source": [
    "full_dataset3_unbalanced = full_dataset3.copy()"
   ]
  },
  {
   "cell_type": "markdown",
   "id": "pursuant-apple",
   "metadata": {},
   "source": [
    "### 2.1 Balancing through translation (oversampling)\n",
    "The idea here is to translate to a random language and then back to portuguese. This will add random changes to the smaller class."
   ]
  },
  {
   "cell_type": "code",
   "execution_count": 7,
   "id": "structural-freedom",
   "metadata": {},
   "outputs": [],
   "source": [
    "from textblob import TextBlob\n",
    "from textblob.translate import NotTranslated\n",
    "import random\n",
    "from tqdm import tqdm\n",
    "import time\n",
    "\n",
    "from collections import Counter\n",
    "\n",
    "from pandas import DataFrame\n",
    "from sklearn.utils import shuffle"
   ]
  },
  {
   "cell_type": "code",
   "execution_count": 8,
   "id": "therapeutic-rough",
   "metadata": {},
   "outputs": [],
   "source": [
    "language = [\"fr\", \"la\", \"es\", \"de\", \"it\", \"en\", \"ru\", \"zh\", \"fi\"]\n",
    "\n",
    "sr = random.SystemRandom()\n",
    "def data_augmentation_translate(dataframe, class_values=[0,1]):\n",
    "    count0 = dataframe[dataframe.hate_speech==class_values[0]].count()\n",
    "    count1 = dataframe[dataframe.hate_speech==class_values[1]].count()\n",
    "    \n",
    "    aug_range = abs(count0.text - count1.text)\n",
    "    \n",
    "    list_messages = dataframe[dataframe.hate_speech==class_values[1]]['text'].tolist()\n",
    "    \n",
    "    len_list = len(list_messages)\n",
    "    augmented_messages = []\n",
    "\n",
    "    for j in tqdm(range(0, aug_range)):\n",
    "        ind = random.randint(0, len_list)\n",
    "        message = list_messages[ind-1]\n",
    "        \n",
    "        if hasattr(message, \"decode\"):\n",
    "            message = message.decode(\"utf-8\")\n",
    "        \n",
    "        text = TextBlob(message)\n",
    "        try:\n",
    "            text = text.translate(to=sr.choice(language))   ## Converting to random langauge for meaningful variation\n",
    "            time.sleep(2)\n",
    "            text = text.translate(to=\"pt\")\n",
    "        except NotTranslated:\n",
    "            pass\n",
    "        augmented_messages.append([str(text), 1])\n",
    "\n",
    "    df = DataFrame(augmented_messages)\n",
    "    df.columns = ['text', 'hate_speech']\n",
    "    \n",
    "    data = pd.concat([dataframe, df])\n",
    "\n",
    "    return shuffle(data)"
   ]
  },
  {
   "cell_type": "code",
   "execution_count": 9,
   "id": "impressed-slovak",
   "metadata": {},
   "outputs": [],
   "source": [
    "try:\n",
    "    full_dataset3_balanced_translate = pd.read_csv('datasets\\\\full_dataset3_balanced_translate.csv')\n",
    "except FileNotFoundError:\n",
    "    full_dataset3_balanced_translate = data_augmentation_translate(full_dataset3_unbalanced)\n",
    "    full_dataset3_balanced_translate.to_csv('datasets\\\\full_dataset3_balanced_translate.csv', index=False)"
   ]
  },
  {
   "cell_type": "code",
   "execution_count": 10,
   "id": "quantitative-links",
   "metadata": {},
   "outputs": [
    {
     "name": "stdout",
     "output_type": "stream",
     "text": [
      "Class 0: 5271, Class 1: 5271\n"
     ]
    }
   ],
   "source": [
    "counter = Counter(full_dataset3_balanced_translate['hate_speech'])\n",
    "print('Class 0: {}, Class 1: {}'.format(counter[0],counter[1]))"
   ]
  },
  {
   "cell_type": "markdown",
   "id": "gorgeous-opening",
   "metadata": {},
   "source": [
    "### 2.2 Balancing through repetition (oversampling)\n",
    "Now, we will just repeat some elements of the smaller class. This can generate some problems, such as skew the project."
   ]
  },
  {
   "cell_type": "code",
   "execution_count": 11,
   "id": "stylish-victim",
   "metadata": {},
   "outputs": [],
   "source": [
    "def data_augmentation_repeating(dataframe, class_values=[0,1]):\n",
    "    count0 = dataframe[dataframe.hate_speech==class_values[0]].count()\n",
    "    count1 = dataframe[dataframe.hate_speech==class_values[1]].count()\n",
    "    \n",
    "    aug_range = abs(count0.text - count1.text)\n",
    "    \n",
    "    list_messages = dataframe[dataframe.hate_speech==class_values[1]]['text'].tolist()\n",
    "    \n",
    "    len_list = len(list_messages)\n",
    "    augmented_messages = []\n",
    "\n",
    "    for j in range(aug_range):\n",
    "        ind = random.randint(0, len_list)\n",
    "        message = list_messages[ind-1]\n",
    "        \n",
    "        augmented_messages.append([message, 1])\n",
    "\n",
    "    df = DataFrame(augmented_messages)\n",
    "    df.columns = ['text', 'hate_speech']\n",
    "    \n",
    "    data = pd.concat([dataframe, df])\n",
    "\n",
    "    return shuffle(data)"
   ]
  },
  {
   "cell_type": "code",
   "execution_count": 12,
   "id": "latter-hampshire",
   "metadata": {},
   "outputs": [],
   "source": [
    "full_dataset3_balanced_repeating = data_augmentation_repeating(full_dataset3_unbalanced)"
   ]
  },
  {
   "cell_type": "code",
   "execution_count": 13,
   "id": "owned-laptop",
   "metadata": {},
   "outputs": [
    {
     "name": "stdout",
     "output_type": "stream",
     "text": [
      "Class 0: 5290, Class 1: 5290\n"
     ]
    }
   ],
   "source": [
    "counter = Counter(full_dataset3_balanced_repeating['hate_speech'])\n",
    "print('Class 0: {}, Class 1: {}'.format(counter[0],counter[1]))"
   ]
  },
  {
   "cell_type": "markdown",
   "id": "ranging-honor",
   "metadata": {},
   "source": [
    "### 2.3 Balancing through removing random elements (undersampling)"
   ]
  },
  {
   "cell_type": "code",
   "execution_count": 14,
   "id": "split-warehouse",
   "metadata": {},
   "outputs": [],
   "source": [
    "def undersampling(dataframe, class_values=[0,1]):\n",
    "    count0 = dataframe[dataframe.hate_speech==class_values[0]].count()\n",
    "    count1 = dataframe[dataframe.hate_speech==class_values[1]].count()\n",
    "    \n",
    "    df1 = dataframe[dataframe.hate_speech==class_values[1]]\n",
    "    \n",
    "    diff = abs(count0.text - count1.text)\n",
    "    list_messages = dataframe[dataframe.hate_speech==class_values[0]]['text'].tolist()\n",
    "\n",
    "    for j in range(diff):\n",
    "        ind = random.randint(0, len(list_messages))\n",
    "        del list_messages[ind-1]\n",
    "\n",
    "    df = DataFrame({'text':list_messages, 'hate_speech': np.repeat(0, len(list_messages))})\n",
    "    \n",
    "    data = pd.concat([df1, df])\n",
    "\n",
    "    return shuffle(data)"
   ]
  },
  {
   "cell_type": "code",
   "execution_count": 15,
   "id": "downtown-status",
   "metadata": {
    "scrolled": true
   },
   "outputs": [],
   "source": [
    "full_dataset3_balanced_undersampling = undersampling(full_dataset3_unbalanced)"
   ]
  },
  {
   "cell_type": "code",
   "execution_count": 16,
   "id": "alive-chick",
   "metadata": {},
   "outputs": [
    {
     "name": "stdout",
     "output_type": "stream",
     "text": [
      "Class 0: 1431, Class 1: 1431\n"
     ]
    }
   ],
   "source": [
    "counter = Counter(full_dataset3_balanced_undersampling['hate_speech'])\n",
    "print('Class 0: {}, Class 1: {}'.format(counter[0],counter[1]))"
   ]
  },
  {
   "cell_type": "markdown",
   "id": "allied-california",
   "metadata": {},
   "source": [
    "## 3. Preprocessing data"
   ]
  },
  {
   "cell_type": "code",
   "execution_count": 17,
   "id": "developing-newsletter",
   "metadata": {},
   "outputs": [],
   "source": [
    "import nltk\n",
    "#nltk.download('stopwords')\n",
    "#nltk.download('rslp')\n",
    "from unidecode import unidecode\n",
    "stem = nltk.stem.RSLPStemmer()"
   ]
  },
  {
   "cell_type": "code",
   "execution_count": 18,
   "id": "amazing-tourist",
   "metadata": {},
   "outputs": [],
   "source": [
    "stopwords = set(nltk.corpus.stopwords.words('portuguese')) # get stop words in portuguese\n",
    "\n",
    "def remove_stopwords(text):\n",
    "    text_without_stopwords = [word for word in text.split() if word not in stopwords]\n",
    "    # some elements of the dataset were only stopwords (eg: \"quando foi isso\")\n",
    "    # if it's the case, we'll return the same text\n",
    "    if text_without_stopwords == []:\n",
    "        return text\n",
    "    return ' '.join(text_without_stopwords)\n",
    "\n",
    "def cleaning_data(text):\n",
    "    text = re.sub(r'http\\S+', '', text)\n",
    "    text = re.sub(r'www\\S+', '', text)\n",
    "    text = re.sub(r'rt+', '', text)\n",
    "    text = re.sub(r'@\\w+', '', text)\n",
    "    text = re.sub(r'[\\\"!$%-*&’‘*+”“,-./\\[\\]<=>\\'?():;^_`<>{|}~@]', '', text)\n",
    "    return text\n",
    "\n",
    "def tagging(text):\n",
    "    text = re.sub(r'[0-9]', '', text)\n",
    "    text = text.lower()\n",
    "    text = re.sub(r'nao', '_NAO', text)\n",
    "    text = re.sub(r'não', '_NAO', text)\n",
    "    text = text.replace('?', '_Q')\n",
    "    text = text.replace('!', '_E')\n",
    "    return text\n",
    "\n",
    "def stemming(text):\n",
    "    text = text.split()\n",
    "    new_text = []\n",
    "    for word in text:\n",
    "        new_text.append(stem.stem(word))\n",
    "    return ' '.join(new_text)\n",
    "\n",
    "def preprocessing1(text):\n",
    "    text = tagging(text)\n",
    "    text = remove_stopwords(text)\n",
    "    text = cleaning_data(text)\n",
    "    text = unidecode(text) #remove accents (e.g.: á, ã, à will be \"a\")\n",
    "    return text.split()\n",
    "\n",
    "def preprocessing2(text):\n",
    "    text = tagging(text)\n",
    "    text = remove_stopwords(text)\n",
    "    text = cleaning_data(text)\n",
    "    text = stemming(text)\n",
    "    text = unidecode(text) #remove accents (e.g.: á, ã, à will be \"a\")\n",
    "    return text.split()\n"
   ]
  },
  {
   "cell_type": "code",
   "execution_count": 19,
   "id": "french-times",
   "metadata": {},
   "outputs": [],
   "source": [
    "f = open(\"datasets\\\\lista-palavroes-bloqueio.txt\", \"r\", encoding=\"utf8\")\n",
    "list_bad_words = f.readlines()\n",
    "list_bad_words = [x.strip() for x in list_bad_words]\n",
    "f.close()\n",
    "\n",
    "def tagging_swearwords(text):\n",
    "    text = [word if (word.upper() not in list_bad_words) else \"_SWEARWORD\" for word in text.split()]\n",
    "    text = ' '.join(text)\n",
    "    return text\n",
    "\n",
    "def tagging_laughs(text):\n",
    "    return re.sub(r'k{2,}|a*ha+h[ha]*|e*he+h[he]*|s*rs+r[rs]*', '_LAUGHS ', text)\n",
    "\n",
    "def preprocessing3(text):\n",
    "    text = tagging(text)\n",
    "    text = remove_stopwords(text)\n",
    "    text = cleaning_data(text)\n",
    "    text = unidecode(text) #remove accents (e.g.: á, ã, à will be \"a\")\n",
    "    text = tagging_swearwords(text)\n",
    "    text = tagging_laughs(text)\n",
    "    return text.split()\n",
    "\n",
    "def preprocessing4(text):\n",
    "    text = tagging(text)\n",
    "    text = remove_stopwords(text)\n",
    "    text = cleaning_data(text)\n",
    "    text = stemming(text)\n",
    "    text = unidecode(text) #remove accents (e.g.: á, ã, à will be \"a\")\n",
    "    text = tagging_swearwords(text)\n",
    "    text = tagging_laughs(text)\n",
    "    return text.split()"
   ]
  },
  {
   "cell_type": "markdown",
   "id": "multiple-spray",
   "metadata": {},
   "source": [
    "## 4. Feature extraction"
   ]
  },
  {
   "cell_type": "code",
   "execution_count": 20,
   "id": "south-compatibility",
   "metadata": {},
   "outputs": [],
   "source": [
    "from sklearn.feature_extraction.text import CountVectorizer\n",
    "from sklearn.feature_extraction.text import TfidfTransformer"
   ]
  },
  {
   "cell_type": "markdown",
   "id": "operating-finder",
   "metadata": {},
   "source": [
    "### 4.1 Bag of Words (BoW): CountVectorizer"
   ]
  },
  {
   "cell_type": "code",
   "execution_count": 21,
   "id": "agricultural-sarah",
   "metadata": {},
   "outputs": [
    {
     "data": {
      "text/html": [
       "<div>\n",
       "<style scoped>\n",
       "    .dataframe tbody tr th:only-of-type {\n",
       "        vertical-align: middle;\n",
       "    }\n",
       "\n",
       "    .dataframe tbody tr th {\n",
       "        vertical-align: top;\n",
       "    }\n",
       "\n",
       "    .dataframe thead th {\n",
       "        text-align: right;\n",
       "    }\n",
       "</style>\n",
       "<table border=\"1\" class=\"dataframe\">\n",
       "  <thead>\n",
       "    <tr style=\"text-align: right;\">\n",
       "      <th></th>\n",
       "      <th>text</th>\n",
       "      <th>hate_speech</th>\n",
       "    </tr>\n",
       "  </thead>\n",
       "  <tbody>\n",
       "    <tr>\n",
       "      <th>771</th>\n",
       "      <td>Estou aguardando algum pedido c/ burca, ou ser...</td>\n",
       "      <td>0</td>\n",
       "    </tr>\n",
       "    <tr>\n",
       "      <th>4894</th>\n",
       "      <td>idiota é pensar q no dia d mulher eu aquela mu...</td>\n",
       "      <td>1</td>\n",
       "    </tr>\n",
       "    <tr>\n",
       "      <th>4781</th>\n",
       "      <td>eu devo ser mt feia, pq gorda eu já sou...</td>\n",
       "      <td>1</td>\n",
       "    </tr>\n",
       "    <tr>\n",
       "      <th>1012</th>\n",
       "      <td>Porra, que lixo, que idiotas... o mundo está à...</td>\n",
       "      <td>0</td>\n",
       "    </tr>\n",
       "    <tr>\n",
       "      <th>405</th>\n",
       "      <td>Nas Principais Nações da UE Maioria Apoia Veto...</td>\n",
       "      <td>0</td>\n",
       "    </tr>\n",
       "    <tr>\n",
       "      <th>...</th>\n",
       "      <td>...</td>\n",
       "      <td>...</td>\n",
       "    </tr>\n",
       "    <tr>\n",
       "      <th>6648</th>\n",
       "      <td>'quando sua me devolver o troco de R  pelo ser...</td>\n",
       "      <td>1</td>\n",
       "    </tr>\n",
       "    <tr>\n",
       "      <th>5370</th>\n",
       "      <td>RT @alerodrigues247: Como ser feminista:\\nSer ...</td>\n",
       "      <td>1</td>\n",
       "    </tr>\n",
       "    <tr>\n",
       "      <th>464</th>\n",
       "      <td>e tem nordestino e manaura achando ruim das pi...</td>\n",
       "      <td>1</td>\n",
       "    </tr>\n",
       "    <tr>\n",
       "      <th>4468</th>\n",
       "      <td>ia perguntar se o dia Internacional da mulher ...</td>\n",
       "      <td>1</td>\n",
       "    </tr>\n",
       "    <tr>\n",
       "      <th>581</th>\n",
       "      <td>O que quer dizer exatamente? https://t.co/1GcT...</td>\n",
       "      <td>0</td>\n",
       "    </tr>\n",
       "  </tbody>\n",
       "</table>\n",
       "<p>2862 rows × 2 columns</p>\n",
       "</div>"
      ],
      "text/plain": [
       "                                                   text  hate_speech\n",
       "771   Estou aguardando algum pedido c/ burca, ou ser...            0\n",
       "4894  idiota é pensar q no dia d mulher eu aquela mu...            1\n",
       "4781         eu devo ser mt feia, pq gorda eu já sou...            1\n",
       "1012  Porra, que lixo, que idiotas... o mundo está à...            0\n",
       "405   Nas Principais Nações da UE Maioria Apoia Veto...            0\n",
       "...                                                 ...          ...\n",
       "6648  'quando sua me devolver o troco de R  pelo ser...            1\n",
       "5370  RT @alerodrigues247: Como ser feminista:\\nSer ...            1\n",
       "464   e tem nordestino e manaura achando ruim das pi...            1\n",
       "4468  ia perguntar se o dia Internacional da mulher ...            1\n",
       "581   O que quer dizer exatamente? https://t.co/1GcT...            0\n",
       "\n",
       "[2862 rows x 2 columns]"
      ]
     },
     "execution_count": 21,
     "metadata": {},
     "output_type": "execute_result"
    }
   ],
   "source": [
    "full_dataset3_balanced_undersampling"
   ]
  },
  {
   "cell_type": "code",
   "execution_count": 22,
   "id": "becoming-rebate",
   "metadata": {},
   "outputs": [
    {
     "data": {
      "text/plain": [
       "<10542x17606 sparse matrix of type '<class 'numpy.int64'>'\n",
       "\twith 90354 stored elements in Compressed Sparse Row format>"
      ]
     },
     "execution_count": 22,
     "metadata": {},
     "output_type": "execute_result"
    }
   ],
   "source": [
    "bow_transformer1 = CountVectorizer(analyzer=preprocessing1).fit_transform(full_dataset3_balanced_translate['text'])\n",
    "bow_transformer1"
   ]
  },
  {
   "cell_type": "code",
   "execution_count": 23,
   "id": "average-signature",
   "metadata": {},
   "outputs": [
    {
     "data": {
      "text/plain": [
       "<10542x10868 sparse matrix of type '<class 'numpy.int64'>'\n",
       "\twith 89740 stored elements in Compressed Sparse Row format>"
      ]
     },
     "execution_count": 23,
     "metadata": {},
     "output_type": "execute_result"
    }
   ],
   "source": [
    "bow_transformer2 = CountVectorizer(analyzer=preprocessing2).fit_transform(full_dataset3_balanced_translate['text'])\n",
    "bow_transformer2"
   ]
  },
  {
   "cell_type": "code",
   "execution_count": 24,
   "id": "historic-andrews",
   "metadata": {},
   "outputs": [
    {
     "data": {
      "text/plain": [
       "<10542x17425 sparse matrix of type '<class 'numpy.int64'>'\n",
       "\twith 90119 stored elements in Compressed Sparse Row format>"
      ]
     },
     "execution_count": 24,
     "metadata": {},
     "output_type": "execute_result"
    }
   ],
   "source": [
    "bow_transformer3 = CountVectorizer(analyzer=preprocessing3).fit_transform(full_dataset3_balanced_translate['text'])\n",
    "bow_transformer3"
   ]
  },
  {
   "cell_type": "code",
   "execution_count": 25,
   "id": "through-biology",
   "metadata": {},
   "outputs": [
    {
     "data": {
      "text/plain": [
       "<10542x10760 sparse matrix of type '<class 'numpy.int64'>'\n",
       "\twith 89775 stored elements in Compressed Sparse Row format>"
      ]
     },
     "execution_count": 25,
     "metadata": {},
     "output_type": "execute_result"
    }
   ],
   "source": [
    "bow_transformer4 = CountVectorizer(analyzer=preprocessing4).fit_transform(full_dataset3_balanced_translate['text'])\n",
    "bow_transformer4"
   ]
  },
  {
   "cell_type": "code",
   "execution_count": 26,
   "id": "suburban-berlin",
   "metadata": {
    "scrolled": true
   },
   "outputs": [
    {
     "name": "stdout",
     "output_type": "stream",
     "text": [
      "  (0, 7327)\t1\n",
      "  (0, 7035)\t1\n",
      "  (0, 4796)\t1\n",
      "  (0, 7099)\t1\n",
      "  (0, 8217)\t1\n",
      "  (0, 6829)\t1\n",
      "  (1, 7099)\t1\n",
      "  (1, 6747)\t1\n",
      "  (1, 5497)\t1\n",
      "  (1, 4446)\t1\n",
      "  (1, 8587)\t1\n",
      "  (1, 3559)\t1\n",
      "  (2, 9010)\t1\n",
      "  (2, 8408)\t1\n",
      "  (2, 8612)\t1\n",
      "  (2, 3020)\t1\n",
      "  (3, 6829)\t1\n",
      "  (3, 4374)\t1\n",
      "  (3, 4036)\t1\n",
      "  (3, 10031)\t1\n",
      "  (3, 4565)\t1\n",
      "  (3, 9529)\t1\n",
      "  (3, 2489)\t1\n",
      "  (3, 10183)\t1\n",
      "  (3, 3990)\t1\n",
      "  :\t:\n",
      "  (10537, 1705)\t1\n",
      "  (10537, 3252)\t1\n",
      "  (10537, 9280)\t1\n",
      "  (10538, 7356)\t1\n",
      "  (10538, 9346)\t1\n",
      "  (10538, 5779)\t1\n",
      "  (10538, 3718)\t1\n",
      "  (10538, 6361)\t1\n",
      "  (10538, 4749)\t1\n",
      "  (10539, 6698)\t2\n",
      "  (10539, 5912)\t1\n",
      "  (10539, 7012)\t1\n",
      "  (10539, 10263)\t1\n",
      "  (10539, 6143)\t1\n",
      "  (10539, 10607)\t1\n",
      "  (10539, 9065)\t1\n",
      "  (10539, 7350)\t1\n",
      "  (10540, 8217)\t1\n",
      "  (10540, 3388)\t1\n",
      "  (10540, 10408)\t1\n",
      "  (10540, 6723)\t1\n",
      "  (10541, 9121)\t1\n",
      "  (10541, 4510)\t1\n",
      "  (10541, 9988)\t1\n",
      "  (10541, 2545)\t1\n"
     ]
    }
   ],
   "source": [
    "print(bow_transformer4)"
   ]
  },
  {
   "cell_type": "markdown",
   "id": "unnecessary-retailer",
   "metadata": {},
   "source": [
    "### 4.2 TF-IDF"
   ]
  },
  {
   "cell_type": "code",
   "execution_count": 27,
   "id": "universal-supplement",
   "metadata": {},
   "outputs": [],
   "source": [
    "tfidf = TfidfTransformer().fit_transform(bow_transformer4)"
   ]
  },
  {
   "cell_type": "code",
   "execution_count": 28,
   "id": "contained-messenger",
   "metadata": {
    "scrolled": true
   },
   "outputs": [
    {
     "name": "stdout",
     "output_type": "stream",
     "text": [
      "  (0, 8217)\t0.29468785776246925\n",
      "  (0, 7327)\t0.6440191061171336\n",
      "  (0, 7099)\t0.17372974443568506\n",
      "  (0, 7035)\t0.37159201278750287\n",
      "  (0, 6829)\t0.43013735550482085\n",
      "  (0, 4796)\t0.38094312537912806\n",
      "  (1, 8587)\t0.4921518850743763\n",
      "  (1, 7099)\t0.15681292864314836\n",
      "  (1, 6747)\t0.4280399448196982\n",
      "  (1, 5497)\t0.43720281758557505\n",
      "  (1, 4446)\t0.2917671887060007\n",
      "  (1, 3559)\t0.5231669302972789\n",
      "  (2, 9010)\t0.6039551848333548\n",
      "  (2, 8612)\t0.40482750988650024\n",
      "  (2, 8408)\t0.5285994173330578\n",
      "  (2, 3020)\t0.43810441443468207\n",
      "  (3, 10183)\t0.22399905680432625\n",
      "  (3, 10031)\t0.29161065476926384\n",
      "  (3, 9529)\t0.22082291100770993\n",
      "  (3, 6829)\t0.24802654427000712\n",
      "  (3, 5734)\t0.3143999508773477\n",
      "  (3, 4698)\t0.34896282152836966\n",
      "  (3, 4565)\t0.4017402555344906\n",
      "  (3, 4374)\t0.18378182549209188\n",
      "  (3, 4036)\t0.27929699863197666\n",
      "  :\t:\n",
      "  (10537, 1265)\t0.34642483787174355\n",
      "  (10537, 894)\t0.3221434702412208\n",
      "  (10537, 0)\t0.26904941075911776\n",
      "  (10538, 9346)\t0.29442674742375285\n",
      "  (10538, 7356)\t0.2883783232953457\n",
      "  (10538, 6361)\t0.5130568140653251\n",
      "  (10538, 5779)\t0.3313830346051577\n",
      "  (10538, 4749)\t0.5130568140653251\n",
      "  (10538, 3718)\t0.44031980254468256\n",
      "  (10539, 10607)\t0.37938316047407045\n",
      "  (10539, 10263)\t0.2784374395983435\n",
      "  (10539, 9065)\t0.37938316047407045\n",
      "  (10539, 7350)\t0.4195535015147623\n",
      "  (10539, 7012)\t0.2507623778706824\n",
      "  (10539, 6698)\t0.4475346648136493\n",
      "  (10539, 6143)\t0.37938316047407045\n",
      "  (10539, 5912)\t0.22690010550353162\n",
      "  (10540, 10408)\t0.4380951183495721\n",
      "  (10540, 8217)\t0.36404700110330834\n",
      "  (10540, 6723)\t0.65788720842131\n",
      "  (10540, 3388)\t0.4926731870739245\n",
      "  (10541, 9988)\t0.4017047547673619\n",
      "  (10541, 9121)\t0.618100719169974\n",
      "  (10541, 4510)\t0.4380552352183119\n",
      "  (10541, 2545)\t0.5144826545731974\n"
     ]
    }
   ],
   "source": [
    "print(tfidf)"
   ]
  },
  {
   "cell_type": "markdown",
   "id": "elect-workshop",
   "metadata": {},
   "source": [
    "## 5. Machine learning!"
   ]
  },
  {
   "cell_type": "code",
   "execution_count": 29,
   "id": "pending-camping",
   "metadata": {},
   "outputs": [],
   "source": [
    "from sklearn.naive_bayes import MultinomialNB\n",
    "from sklearn.ensemble import RandomForestClassifier\n",
    "from sklearn.svm import LinearSVC\n",
    "\n",
    "from sklearn.pipeline import Pipeline\n",
    "from sklearn.model_selection import train_test_split\n",
    "from sklearn.model_selection import cross_val_predict\n",
    "\n",
    "import sklearn.metrics as metrics\n",
    "from sklearn.metrics import accuracy_score\n",
    "from sklearn.metrics import f1_score\n",
    "from sklearn.metrics import classification_report\n",
    "from sklearn.metrics import precision_recall_fscore_support\n",
    "from sklearn.metrics import confusion_matrix"
   ]
  },
  {
   "cell_type": "code",
   "execution_count": 30,
   "id": "figured-square",
   "metadata": {},
   "outputs": [],
   "source": [
    "# unbalanced\n",
    "text3_unb = full_dataset3_unbalanced['text']\n",
    "class3_unb = full_dataset3_unbalanced['hate_speech']\n",
    "\n",
    "# balanced translated\n",
    "text3_tra = full_dataset3_balanced_translate['text']\n",
    "class3_tra = full_dataset3_balanced_translate['hate_speech']\n",
    "\n",
    "# balanced repeating\n",
    "text3_rep = full_dataset3_balanced_repeating['text']\n",
    "class3_rep = full_dataset3_balanced_repeating['hate_speech']\n",
    "\n",
    "# balanced undersampling\n",
    "text3_und = full_dataset3_balanced_undersampling['text']\n",
    "class3_und = full_dataset3_balanced_undersampling['hate_speech']\n"
   ]
  },
  {
   "cell_type": "markdown",
   "id": "absent-america",
   "metadata": {},
   "source": [
    "### 5.1 Splitting the data: train, test and validation"
   ]
  },
  {
   "cell_type": "code",
   "execution_count": 31,
   "id": "rocky-halloween",
   "metadata": {},
   "outputs": [],
   "source": [
    "# data = [x_train, x_test, y_train, y_test]\n",
    "\n",
    "X_train_unb, X_test_unb, y_train_unb, y_test_unb = train_test_split(text3_unb, class3_unb, test_size=0.2, random_state=1)\n",
    "X_train_unb, X_val_unb, y_train_unb, y_val_unb = train_test_split(X_train_unb, y_train_unb, test_size=0.25, random_state=1)\n",
    "\n",
    "X_train_tra, X_test_tra, y_train_tra, y_test_tra = train_test_split(text3_tra, class3_tra, test_size=0.2, random_state=1)\n",
    "X_train_tra, X_val_tra, y_train_tra, y_val_tra = train_test_split(X_train_tra, y_train_tra, test_size=0.25, random_state=1)\n",
    "\n",
    "X_train_rep, X_test_rep, y_train_rep, y_test_rep = train_test_split(text3_rep, class3_rep, test_size=0.2, random_state=1)\n",
    "X_train_rep, X_val_rep, y_train_rep, y_val_rep = train_test_split(X_train_rep, y_train_rep, test_size=0.25, random_state=1)\n",
    "\n",
    "X_train_und, X_test_und, y_train_und, y_test_und = train_test_split(text3_und, class3_und, test_size=0.2, random_state=1)\n",
    "X_train_und, X_val_und, y_train_und, y_val_und = train_test_split(X_train_und, y_train_und, test_size=0.25, random_state=1)\n"
   ]
  },
  {
   "cell_type": "code",
   "execution_count": 32,
   "id": "electronic-christianity",
   "metadata": {},
   "outputs": [],
   "source": [
    "# arrays to save results\n",
    "f1_val = np.zeros((12, 8))\n",
    "f1_test = np.zeros((12, 8))"
   ]
  },
  {
   "cell_type": "code",
   "execution_count": 33,
   "id": "present-contribution",
   "metadata": {},
   "outputs": [],
   "source": [
    "def predict_test(X, y, pipeline):\n",
    "    result = pipeline.predict(X)\n",
    "    print(confusion_matrix(y, result))\n",
    "    return f1_score(y, result, average='weighted')"
   ]
  },
  {
   "cell_type": "markdown",
   "id": "tight-profile",
   "metadata": {},
   "source": [
    "### 5.2 ML models\n",
    "\n",
    "#### 5.2.1 RandomForestClassifier"
   ]
  },
  {
   "cell_type": "code",
   "execution_count": 34,
   "id": "posted-capitol",
   "metadata": {},
   "outputs": [],
   "source": [
    "max_depth_values = range(1, 11)\n",
    "def random_forest_eval(data):\n",
    "    best = None\n",
    "    diff = 1\n",
    "    train_scores = []\n",
    "    val_scores = []\n",
    "    for i in max_depth_values:\n",
    "        clf = RandomForestClassifier(max_depth=i)\n",
    "        pipeline = Pipeline([\n",
    "                            ('bow', CountVectorizer(analyzer=preprocessing4, ngram_range=(1,1))),  # strings to token integer counts\n",
    "                            ('tfidf', TfidfTransformer()),  # integer counts to weighted TF-IDF scores\n",
    "                            ('classifier', clf) # train on TF-IDF vectors w/ LinearSVC classifier\n",
    "                            ])\n",
    "        \n",
    "        pipeline.fit(data[0], data[2])\n",
    "        \n",
    "        train_predict = pipeline.predict(data[0])\n",
    "        train_accuracy = f1_score(data[2], train_predict, average='weighted')\n",
    "        train_scores.append(train_accuracy)\n",
    "        \n",
    "        val_predict = pipeline.predict(data[1])\n",
    "        val_accuracy = f1_score(data[3], val_predict, average='weighted')\n",
    "        val_scores.append(val_accuracy)  \n",
    "\n",
    "    return [train_scores, val_scores]\n"
   ]
  },
  {
   "cell_type": "code",
   "execution_count": 35,
   "id": "distinct-flash",
   "metadata": {
    "scrolled": true
   },
   "outputs": [],
   "source": [
    "scores_data3_unbalanced = random_forest_eval([X_train_unb, X_val_unb, y_train_unb, y_val_unb])\n",
    "scores_data3_balanced_translate = random_forest_eval([X_train_tra, X_val_tra, y_train_tra, y_val_tra])\n",
    "scores_data3_balanced_repeating = random_forest_eval([X_train_rep, X_val_rep, y_train_rep, y_val_rep])\n",
    "scores_data3_balanced_undersampl = random_forest_eval([X_train_und, X_val_und, y_train_und, y_val_und])"
   ]
  },
  {
   "cell_type": "code",
   "execution_count": 36,
   "id": "average-witch",
   "metadata": {},
   "outputs": [
    {
     "data": {
      "image/png": "[encoded data removed]",
      "text/plain": [
       "<Figure size 640x480 with 4 Axes>"
      ]
     },
     "metadata": {},
     "output_type": "display_data"
    }
   ],
   "source": [
    "fig, axs = plt.subplots(2, 2)\n",
    "axs[0, 0].plot(max_depth_values, scores_data3_unbalanced[0], '-o', label='Train')\n",
    "axs[0, 0].plot(max_depth_values, scores_data3_unbalanced[1], '-d', label='Test')\n",
    "axs[0, 0].set_title('Unbalanced data')\n",
    "axs[0, 1].plot(max_depth_values, scores_data3_balanced_translate[0], '-o', label='Train')\n",
    "axs[0, 1].plot(max_depth_values, scores_data3_balanced_translate[1], '-d', label='Test')\n",
    "axs[0, 1].set_title('Balanced data translation')\n",
    "axs[1, 0].plot(max_depth_values, scores_data3_balanced_repeating[0], '-o', label='Train')\n",
    "axs[1, 0].plot(max_depth_values, scores_data3_balanced_repeating[1], '-d', label='Test')\n",
    "axs[1, 0].set_title('Balanced data repeating')\n",
    "axs[1, 1].plot(max_depth_values, scores_data3_balanced_undersampl[0], '-o', label='Train')\n",
    "axs[1, 1].plot(max_depth_values, scores_data3_balanced_undersampl[1], '-d', label='Test')\n",
    "axs[1, 1].set_title('Balanced data undersampling')\n",
    "\n",
    "for ax in axs.flat:\n",
    "    ax.set(xlabel='max_depth', ylabel='F1-score (weighted)')\n",
    "\n",
    "plt.subplots_adjust(hspace=0.7, wspace = 0.5)\n",
    "\n",
    "plt.show()"
   ]
  },
  {
   "cell_type": "code",
   "execution_count": 37,
   "id": "large-waterproof",
   "metadata": {},
   "outputs": [],
   "source": [
    "rfc = RandomForestClassifier(max_depth=5) # max_depth chosen based on graph above\n",
    "\n",
    "def random_forest(X_train, X_val, y_train, y_val, preproc):\n",
    "    rfc_bow = Pipeline([\n",
    "        ('bow', CountVectorizer(analyzer=preproc, ngram_range=(1,1))),  # strings to token integer counts\n",
    "        ('classifier', rfc),  # train on TF-IDF vectors w/ LinearSVC classifier\n",
    "    ])\n",
    "\n",
    "    rfc_bow.fit(X_train, y_train)\n",
    "    result_val1 = rfc_bow.predict(X_val)\n",
    "    print('BOW')\n",
    "    print(confusion_matrix(y_val, result_val1))\n",
    "    f1_bow = f1_score(y_val, result_val1, average='weighted')\n",
    "    \n",
    "    rfc_tfidf = Pipeline([\n",
    "        ('bow', CountVectorizer(analyzer=preproc, ngram_range=(1,1))),\n",
    "        ('tfidf', TfidfTransformer()),  # integer counts to weighted TF-IDF scores\n",
    "        ('classifier', rfc),\n",
    "    ])\n",
    "    \n",
    "    rfc_tfidf.fit(X_train, y_train)\n",
    "    result_val2 = rfc_tfidf.predict(X_val)\n",
    "    print('TF-IDF')\n",
    "    print(confusion_matrix(y_val, result_val2))\n",
    "    f1_tfidf = f1_score(y_val, result_val2, average='weighted')\n",
    "    \n",
    "    return f1_bow, f1_tfidf, rfc_bow, rfc_tfidf\n",
    "    "
   ]
  },
  {
   "cell_type": "code",
   "execution_count": 38,
   "id": "healthy-moral",
   "metadata": {
    "scrolled": true
   },
   "outputs": [
    {
     "name": "stdout",
     "output_type": "stream",
     "text": [
      "UNBALANCED\n",
      "BOW\n",
      "[[1056    0]\n",
      " [ 288    0]]\n",
      "TF-IDF\n",
      "[[1056    0]\n",
      " [ 288    0]]\n",
      "[[1067    0]\n",
      " [ 278    0]]\n",
      "[[1067    0]\n",
      " [ 278    0]]\n",
      "BOW\n",
      "[[1056    0]\n",
      " [ 288    0]]\n",
      "TF-IDF\n",
      "[[1056    0]\n",
      " [ 288    0]]\n",
      "[[1067    0]\n",
      " [ 278    0]]\n",
      "[[1067    0]\n",
      " [ 278    0]]\n",
      "BOW\n",
      "[[1056    0]\n",
      " [ 288    0]]\n",
      "TF-IDF\n",
      "[[1056    0]\n",
      " [ 288    0]]\n",
      "[[1067    0]\n",
      " [ 278    0]]\n",
      "[[1067    0]\n",
      " [ 278    0]]\n",
      "BOW\n",
      "[[1056    0]\n",
      " [ 288    0]]\n",
      "TF-IDF\n",
      "[[1056    0]\n",
      " [ 288    0]]\n",
      "[[1067    0]\n",
      " [ 278    0]]\n",
      "[[1067    0]\n",
      " [ 278    0]]\n",
      "UNDERSAMPLING\n",
      "BOW\n",
      "[[214  70]\n",
      " [ 85 204]]\n",
      "TF-IDF\n",
      "[[215  69]\n",
      " [ 97 192]]\n",
      "[[203  98]\n",
      " [ 65 207]]\n",
      "[[237  64]\n",
      " [ 88 184]]\n",
      "BOW\n",
      "[[239  45]\n",
      " [ 94 195]]\n",
      "TF-IDF\n",
      "[[228  56]\n",
      " [108 181]]\n",
      "[[227  74]\n",
      " [ 78 194]]\n",
      "[[245  56]\n",
      " [ 96 176]]\n",
      "BOW\n",
      "[[216  68]\n",
      " [ 76 213]]\n",
      "TF-IDF\n",
      "[[220  64]\n",
      " [ 82 207]]\n",
      "[[199 102]\n",
      " [ 66 206]]\n",
      "[[238  63]\n",
      " [ 81 191]]\n",
      "BOW\n",
      "[[239  45]\n",
      " [ 96 193]]\n",
      "TF-IDF\n",
      "[[205  79]\n",
      " [ 66 223]]\n",
      "[[203  98]\n",
      " [ 47 225]]\n",
      "[[229  72]\n",
      " [ 63 209]]\n",
      "REPEATING\n",
      "BOW\n",
      "[[983  69]\n",
      " [430 634]]\n",
      "TF-IDF\n",
      "[[882 170]\n",
      " [351 713]]\n",
      "[[790 279]\n",
      " [282 765]]\n",
      "[[881 188]\n",
      " [356 691]]\n",
      "BOW\n",
      "[[940 112]\n",
      " [353 711]]\n",
      "TF-IDF\n",
      "[[955  97]\n",
      " [379 685]]\n",
      "[[884 185]\n",
      " [320 727]]\n",
      "[[940 129]\n",
      " [360 687]]\n",
      "BOW\n",
      "[[957  95]\n",
      " [422 642]]\n",
      "TF-IDF\n",
      "[[910 142]\n",
      " [342 722]]\n",
      "[[831 238]\n",
      " [284 763]]\n",
      "[[879 190]\n",
      " [336 711]]\n",
      "BOW\n",
      "[[920 132]\n",
      " [341 723]]\n",
      "TF-IDF\n",
      "[[935 117]\n",
      " [347 717]]\n",
      "[[844 225]\n",
      " [275 772]]\n",
      "[[915 154]\n",
      " [331 716]]\n",
      "TRANSLATION\n",
      "BOW\n",
      "[[912 172]\n",
      " [388 637]]\n",
      "TF-IDF\n",
      "[[949 135]\n",
      " [475 550]]\n",
      "[[827 199]\n",
      " [387 696]]\n",
      "[[901 125]\n",
      " [466 617]]\n",
      "BOW\n",
      "[[926 158]\n",
      " [422 603]]\n",
      "TF-IDF\n",
      "[[950 134]\n",
      " [432 593]]\n",
      "[[849 177]\n",
      " [413 670]]\n",
      "[[881 145]\n",
      " [441 642]]\n",
      "BOW\n",
      "[[906 178]\n",
      " [383 642]]\n",
      "TF-IDF\n",
      "[[895 189]\n",
      " [387 638]]\n",
      "[[800 226]\n",
      " [385 698]]\n",
      "[[833 193]\n",
      " [397 686]]\n",
      "BOW\n",
      "[[931 153]\n",
      " [420 605]]\n",
      "TF-IDF\n",
      "[[892 192]\n",
      " [351 674]]\n",
      "[[782 244]\n",
      " [333 750]]\n",
      "[[833 193]\n",
      " [346 737]]\n"
     ]
    }
   ],
   "source": [
    "print('UNBALANCED')\n",
    "f1_val[0][0], f1_val[0][1], rfc_bow_unb1, rfc_tfidf_unb1 = random_forest(X_train_unb, X_val_unb, y_train_unb, y_val_unb, preprocessing1)\n",
    "f1_test[0][0] = predict_test(X_test_unb, y_test_unb, rfc_bow_unb1)\n",
    "f1_test[0][1] = predict_test(X_test_unb, y_test_unb, rfc_tfidf_unb1)\n",
    "\n",
    "f1_val[3][0], f1_val[3][1], rfc_bow_unb2, rfc_tfidf_unb2 = random_forest(X_train_unb, X_val_unb, y_train_unb, y_val_unb, preprocessing2)\n",
    "f1_test[3][0] = predict_test(X_test_unb, y_test_unb, rfc_bow_unb2)\n",
    "f1_test[3][1] = predict_test(X_test_unb, y_test_unb, rfc_tfidf_unb2)\n",
    "\n",
    "f1_val[6][0], f1_val[6][1], rfc_bow_unb3, rfc_tfidf_unb3 = random_forest(X_train_unb, X_val_unb, y_train_unb, y_val_unb, preprocessing3)\n",
    "f1_test[6][0] = predict_test(X_test_unb, y_test_unb, rfc_bow_unb3)\n",
    "f1_test[6][1] = predict_test(X_test_unb, y_test_unb, rfc_tfidf_unb3)\n",
    "\n",
    "f1_val[9][0], f1_val[9][1], rfc_bow_unb4, rfc_tfidf_unb4 = random_forest(X_train_unb, X_val_unb, y_train_unb, y_val_unb, preprocessing4)\n",
    "f1_test[9][0] = predict_test(X_test_unb, y_test_unb, rfc_bow_unb4)\n",
    "f1_test[9][1] = predict_test(X_test_unb, y_test_unb, rfc_tfidf_unb4)\n",
    "\n",
    "\n",
    "print('UNDERSAMPLING')\n",
    "f1_val[0][2], f1_val[0][3], rfc_bow_und1, rfc_tfidf_und1 = random_forest(X_train_und, X_val_und, y_train_und, y_val_und, preprocessing1)\n",
    "f1_test[0][2] = predict_test(X_test_und, y_test_und, rfc_bow_und1)\n",
    "f1_test[0][3] = predict_test(X_test_und, y_test_und, rfc_tfidf_und1)\n",
    "\n",
    "f1_val[3][2], f1_val[3][3], rfc_bow_und2, rfc_tfidf_und2 = random_forest(X_train_und, X_val_und, y_train_und, y_val_und, preprocessing2)\n",
    "f1_test[3][2] = predict_test(X_test_und, y_test_und, rfc_bow_und2)\n",
    "f1_test[3][3] = predict_test(X_test_und, y_test_und, rfc_tfidf_und2)\n",
    "\n",
    "f1_val[6][2], f1_val[6][3], rfc_bow_und3, rfc_tfidf_und3 = random_forest(X_train_und, X_val_und, y_train_und, y_val_und, preprocessing3)\n",
    "f1_test[6][2] = predict_test(X_test_und, y_test_und, rfc_bow_und3)\n",
    "f1_test[6][3] = predict_test(X_test_und, y_test_und, rfc_tfidf_und3)\n",
    "\n",
    "f1_val[9][2], f1_val[9][3], rfc_bow_und4, rfc_tfidf_und4 = random_forest(X_train_und, X_val_und, y_train_und, y_val_und, preprocessing4)\n",
    "f1_test[9][2] = predict_test(X_test_und, y_test_und, rfc_bow_und4)\n",
    "f1_test[9][3] = predict_test(X_test_und, y_test_und, rfc_tfidf_und4)\n",
    "\n",
    "\n",
    "print('REPEATING')\n",
    "f1_val[0][4], f1_val[0][5], rfc_bow_rep1, rfc_tfidf_rep1 = random_forest(X_train_rep, X_val_rep, y_train_rep, y_val_rep, preprocessing1)\n",
    "f1_test[0][4] = predict_test(X_test_rep, y_test_rep, rfc_bow_rep1)\n",
    "f1_test[0][5] = predict_test(X_test_rep, y_test_rep, rfc_tfidf_rep1)\n",
    "\n",
    "f1_val[3][4], f1_val[3][5], rfc_bow_rep2, rfc_tfidf_rep2 = random_forest(X_train_rep, X_val_rep, y_train_rep, y_val_rep, preprocessing2)\n",
    "f1_test[3][4] = predict_test(X_test_rep, y_test_rep, rfc_bow_rep2)\n",
    "f1_test[3][5] = predict_test(X_test_rep, y_test_rep, rfc_tfidf_rep2)\n",
    "\n",
    "f1_val[6][4], f1_val[6][5], rfc_bow_rep3, rfc_tfidf_rep3 = random_forest(X_train_rep, X_val_rep, y_train_rep, y_val_rep, preprocessing3)\n",
    "f1_test[6][4] = predict_test(X_test_rep, y_test_rep, rfc_bow_rep3)\n",
    "f1_test[6][5] = predict_test(X_test_rep, y_test_rep, rfc_tfidf_rep3)\n",
    "\n",
    "f1_val[9][4], f1_val[9][5], rfc_bow_rep4, rfc_tfidf_rep4 = random_forest(X_train_rep, X_val_rep, y_train_rep, y_val_rep, preprocessing4)\n",
    "f1_test[9][4] = predict_test(X_test_rep, y_test_rep, rfc_bow_rep4)\n",
    "f1_test[9][5] = predict_test(X_test_rep, y_test_rep, rfc_tfidf_rep4)\n",
    "\n",
    "print('TRANSLATION')\n",
    "f1_val[0][6], f1_val[0][7], rfc_bow_tra1, rfc_tfidf_tra1 = random_forest(X_train_tra, X_val_tra, y_train_tra, y_val_tra, preprocessing1)\n",
    "f1_test[0][6] = predict_test(X_test_tra, y_test_tra, rfc_bow_tra1)\n",
    "f1_test[0][7] = predict_test(X_test_tra, y_test_tra, rfc_tfidf_tra1)\n",
    "\n",
    "f1_val[3][6], f1_val[3][7], rfc_bow_tra2, rfc_tfidf_tra2 = random_forest(X_train_tra, X_val_tra, y_train_tra, y_val_tra, preprocessing2)\n",
    "f1_test[3][6] = predict_test(X_test_tra, y_test_tra, rfc_bow_tra2)\n",
    "f1_test[3][7] = predict_test(X_test_tra, y_test_tra, rfc_tfidf_tra2)\n",
    "\n",
    "f1_val[6][6], f1_val[6][7], rfc_bow_tra3, rfc_tfidf_tra3 = random_forest(X_train_tra, X_val_tra, y_train_tra, y_val_tra, preprocessing3)\n",
    "f1_test[6][6] = predict_test(X_test_tra, y_test_tra, rfc_bow_tra3)\n",
    "f1_test[6][7] = predict_test(X_test_tra, y_test_tra, rfc_tfidf_tra3)\n",
    "\n",
    "f1_val[9][6], f1_val[9][7], rfc_bow_tra4, rfc_tfidf_tra4 = random_forest(X_train_tra, X_val_tra, y_train_tra, y_val_tra, preprocessing4)\n",
    "f1_test[9][6] = predict_test(X_test_tra, y_test_tra, rfc_bow_tra4)\n",
    "f1_test[9][7] = predict_test(X_test_tra, y_test_tra, rfc_tfidf_tra4)\n"
   ]
  },
  {
   "cell_type": "markdown",
   "id": "separate-photographer",
   "metadata": {},
   "source": [
    "#### 5.2.2 MultinomialNB"
   ]
  },
  {
   "cell_type": "code",
   "execution_count": 39,
   "id": "reverse-insert",
   "metadata": {},
   "outputs": [],
   "source": [
    "alpha_values = range(1, 11)\n",
    "def multinomial_nb_eval(data):\n",
    "    train_scores = []\n",
    "    val_scores = []\n",
    "    for i in alpha_values:\n",
    "        clf = MultinomialNB(alpha=i)\n",
    "        pipeline = Pipeline([\n",
    "                            ('bow', CountVectorizer(analyzer=preprocessing4, ngram_range=(1,1))),  # strings to token integer counts\n",
    "                            ('tfidf', TfidfTransformer()),  # integer counts to weighted TF-IDF scores\n",
    "                            ('classifier', clf) # train on TF-IDF vectors w/ LinearSVC classifier\n",
    "                            ])\n",
    "        \n",
    "        pipeline.fit(data[0], data[2])\n",
    "        \n",
    "        train_predict = pipeline.predict(data[0])\n",
    "        train_f1 = f1_score(data[2], train_predict, average='weighted')\n",
    "        train_scores.append(train_f1)\n",
    "        \n",
    "        val_predict = pipeline.predict(data[1])\n",
    "        val_f1 = f1_score(data[3], val_predict, average='weighted')\n",
    "        val_scores.append(val_f1)  \n",
    "        \n",
    "    return [train_scores, val_scores]"
   ]
  },
  {
   "cell_type": "code",
   "execution_count": 40,
   "id": "pharmaceutical-vaccine",
   "metadata": {},
   "outputs": [],
   "source": [
    "scores_data3_unbalanced = multinomial_nb_eval([X_train_unb, X_val_unb, y_train_unb, y_val_unb])\n",
    "scores_data3_balanced_translate = multinomial_nb_eval([X_train_tra, X_val_tra, y_train_tra, y_val_tra])\n",
    "scores_data3_balanced_repeating = multinomial_nb_eval([X_train_rep, X_val_rep, y_train_rep, y_val_rep])\n",
    "scores_data3_balanced_undersampl = multinomial_nb_eval([X_train_und, X_val_und, y_train_und, y_val_und])"
   ]
  },
  {
   "cell_type": "code",
   "execution_count": 41,
   "id": "complicated-think",
   "metadata": {},
   "outputs": [
    {
     "data": {
      "image/png": "[encoded data removed]",
      "text/plain": [
       "<Figure size 640x480 with 4 Axes>"
      ]
     },
     "metadata": {},
     "output_type": "display_data"
    }
   ],
   "source": [
    "fig, axs = plt.subplots(2, 2)\n",
    "axs[0, 0].plot(alpha_values, scores_data3_unbalanced[0], '-o', label='Train')\n",
    "axs[0, 0].plot(alpha_values, scores_data3_unbalanced[1], '-d', label='Test')\n",
    "axs[0, 0].set_title('Unbalanced data')\n",
    "axs[0, 1].plot(alpha_values, scores_data3_balanced_translate[0], '-o', label='Train')\n",
    "axs[0, 1].plot(alpha_values, scores_data3_balanced_translate[1], '-d', label='Test')\n",
    "axs[0, 1].set_title('Balanced data translation')\n",
    "axs[1, 0].plot(alpha_values, scores_data3_balanced_repeating[0], '-o', label='Train')\n",
    "axs[1, 0].plot(alpha_values, scores_data3_balanced_repeating[1], '-d', label='Test')\n",
    "axs[1, 0].set_title('Balanced data repeating')\n",
    "axs[1, 1].plot(alpha_values, scores_data3_balanced_undersampl[0], '-o', label='Train')\n",
    "axs[1, 1].plot(alpha_values, scores_data3_balanced_undersampl[1], '-d', label='Test')\n",
    "axs[1, 1].set_title('Balanced data undersampling')\n",
    "\n",
    "for ax in axs.flat:\n",
    "    ax.set(xlabel='alpha_values', ylabel='F1-score (weighted)')\n",
    "\n",
    "plt.subplots_adjust(hspace=0.7, wspace = 0.5)\n",
    "\n",
    "plt.show()"
   ]
  },
  {
   "cell_type": "code",
   "execution_count": 42,
   "id": "confidential-insert",
   "metadata": {},
   "outputs": [],
   "source": [
    "mnb = MultinomialNB(alpha=2) # alpha chosen based on graph above\n",
    "\n",
    "def multinomial_nb(X_train, X_val, y_train, y_val, preproc):\n",
    "    mnb_bow = Pipeline([\n",
    "        ('bow', CountVectorizer(analyzer=preproc, ngram_range=(1,1))),  # strings to token integer counts\n",
    "        ('classifier', mnb),  # train on TF-IDF vectors w/ LinearSVC classifier\n",
    "    ])\n",
    "\n",
    "    mnb_bow.fit(X_train, y_train)\n",
    "    result_val1 = mnb_bow.predict(X_val)\n",
    "    print('BOW')\n",
    "    print(confusion_matrix(y_val, result_val1))\n",
    "    f1_bow = f1_score(y_val, result_val1, average='weighted')\n",
    "    \n",
    "    mnb_tfidf = Pipeline([\n",
    "        ('bow', CountVectorizer(analyzer=preproc, ngram_range=(1,1))),  # strings to token integer counts\n",
    "        ('tfidf', TfidfTransformer()),  # integer counts to weighted TF-IDF scores\n",
    "        ('classifier', mnb),  # train on TF-IDF vectors w/ LinearSVC classifier\n",
    "    ])\n",
    "    \n",
    "    mnb_tfidf.fit(X_train, y_train)\n",
    "    result_val2 = mnb_tfidf.predict(X_val)\n",
    "    print('TF-IDF')\n",
    "    print(confusion_matrix(y_val, result_val2))\n",
    "    f1_tfidf = f1_score(y_val, result_val2, average='weighted')\n",
    "    \n",
    "    return f1_bow, f1_tfidf, mnb_bow, mnb_tfidf"
   ]
  },
  {
   "cell_type": "code",
   "execution_count": 43,
   "id": "solid-factory",
   "metadata": {},
   "outputs": [
    {
     "name": "stdout",
     "output_type": "stream",
     "text": [
      "UNBALANCED\n",
      "BOW\n",
      "[[1036   20]\n",
      " [ 186  102]]\n",
      "TF-IDF\n",
      "[[1055    1]\n",
      " [ 277   11]]\n",
      "[[1060    7]\n",
      " [ 217   61]]\n",
      "[[1067    0]\n",
      " [ 268   10]]\n",
      "BOW\n",
      "[[1035   21]\n",
      " [ 188  100]]\n",
      "TF-IDF\n",
      "[[1055    1]\n",
      " [ 279    9]]\n",
      "[[1060    7]\n",
      " [ 219   59]]\n",
      "[[1067    0]\n",
      " [ 270    8]]\n",
      "BOW\n",
      "[[1031   25]\n",
      " [ 209   79]]\n",
      "TF-IDF\n",
      "[[1056    0]\n",
      " [ 283    5]]\n",
      "[[1059    8]\n",
      " [ 241   37]]\n",
      "[[1067    0]\n",
      " [ 278    0]]\n",
      "BOW\n",
      "[[1035   21]\n",
      " [ 190   98]]\n",
      "TF-IDF\n",
      "[[1055    1]\n",
      " [ 279    9]]\n",
      "[[1060    7]\n",
      " [ 220   58]]\n",
      "[[1067    0]\n",
      " [ 270    8]]\n",
      "UNDERSAMPLING\n",
      "BOW\n",
      "[[171 113]\n",
      " [ 38 251]]\n",
      "TF-IDF\n",
      "[[159 125]\n",
      " [ 26 263]]\n",
      "[[158 143]\n",
      " [ 29 243]]\n",
      "[[173 128]\n",
      " [ 31 241]]\n",
      "BOW\n",
      "[[172 112]\n",
      " [ 40 249]]\n",
      "TF-IDF\n",
      "[[158 126]\n",
      " [ 33 256]]\n",
      "[[176 125]\n",
      " [ 33 239]]\n",
      "[[181 120]\n",
      " [ 34 238]]\n",
      "BOW\n",
      "[[171 113]\n",
      " [ 34 255]]\n",
      "TF-IDF\n",
      "[[157 127]\n",
      " [ 22 267]]\n",
      "[[156 145]\n",
      " [ 24 248]]\n",
      "[[169 132]\n",
      " [ 26 246]]\n",
      "BOW\n",
      "[[173 111]\n",
      " [ 39 250]]\n",
      "TF-IDF\n",
      "[[157 127]\n",
      " [ 32 257]]\n",
      "[[177 124]\n",
      " [ 33 239]]\n",
      "[[184 117]\n",
      " [ 34 238]]\n",
      "REPEATING\n",
      "BOW\n",
      "[[ 791  261]\n",
      " [  55 1009]]\n",
      "TF-IDF\n",
      "[[ 744  308]\n",
      " [  48 1016]]\n",
      "[[ 643  426]\n",
      " [  43 1004]]\n",
      "[[699 370]\n",
      " [ 50 997]]\n",
      "BOW\n",
      "[[799 253]\n",
      " [ 67 997]]\n",
      "TF-IDF\n",
      "[[ 760  292]\n",
      " [  51 1013]]\n",
      "[[ 663  406]\n",
      " [  45 1002]]\n",
      "[[723 346]\n",
      " [ 56 991]]\n",
      "BOW\n",
      "[[ 774  278]\n",
      " [  49 1015]]\n",
      "TF-IDF\n",
      "[[ 725  327]\n",
      " [  47 1017]]\n",
      "[[ 610  459]\n",
      " [  34 1013]]\n",
      "[[684 385]\n",
      " [ 49 998]]\n",
      "BOW\n",
      "[[795 257]\n",
      " [ 67 997]]\n",
      "TF-IDF\n",
      "[[ 756  296]\n",
      " [  53 1011]]\n",
      "[[ 657  412]\n",
      " [  45 1002]]\n",
      "[[724 345]\n",
      " [ 60 987]]\n",
      "TRANSLATION\n",
      "BOW\n",
      "[[788 296]\n",
      " [100 925]]\n",
      "TF-IDF\n",
      "[[772 312]\n",
      " [ 92 933]]\n",
      "[[690 336]\n",
      " [ 86 997]]\n",
      "[[726 300]\n",
      " [ 93 990]]\n",
      "BOW\n",
      "[[812 272]\n",
      " [125 900]]\n",
      "TF-IDF\n",
      "[[773 311]\n",
      " [114 911]]\n",
      "[[681 345]\n",
      " [ 98 985]]\n",
      "[[730 296]\n",
      " [108 975]]\n",
      "BOW\n",
      "[[770 314]\n",
      " [ 93 932]]\n",
      "TF-IDF\n",
      "[[755 329]\n",
      " [ 92 933]]\n",
      "[[ 661  365]\n",
      " [  82 1001]]\n",
      "[[708 318]\n",
      " [ 93 990]]\n",
      "BOW\n",
      "[[810 274]\n",
      " [121 904]]\n",
      "TF-IDF\n",
      "[[774 310]\n",
      " [111 914]]\n",
      "[[673 353]\n",
      " [ 96 987]]\n",
      "[[723 303]\n",
      " [106 977]]\n"
     ]
    }
   ],
   "source": [
    "print('UNBALANCED')\n",
    "f1_val[1][0], f1_val[1][1], mnb_bow_unb1, mnb_tfidf_unb1 = multinomial_nb(X_train_unb, X_val_unb, y_train_unb, y_val_unb, preprocessing1)\n",
    "f1_test[1][0] = predict_test(X_test_unb, y_test_unb, mnb_bow_unb1)\n",
    "f1_test[1][1] = predict_test(X_test_unb, y_test_unb, mnb_tfidf_unb1)\n",
    "\n",
    "f1_val[4][0], f1_val[4][1], mnb_bow_unb2, mnb_tfidf_unb2 = multinomial_nb(X_train_unb, X_val_unb, y_train_unb, y_val_unb, preprocessing2)\n",
    "f1_test[4][0] = predict_test(X_test_unb, y_test_unb, mnb_bow_unb2)\n",
    "f1_test[4][1] = predict_test(X_test_unb, y_test_unb, mnb_tfidf_unb2)\n",
    "\n",
    "f1_val[7][0], f1_val[7][1], mnb_bow_unb3, mnb_tfidf_unb3 = multinomial_nb(X_train_unb, X_val_unb, y_train_unb, y_val_unb, preprocessing3)\n",
    "f1_test[7][0] = predict_test(X_test_unb, y_test_unb, mnb_bow_unb3)\n",
    "f1_test[7][1] = predict_test(X_test_unb, y_test_unb, mnb_tfidf_unb3)\n",
    "\n",
    "f1_val[10][0], f1_val[10][1], mnb_bow_unb4, mnb_tfidf_unb4 = multinomial_nb(X_train_unb, X_val_unb, y_train_unb, y_val_unb, preprocessing4)\n",
    "f1_test[10][0] = predict_test(X_test_unb, y_test_unb, mnb_bow_unb4)\n",
    "f1_test[10][1] = predict_test(X_test_unb, y_test_unb, mnb_tfidf_unb4)\n",
    "\n",
    "\n",
    "print('UNDERSAMPLING')\n",
    "f1_val[1][2], f1_val[1][3], mnb_bow_und1, mnb_tfidf_und1 = multinomial_nb(X_train_und, X_val_und, y_train_und, y_val_und, preprocessing1)\n",
    "f1_test[1][2] = predict_test(X_test_und, y_test_und, mnb_bow_und1)\n",
    "f1_test[1][3] = predict_test(X_test_und, y_test_und, mnb_tfidf_und1)\n",
    "\n",
    "f1_val[4][2], f1_val[4][3], mnb_bow_und2, mnb_tfidf_und2 = multinomial_nb(X_train_und, X_val_und, y_train_und, y_val_und, preprocessing2)\n",
    "f1_test[4][2] = predict_test(X_test_und, y_test_und, mnb_bow_und2)\n",
    "f1_test[4][3] = predict_test(X_test_und, y_test_und, mnb_tfidf_und2)\n",
    "\n",
    "f1_val[7][2], f1_val[7][3], mnb_bow_und3, mnb_tfidf_und3 = multinomial_nb(X_train_und, X_val_und, y_train_und, y_val_und, preprocessing3)\n",
    "f1_test[7][2] = predict_test(X_test_und, y_test_und, mnb_bow_und3)\n",
    "f1_test[7][3] = predict_test(X_test_und, y_test_und, mnb_tfidf_und3)\n",
    "\n",
    "f1_val[10][2], f1_val[10][3], mnb_bow_und4, mnb_tfidf_und4 = multinomial_nb(X_train_und, X_val_und, y_train_und, y_val_und, preprocessing4)\n",
    "f1_test[10][2] = predict_test(X_test_und, y_test_und, mnb_bow_und4)\n",
    "f1_test[10][3] = predict_test(X_test_und, y_test_und, mnb_tfidf_und4)\n",
    "\n",
    "\n",
    "print('REPEATING')\n",
    "f1_val[1][4], f1_val[1][5], mnb_bow_rep1, mnb_tfidf_rep1 = multinomial_nb(X_train_rep, X_val_rep, y_train_rep, y_val_rep, preprocessing1)\n",
    "f1_test[1][4] = predict_test(X_test_rep, y_test_rep, mnb_bow_rep1)\n",
    "f1_test[1][5] = predict_test(X_test_rep, y_test_rep, mnb_tfidf_rep1)\n",
    "\n",
    "f1_val[4][4], f1_val[4][5], mnb_bow_rep2, mnb_tfidf_rep2 = multinomial_nb(X_train_rep, X_val_rep, y_train_rep, y_val_rep, preprocessing2)\n",
    "f1_test[4][4] = predict_test(X_test_rep, y_test_rep, mnb_bow_rep2)\n",
    "f1_test[4][5] = predict_test(X_test_rep, y_test_rep, mnb_tfidf_rep2)\n",
    "\n",
    "f1_val[7][4], f1_val[7][5], mnb_bow_rep3, mnb_tfidf_rep3 = multinomial_nb(X_train_rep, X_val_rep, y_train_rep, y_val_rep, preprocessing3)\n",
    "f1_test[7][4] = predict_test(X_test_rep, y_test_rep, mnb_bow_rep3)\n",
    "f1_test[7][5] = predict_test(X_test_rep, y_test_rep, mnb_tfidf_rep3)\n",
    "\n",
    "f1_val[10][4], f1_val[10][5], mnb_bow_rep4, mnb_tfidf_rep4 = multinomial_nb(X_train_rep, X_val_rep, y_train_rep, y_val_rep, preprocessing4)\n",
    "f1_test[10][4] = predict_test(X_test_rep, y_test_rep, mnb_bow_rep4)\n",
    "f1_test[10][5] = predict_test(X_test_rep, y_test_rep, mnb_tfidf_rep4)\n",
    "\n",
    "print('TRANSLATION')\n",
    "f1_val[1][6], f1_val[1][7], mnb_bow_tra1, mnb_tfidf_tra1 = multinomial_nb(X_train_tra, X_val_tra, y_train_tra, y_val_tra, preprocessing1)\n",
    "f1_test[1][6] = predict_test(X_test_tra, y_test_tra, mnb_bow_tra1)\n",
    "f1_test[1][7] = predict_test(X_test_tra, y_test_tra, mnb_tfidf_tra1)\n",
    "\n",
    "f1_val[4][6], f1_val[4][7], mnb_bow_tra2, mnb_tfidf_tra2 = multinomial_nb(X_train_tra, X_val_tra, y_train_tra, y_val_tra, preprocessing2)\n",
    "f1_test[4][6] = predict_test(X_test_tra, y_test_tra, mnb_bow_tra2)\n",
    "f1_test[4][7] = predict_test(X_test_tra, y_test_tra, mnb_tfidf_tra2)\n",
    "\n",
    "f1_val[7][6], f1_val[7][7], mnb_bow_tra3, mnb_tfidf_tra3 = multinomial_nb(X_train_tra, X_val_tra, y_train_tra, y_val_tra, preprocessing3)\n",
    "f1_test[7][6] = predict_test(X_test_tra, y_test_tra, mnb_bow_tra3)\n",
    "f1_test[7][7] = predict_test(X_test_tra, y_test_tra, mnb_tfidf_tra3)\n",
    "\n",
    "f1_val[10][6], f1_val[10][7], mnb_bow_tra4, mnb_tfidf_tra4 = multinomial_nb(X_train_tra, X_val_tra, y_train_tra, y_val_tra, preprocessing4)\n",
    "f1_test[10][6] = predict_test(X_test_tra, y_test_tra, mnb_bow_tra4)\n",
    "f1_test[10][7] = predict_test(X_test_tra, y_test_tra, mnb_tfidf_tra4)"
   ]
  },
  {
   "cell_type": "markdown",
   "id": "fallen-income",
   "metadata": {},
   "source": [
    "#### 5.2.3 LinearSVC"
   ]
  },
  {
   "cell_type": "code",
   "execution_count": 44,
   "id": "charitable-photographer",
   "metadata": {},
   "outputs": [],
   "source": [
    "param_C = np.logspace(-5, 4, 10)\n",
    "def linear_svc_eval(data):\n",
    "    train_scores = []\n",
    "    val_scores = []\n",
    "    for i in param_C:\n",
    "        clf = LinearSVC(C=i, max_iter=10000)\n",
    "        pipeline = Pipeline([\n",
    "                            ('bow', CountVectorizer(analyzer=preprocessing4, ngram_range=(1,1))),  # strings to token integer counts\n",
    "                            ('tfidf', TfidfTransformer()),  # integer counts to weighted TF-IDF scores\n",
    "                            ('classifier', clf) # train on TF-IDF vectors w/ LinearSVC classifier\n",
    "                            ])\n",
    "        \n",
    "        pipeline.fit(data[0], data[2])\n",
    "        \n",
    "        train_predict = pipeline.predict(data[0])\n",
    "        train_f1 = f1_score(data[2], train_predict, average='weighted')\n",
    "        train_scores.append(train_f1)\n",
    "        \n",
    "        val_predict = pipeline.predict(data[1])\n",
    "        val_f1 = f1_score(data[3], val_predict, average='weighted')\n",
    "        val_scores.append(val_f1)  \n",
    "        \n",
    "    return [train_scores, val_scores]"
   ]
  },
  {
   "cell_type": "code",
   "execution_count": 45,
   "id": "educational-bread",
   "metadata": {},
   "outputs": [
    {
     "name": "stderr",
     "output_type": "stream",
     "text": [
      "c:\\users\\acer\\onedrive\\documentos\\studies\\tcc\\hate_speech_detector\\venv\\lib\\site-packages\\sklearn\\svm\\_base.py:985: ConvergenceWarning: Liblinear failed to converge, increase the number of iterations.\n",
      "  warnings.warn(\"Liblinear failed to converge, increase \"\n",
      "c:\\users\\acer\\onedrive\\documentos\\studies\\tcc\\hate_speech_detector\\venv\\lib\\site-packages\\sklearn\\svm\\_base.py:985: ConvergenceWarning: Liblinear failed to converge, increase the number of iterations.\n",
      "  warnings.warn(\"Liblinear failed to converge, increase \"\n",
      "c:\\users\\acer\\onedrive\\documentos\\studies\\tcc\\hate_speech_detector\\venv\\lib\\site-packages\\sklearn\\svm\\_base.py:985: ConvergenceWarning: Liblinear failed to converge, increase the number of iterations.\n",
      "  warnings.warn(\"Liblinear failed to converge, increase \"\n",
      "c:\\users\\acer\\onedrive\\documentos\\studies\\tcc\\hate_speech_detector\\venv\\lib\\site-packages\\sklearn\\svm\\_base.py:985: ConvergenceWarning: Liblinear failed to converge, increase the number of iterations.\n",
      "  warnings.warn(\"Liblinear failed to converge, increase \"\n",
      "c:\\users\\acer\\onedrive\\documentos\\studies\\tcc\\hate_speech_detector\\venv\\lib\\site-packages\\sklearn\\svm\\_base.py:985: ConvergenceWarning: Liblinear failed to converge, increase the number of iterations.\n",
      "  warnings.warn(\"Liblinear failed to converge, increase \"\n",
      "c:\\users\\acer\\onedrive\\documentos\\studies\\tcc\\hate_speech_detector\\venv\\lib\\site-packages\\sklearn\\svm\\_base.py:985: ConvergenceWarning: Liblinear failed to converge, increase the number of iterations.\n",
      "  warnings.warn(\"Liblinear failed to converge, increase \"\n"
     ]
    }
   ],
   "source": [
    "scores_data3_unbalanced = linear_svc_eval([X_train_unb, X_val_unb, y_train_unb, y_val_unb])\n",
    "scores_data3_balanced_translate = linear_svc_eval([X_train_tra, X_val_tra, y_train_tra, y_val_tra])\n",
    "scores_data3_balanced_repeating = linear_svc_eval([X_train_rep, X_val_rep, y_train_rep, y_val_rep])\n",
    "scores_data3_balanced_undsampl = linear_svc_eval([X_train_und, X_val_und, y_train_und, y_val_und])"
   ]
  },
  {
   "cell_type": "code",
   "execution_count": 46,
   "id": "electronic-conditioning",
   "metadata": {},
   "outputs": [
    {
     "data": {
      "image/png": "[encoded data removed]",
      "text/plain": [
       "<Figure size 640x480 with 4 Axes>"
      ]
     },
     "metadata": {},
     "output_type": "display_data"
    }
   ],
   "source": [
    "fig, axs = plt.subplots(2, 2)\n",
    "axs[0, 0].plot(param_C, scores_data3_unbalanced[0], '-o', label='Train')\n",
    "axs[0, 0].plot(param_C, scores_data3_unbalanced[1], '-d', label='Test')\n",
    "axs[0, 0].set_title('Unbalanced data')\n",
    "axs[0, 1].plot(param_C, scores_data3_balanced_translate[0], '-o', label='Train')\n",
    "axs[0, 1].plot(param_C, scores_data3_balanced_translate[1], '-d', label='Test')\n",
    "axs[0, 1].set_title('Balanced data translation')\n",
    "axs[1, 0].plot(param_C, scores_data3_balanced_repeating[0], '-o', label='Train')\n",
    "axs[1, 0].plot(param_C, scores_data3_balanced_repeating[1], '-d', label='Test')\n",
    "axs[1, 0].set_title('Balanced data repeating')\n",
    "axs[1, 1].plot(param_C, scores_data3_balanced_undsampl[0], '-o', label='Train')\n",
    "axs[1, 1].plot(param_C, scores_data3_balanced_undsampl[1], '-d', label='Test')\n",
    "axs[1, 1].set_title('Balanced data undersampling')\n",
    "\n",
    "for ax in axs.flat:\n",
    "    ax.set(xlabel='param_C', ylabel='F1-score (weighted)')\n",
    "    ax.set_xscale('log')\n",
    "\n",
    "\n",
    "plt.subplots_adjust(hspace=0.7, wspace = 0.5)\n",
    "\n",
    "plt.show()"
   ]
  },
  {
   "cell_type": "code",
   "execution_count": 47,
   "id": "initial-force",
   "metadata": {},
   "outputs": [],
   "source": [
    "lsvc = LinearSVC(C=10**-2) # C chosen based on graph above\n",
    "\n",
    "def linearsvc(X_train, X_val, y_train, y_val, preproc):\n",
    "    lsvc_bow = Pipeline([\n",
    "        ('bow', CountVectorizer(analyzer=preproc, ngram_range=(1,1))),  # strings to token integer counts\n",
    "        ('classifier', lsvc),  # train on TF-IDF vectors w/ LinearSVC classifier\n",
    "    ])\n",
    "\n",
    "    lsvc_bow.fit(X_train, y_train)\n",
    "    result_val1 = lsvc_bow.predict(X_val)\n",
    "    print('BOW')\n",
    "    print(confusion_matrix(y_val, result_val1))\n",
    "    f1_bow = f1_score(y_val, result_val1, average='weighted')\n",
    "    \n",
    "    lsvc_tfidf = Pipeline([\n",
    "        ('bow', CountVectorizer(analyzer=preproc, ngram_range=(1,1))),  # strings to token integer counts\n",
    "        ('tfidf', TfidfTransformer()),  # integer counts to weighted TF-IDF scores\n",
    "        ('classifier', lsvc),  # train on TF-IDF vectors w/ LinearSVC classifier\n",
    "    ])\n",
    "    \n",
    "    lsvc_tfidf.fit(X_train, y_train)\n",
    "    result_val2 = lsvc_tfidf.predict(X_val)\n",
    "    print('TF-IDF')\n",
    "    print(confusion_matrix(y_val, result_val2))\n",
    "    f1_tfidf = f1_score(y_val, result_val2, average='weighted')\n",
    "    \n",
    "    return f1_bow, f1_tfidf, lsvc_tfidf, lsvc_tfidf"
   ]
  },
  {
   "cell_type": "code",
   "execution_count": 48,
   "id": "congressional-australian",
   "metadata": {},
   "outputs": [
    {
     "name": "stdout",
     "output_type": "stream",
     "text": [
      "UNBALANCED\n",
      "BOW\n",
      "[[1042   14]\n",
      " [ 183  105]]\n",
      "TF-IDF\n",
      "[[1056    0]\n",
      " [ 285    3]]\n",
      "[[1067    0]\n",
      " [ 277    1]]\n",
      "[[1067    0]\n",
      " [ 277    1]]\n",
      "BOW\n",
      "[[1043   13]\n",
      " [ 185  103]]\n",
      "TF-IDF\n",
      "[[1056    0]\n",
      " [ 285    3]]\n",
      "[[1067    0]\n",
      " [ 273    5]]\n",
      "[[1067    0]\n",
      " [ 273    5]]\n",
      "BOW\n",
      "[[1030   26]\n",
      " [ 192   96]]\n",
      "TF-IDF\n",
      "[[1054    2]\n",
      " [ 271   17]]\n",
      "[[1062    5]\n",
      " [ 262   16]]\n",
      "[[1062    5]\n",
      " [ 262   16]]\n",
      "BOW\n",
      "[[1043   13]\n",
      " [ 184  104]]\n",
      "TF-IDF\n",
      "[[1056    0]\n",
      " [ 284    4]]\n",
      "[[1067    0]\n",
      " [ 273    5]]\n",
      "[[1067    0]\n",
      " [ 273    5]]\n",
      "UNDERSAMPLING\n",
      "BOW\n",
      "[[254  30]\n",
      " [110 179]]\n",
      "TF-IDF\n",
      "[[236  48]\n",
      " [ 83 206]]\n",
      "[[242  59]\n",
      " [ 80 192]]\n",
      "[[242  59]\n",
      " [ 80 192]]\n",
      "BOW\n",
      "[[250  34]\n",
      " [ 91 198]]\n",
      "TF-IDF\n",
      "[[233  51]\n",
      " [ 78 211]]\n",
      "[[242  59]\n",
      " [ 74 198]]\n",
      "[[242  59]\n",
      " [ 74 198]]\n",
      "BOW\n",
      "[[249  35]\n",
      " [103 186]]\n",
      "TF-IDF\n",
      "[[245  39]\n",
      " [101 188]]\n",
      "[[265  36]\n",
      " [ 95 177]]\n",
      "[[265  36]\n",
      " [ 95 177]]\n",
      "BOW\n",
      "[[247  37]\n",
      " [ 87 202]]\n",
      "TF-IDF\n",
      "[[230  54]\n",
      " [ 80 209]]\n",
      "[[243  58]\n",
      " [ 76 196]]\n",
      "[[243  58]\n",
      " [ 76 196]]\n",
      "REPEATING\n",
      "BOW\n",
      "[[987  65]\n",
      " [258 806]]\n",
      "TF-IDF\n",
      "[[981  71]\n",
      " [405 659]]\n",
      "[[963 106]\n",
      " [378 669]]\n",
      "[[963 106]\n",
      " [378 669]]\n",
      "BOW\n",
      "[[960  92]\n",
      " [251 813]]\n",
      "TF-IDF\n",
      "[[966  86]\n",
      " [334 730]]\n",
      "[[952 117]\n",
      " [313 734]]\n",
      "[[952 117]\n",
      " [313 734]]\n",
      "BOW\n",
      "[[959  93]\n",
      " [254 810]]\n",
      "TF-IDF\n",
      "[[970  82]\n",
      " [405 659]]\n",
      "[[944 125]\n",
      " [384 663]]\n",
      "[[944 125]\n",
      " [384 663]]\n",
      "BOW\n",
      "[[955  97]\n",
      " [244 820]]\n",
      "TF-IDF\n",
      "[[962  90]\n",
      " [341 723]]\n",
      "[[953 116]\n",
      " [323 724]]\n",
      "[[953 116]\n",
      " [323 724]]\n",
      "TRANSLATION\n",
      "BOW\n",
      "[[965 119]\n",
      " [297 728]]\n",
      "TF-IDF\n",
      "[[951 133]\n",
      " [364 661]]\n",
      "[[886 140]\n",
      " [355 728]]\n",
      "[[886 140]\n",
      " [355 728]]\n",
      "BOW\n",
      "[[948 136]\n",
      " [286 739]]\n",
      "TF-IDF\n",
      "[[962 122]\n",
      " [366 659]]\n",
      "[[891 135]\n",
      " [360 723]]\n",
      "[[891 135]\n",
      " [360 723]]\n",
      "BOW\n",
      "[[939 145]\n",
      " [291 734]]\n",
      "TF-IDF\n",
      "[[940 144]\n",
      " [399 626]]\n",
      "[[890 136]\n",
      " [415 668]]\n",
      "[[890 136]\n",
      " [415 668]]\n",
      "BOW\n",
      "[[944 140]\n",
      " [287 738]]\n",
      "TF-IDF\n",
      "[[962 122]\n",
      " [364 661]]\n",
      "[[886 140]\n",
      " [364 719]]\n",
      "[[886 140]\n",
      " [364 719]]\n"
     ]
    }
   ],
   "source": [
    "print('UNBALANCED')\n",
    "f1_val[2][0], f1_val[2][1], lsvc_bow_unb1, lsvc_tfidf_unb1 = linearsvc(X_train_unb, X_val_unb, y_train_unb, y_val_unb, preprocessing1)\n",
    "f1_test[2][0] = predict_test(X_test_unb, y_test_unb, lsvc_bow_unb1)\n",
    "f1_test[2][1] = predict_test(X_test_unb, y_test_unb, lsvc_tfidf_unb1)\n",
    "\n",
    "f1_val[5][0], f1_val[5][1], lsvc_bow_unb2, lsvc_tfidf_unb2 = linearsvc(X_train_unb, X_val_unb, y_train_unb, y_val_unb, preprocessing2)\n",
    "f1_test[5][0] = predict_test(X_test_unb, y_test_unb, lsvc_bow_unb2)\n",
    "f1_test[5][1] = predict_test(X_test_unb, y_test_unb, lsvc_tfidf_unb2)\n",
    "\n",
    "f1_val[8][0], f1_val[8][1], lsvc_bow_unb3, lsvc_tfidf_unb3 = linearsvc(X_train_unb, X_val_unb, y_train_unb, y_val_unb, preprocessing3)\n",
    "f1_test[8][0] = predict_test(X_test_unb, y_test_unb, lsvc_bow_unb3)\n",
    "f1_test[8][1] = predict_test(X_test_unb, y_test_unb, lsvc_tfidf_unb3)\n",
    "\n",
    "f1_val[11][0], f1_val[11][1], lsvc_bow_unb4, lsvc_tfidf_unb4 = linearsvc(X_train_unb, X_val_unb, y_train_unb, y_val_unb, preprocessing4)\n",
    "f1_test[11][0] = predict_test(X_test_unb, y_test_unb, lsvc_bow_unb4)\n",
    "f1_test[11][1] = predict_test(X_test_unb, y_test_unb, lsvc_tfidf_unb4)\n",
    "\n",
    "\n",
    "print('UNDERSAMPLING')\n",
    "f1_val[2][2], f1_val[2][3], lsvc_bow_und1, lsvc_tfidf_und1 = linearsvc(X_train_und, X_val_und, y_train_und, y_val_und, preprocessing1)\n",
    "f1_test[2][2] = predict_test(X_test_und, y_test_und, lsvc_bow_und1)\n",
    "f1_test[2][3] = predict_test(X_test_und, y_test_und, lsvc_tfidf_und1)\n",
    "\n",
    "f1_val[5][2], f1_val[5][3], lsvc_bow_und2, lsvc_tfidf_und2 = linearsvc(X_train_und, X_val_und, y_train_und, y_val_und, preprocessing2)\n",
    "f1_test[5][2] = predict_test(X_test_und, y_test_und, lsvc_bow_und2)\n",
    "f1_test[5][3] = predict_test(X_test_und, y_test_und, lsvc_tfidf_und2)\n",
    "\n",
    "f1_val[8][2], f1_val[8][3], lsvc_bow_und3, lsvc_tfidf_und3 = linearsvc(X_train_und, X_val_und, y_train_und, y_val_und, preprocessing3)\n",
    "f1_test[8][2] = predict_test(X_test_und, y_test_und, lsvc_bow_und3)\n",
    "f1_test[8][3] = predict_test(X_test_und, y_test_und, lsvc_tfidf_und3)\n",
    "\n",
    "f1_val[11][2], f1_val[11][3], lsvc_bow_und4, lsvc_tfidf_und4 = linearsvc(X_train_und, X_val_und, y_train_und, y_val_und, preprocessing4)\n",
    "f1_test[11][2] = predict_test(X_test_und, y_test_und, lsvc_bow_und4)\n",
    "f1_test[11][3] = predict_test(X_test_und, y_test_und, lsvc_tfidf_und4)\n",
    "\n",
    "\n",
    "print('REPEATING')\n",
    "f1_val[2][4], f1_val[2][5], lsvc_bow_rep1, lsvc_tfidf_rep1 = linearsvc(X_train_rep, X_val_rep, y_train_rep, y_val_rep, preprocessing1)\n",
    "f1_test[2][4] = predict_test(X_test_rep, y_test_rep, lsvc_bow_rep1)\n",
    "f1_test[2][5] = predict_test(X_test_rep, y_test_rep, lsvc_tfidf_rep1)\n",
    "\n",
    "f1_val[5][4], f1_val[5][5], lsvc_bow_rep2, lsvc_tfidf_rep2 = linearsvc(X_train_rep, X_val_rep, y_train_rep, y_val_rep, preprocessing2)\n",
    "f1_test[5][4] = predict_test(X_test_rep, y_test_rep, lsvc_bow_rep2)\n",
    "f1_test[5][5] = predict_test(X_test_rep, y_test_rep, lsvc_tfidf_rep2)\n",
    "\n",
    "f1_val[8][4], f1_val[8][5], lsvc_bow_rep3, lsvc_tfidf_rep3 = linearsvc(X_train_rep, X_val_rep, y_train_rep, y_val_rep, preprocessing3)\n",
    "f1_test[8][4] = predict_test(X_test_rep, y_test_rep, lsvc_bow_rep3)\n",
    "f1_test[8][5] = predict_test(X_test_rep, y_test_rep, lsvc_tfidf_rep3)\n",
    "\n",
    "f1_val[11][4], f1_val[11][5], lsvc_bow_rep4, lsvc_tfidf_rep4 = linearsvc(X_train_rep, X_val_rep, y_train_rep, y_val_rep, preprocessing4)\n",
    "f1_test[11][4] = predict_test(X_test_rep, y_test_rep, lsvc_bow_rep4)\n",
    "f1_test[11][5] = predict_test(X_test_rep, y_test_rep, lsvc_tfidf_rep4)\n",
    "\n",
    "print('TRANSLATION')\n",
    "f1_val[2][6], f1_val[2][7], lsvc_bow_tra1, lsvc_tfidf_tra1 = linearsvc(X_train_tra, X_val_tra, y_train_tra, y_val_tra, preprocessing1)\n",
    "f1_test[2][6] = predict_test(X_test_tra, y_test_tra, lsvc_bow_tra1)\n",
    "f1_test[2][7] = predict_test(X_test_tra, y_test_tra, lsvc_tfidf_tra1)\n",
    "\n",
    "f1_val[5][6], f1_val[5][7], lsvc_bow_tra2, lsvc_tfidf_tra2 = linearsvc(X_train_tra, X_val_tra, y_train_tra, y_val_tra, preprocessing2)\n",
    "f1_test[5][6] = predict_test(X_test_tra, y_test_tra, lsvc_bow_tra2)\n",
    "f1_test[5][7] = predict_test(X_test_tra, y_test_tra, lsvc_tfidf_tra2)\n",
    "\n",
    "f1_val[8][6], f1_val[8][7], lsvc_bow_tra3, lsvc_tfidf_tra3 = linearsvc(X_train_tra, X_val_tra, y_train_tra, y_val_tra, preprocessing3)\n",
    "f1_test[8][6] = predict_test(X_test_tra, y_test_tra, lsvc_bow_tra3)\n",
    "f1_test[8][7] = predict_test(X_test_tra, y_test_tra, lsvc_tfidf_tra3)\n",
    "\n",
    "f1_val[11][6], f1_val[11][7], lsvc_bow_tra4, lsvc_tfidf_tra4 = linearsvc(X_train_tra, X_val_tra, y_train_tra, y_val_tra, preprocessing4)\n",
    "f1_test[11][6] = predict_test(X_test_tra, y_test_tra, lsvc_bow_tra4)\n",
    "f1_test[11][7] = predict_test(X_test_tra, y_test_tra, lsvc_tfidf_tra4)"
   ]
  },
  {
   "cell_type": "code",
   "execution_count": 49,
   "id": "designing-battery",
   "metadata": {},
   "outputs": [
    {
     "data": {
      "text/plain": [
       "array([[0.69142857, 0.69142857, 0.72937027, 0.70972753, 0.75735644,\n",
       "        0.7520878 , 0.73086393, 0.70161423],\n",
       "       [0.82128219, 0.70995932, 0.7315632 , 0.72792935, 0.84914772,\n",
       "        0.82905606, 0.81109493, 0.80690562],\n",
       "       [0.82842069, 0.6967122 , 0.75112914, 0.77064557, 0.84615377,\n",
       "        0.76951583, 0.80085537, 0.76072564],\n",
       "       [0.69142857, 0.69142857, 0.75581471, 0.71164216, 0.77750496,\n",
       "        0.77115858, 0.71958915, 0.72501795],\n",
       "       [0.81844406, 0.70660751, 0.73016789, 0.7145783 , 0.84751639,\n",
       "        0.83566227, 0.8112107 , 0.7972457 ],\n",
       "       [0.8268652 , 0.6967122 , 0.7798642 , 0.77446121, 0.83705142,\n",
       "        0.79888503, 0.79848085, 0.76468354],\n",
       "       [0.69142857, 0.69142857, 0.74867273, 0.74501901, 0.74992284,\n",
       "        0.76933044, 0.73070902, 0.72371311],\n",
       "       [0.7920074 , 0.70018556, 0.73815649, 0.73046754, 0.84353329,\n",
       "        0.81996127, 0.80545496, 0.79847244],\n",
       "       [0.81087145, 0.71935806, 0.75598143, 0.75301577, 0.83512836,\n",
       "        0.76457126, 0.79186257, 0.73779204],\n",
       "       [0.69142857, 0.69142857, 0.75215704, 0.74676537, 0.77439151,\n",
       "        0.77823641, 0.72286026, 0.74050391],\n",
       "       [0.81622723, 0.70660751, 0.73371832, 0.71423195, 0.84555633,\n",
       "        0.83274995, 0.81210064, 0.79912344],\n",
       "       [0.82796793, 0.69845372, 0.78210291, 0.76575369, 0.8381297 ,\n",
       "        0.79354954, 0.79614268, 0.76570668]])"
      ]
     },
     "execution_count": 49,
     "metadata": {},
     "output_type": "execute_result"
    }
   ],
   "source": [
    "f1_val"
   ]
  },
  {
   "cell_type": "code",
   "execution_count": 50,
   "id": "approved-killer",
   "metadata": {
    "scrolled": true
   },
   "outputs": [
    {
     "data": {
      "text/plain": [
       "array([[0.70187415, 0.70187415, 0.71541791, 0.73369292, 0.73487269,\n",
       "        0.74106346, 0.72059874, 0.71355831],\n",
       "       [0.79037714, 0.71914976, 0.69076707, 0.71685886, 0.77130586,\n",
       "        0.79719939, 0.7963777 , 0.81132983],\n",
       "       [0.70364692, 0.70364692, 0.75663537, 0.75663537, 0.76710091,\n",
       "        0.76710091, 0.76348894, 0.76348894],\n",
       "       [0.70187415, 0.70187415, 0.73462249, 0.73246677, 0.76020616,\n",
       "        0.76584341, 0.71757031, 0.71766636],\n",
       "       [0.78778579, 0.71577299, 0.71933105, 0.72718635, 0.780883  ,\n",
       "        0.80666744, 0.78632655, 0.80642918],\n",
       "       [0.71063572, 0.71063572, 0.76741895, 0.76741895, 0.79482633,\n",
       "        0.79482633, 0.76328422, 0.76328422],\n",
       "       [0.70187415, 0.70187415, 0.70658122, 0.74803917, 0.75313561,\n",
       "        0.75004737, 0.70923041, 0.71835123],\n",
       "       [0.75720877, 0.70187415, 0.69479656, 0.71727751, 0.75776541,\n",
       "        0.78995427, 0.78334382, 0.80229031],\n",
       "       [0.72684159, 0.72684159, 0.7676761 , 0.7676761 , 0.7554716 ,\n",
       "        0.7554716 , 0.73505984, 0.73505984],\n",
       "       [0.70187415, 0.70187415, 0.74607986, 0.76452723, 0.7635149 ,\n",
       "        0.76897476, 0.7262354 , 0.74358293],\n",
       "       [0.78648185, 0.71577299, 0.72123936, 0.73284509, 0.77775231,\n",
       "        0.80534674, 0.78315273, 0.80385542],\n",
       "       [0.71063572, 0.71063572, 0.76553645, 0.76553645, 0.79031059,\n",
       "        0.79031059, 0.75900164, 0.75900164]])"
      ]
     },
     "execution_count": 50,
     "metadata": {},
     "output_type": "execute_result"
    }
   ],
   "source": [
    "f1_test"
   ]
  },
  {
   "cell_type": "markdown",
   "id": "enhanced-classification",
   "metadata": {},
   "source": [
    "## 6. Check the best model and use test data"
   ]
  },
  {
   "attachments": {
    "image-10.png": {
     "image/png": "[encoded data removed]"
    },
    "image-11.png": {
     "image/png": "[encoded data removed]"
    }
   },
   "cell_type": "markdown",
   "id": "treated-substance",
   "metadata": {},
   "source": [
    "Figure: F1-score for all the pipelines tested - validation data\n",
    "![image-10.png](attachment:image-10.png)\n",
    "\n",
    "Remarks:\n",
    "* Unbalanced data had the same values of f1-score in all cases, as the model got 100% right in the majority class and 0% right in the minority class\n",
    "* Undersampling data had a lower f1-score\n",
    "\n",
    "\n",
    "Figure: F1-score for all the pipelines tested - test data\n",
    "![image-11.png](attachment:image-11.png)\n",
    "\n",
    "\n",
    "* Model created based in undersampling: can have problems with generalization, as the model was exposed to less data;\n",
    "* Model created based in repeating: can be skewed;\n",
    "* Model created based in translation: although f1-score is lower than \"repeating\", this model had access to other data, as the data of minority class was replicated with some random elements."
   ]
  },
  {
   "cell_type": "code",
   "execution_count": 72,
   "id": "blond-oklahoma",
   "metadata": {},
   "outputs": [
    {
     "data": {
      "text/plain": [
       "['mnb_tfidf_tra1.sav']"
      ]
     },
     "execution_count": 72,
     "metadata": {},
     "output_type": "execute_result"
    }
   ],
   "source": [
    "# saving the best model: mnb_tfidf_tra1\n",
    "\n",
    "import joblib\n",
    "\n",
    "mnb = MultinomialNB(alpha=2) # alpha chosen based on graph above\n",
    "mod = Pipeline([\n",
    "        ('bow', CountVectorizer(analyzer=preprocessing1, ngram_range=(1,1))),  # strings to token integer counts\n",
    "        ('tfidf', TfidfTransformer()),  # integer counts to weighted TF-IDF scores\n",
    "        ('classifier', mnb),  # train on TF-IDF vectors w/ LinearSVC classifier\n",
    "    ])\n",
    "\n",
    "mod.fit(X_train_tra, y_train_tra)\n",
    "filename = 'mnb_tfidf_tra1.sav'\n",
    "joblib.dump(mod, filename)"
   ]
  },
  {
   "cell_type": "code",
   "execution_count": 73,
   "id": "sharing-warehouse",
   "metadata": {},
   "outputs": [],
   "source": [
    "# load the model from disk\n",
    "loaded_model = joblib.load(\"mnb_tfidf_tra1.sav\")"
   ]
  },
  {
   "cell_type": "code",
   "execution_count": 74,
   "id": "described-navigation",
   "metadata": {},
   "outputs": [
    {
     "data": {
      "text/plain": [
       "Pipeline(steps=[('bow',\n",
       "                 CountVectorizer(analyzer=<function preprocessing1 at 0x00000193FF27D670>)),\n",
       "                ('tfidf', TfidfTransformer()),\n",
       "                ('classifier', MultinomialNB(alpha=2))])"
      ]
     },
     "execution_count": 74,
     "metadata": {},
     "output_type": "execute_result"
    }
   ],
   "source": [
    "loaded_model"
   ]
  },
  {
   "cell_type": "markdown",
   "id": "earlier-shoot",
   "metadata": {},
   "source": [
    "## 7. Checking model with new data"
   ]
  },
  {
   "cell_type": "code",
   "execution_count": 54,
   "id": "after-south",
   "metadata": {},
   "outputs": [],
   "source": [
    "import tweepy\n",
    "import sys\n",
    "import json"
   ]
  },
  {
   "cell_type": "code",
   "execution_count": 55,
   "id": "scientific-reader",
   "metadata": {},
   "outputs": [],
   "source": [
    "#autentications\n",
    "consumer_key = 'CYm5BexxGzlrX64q8wTCoh2NU'\n",
    "consumer_secret = 'g0QjKZecBRebTbS7lBUapKZQTSP3wcvg4MP7Ks4RJOOyF3UuFT'\n",
    "access_token = '1200906763308019717-oawvMMkme3g2jYMy7Yr9qwHO0VSv57'\n",
    "access_token_secret = 'a0UL1nuKRms6s0F5RXN5ZnBMcML5viKy73PXC2DZomUE1'\n",
    "\n",
    "auth = tweepy.OAuthHandler(consumer_key, consumer_secret)\n",
    "auth.set_access_token(access_token, access_token_secret)\n",
    "api = tweepy.API(auth, wait_on_rate_limit=True, wait_on_rate_limit_notify=True)"
   ]
  },
  {
   "cell_type": "code",
   "execution_count": 56,
   "id": "returning-hollow",
   "metadata": {
    "scrolled": false
   },
   "outputs": [
    {
     "name": "stderr",
     "output_type": "stream",
     "text": [
      "\r",
      "0it [00:00, ?it/s]"
     ]
    },
    {
     "name": "stdout",
     "output_type": "stream",
     "text": [
      "#ForaArthur\n"
     ]
    },
    {
     "name": "stderr",
     "output_type": "stream",
     "text": [
      "1000it [01:49,  9.16it/s]\n",
      "0it [00:00, ?it/s]"
     ]
    },
    {
     "name": "stdout",
     "output_type": "stream",
     "text": [
      "Camilla\n"
     ]
    },
    {
     "name": "stderr",
     "output_type": "stream",
     "text": [
      "1000it [01:50,  9.05it/s]\n",
      "0it [00:00, ?it/s]"
     ]
    },
    {
     "name": "stdout",
     "output_type": "stream",
     "text": [
      "#NoLimite\n"
     ]
    },
    {
     "name": "stderr",
     "output_type": "stream",
     "text": [
      "1000it [01:53,  8.79it/s]\n",
      "0it [00:00, ?it/s]"
     ]
    },
    {
     "name": "stdout",
     "output_type": "stream",
     "text": [
      "zendaya\n"
     ]
    },
    {
     "name": "stderr",
     "output_type": "stream",
     "text": [
      "1000it [02:00,  8.32it/s]\n",
      "0it [00:00, ?it/s]"
     ]
    },
    {
     "name": "stdout",
     "output_type": "stream",
     "text": [
      "Oscar\n"
     ]
    },
    {
     "name": "stderr",
     "output_type": "stream",
     "text": [
      "1000it [01:44,  9.53it/s]\n",
      "0it [00:00, ?it/s]"
     ]
    },
    {
     "name": "stdout",
     "output_type": "stream",
     "text": [
      "Tiago\n"
     ]
    },
    {
     "name": "stderr",
     "output_type": "stream",
     "text": [
      "1000it [01:49,  9.15it/s]\n",
      "0it [00:00, ?it/s]"
     ]
    },
    {
     "name": "stdout",
     "output_type": "stream",
     "text": [
      "Jessica\n"
     ]
    },
    {
     "name": "stderr",
     "output_type": "stream",
     "text": [
      "1000it [01:49,  9.14it/s]\n",
      "0it [00:00, ?it/s]"
     ]
    },
    {
     "name": "stdout",
     "output_type": "stream",
     "text": [
      "Gil do Vigor\n"
     ]
    },
    {
     "name": "stderr",
     "output_type": "stream",
     "text": [
      "1000it [01:54,  8.72it/s]\n",
      "0it [00:00, ?it/s]"
     ]
    },
    {
     "name": "stdout",
     "output_type": "stream",
     "text": [
      "H.E.R\n"
     ]
    },
    {
     "name": "stderr",
     "output_type": "stream",
     "text": [
      "1000it [01:58,  8.42it/s]\n",
      "0it [00:00, ?it/s]"
     ]
    },
    {
     "name": "stdout",
     "output_type": "stream",
     "text": [
      "Galeano\n"
     ]
    },
    {
     "name": "stderr",
     "output_type": "stream",
     "text": [
      "1000it [01:52,  8.90it/s]\n",
      "0it [00:00, ?it/s]"
     ]
    },
    {
     "name": "stdout",
     "output_type": "stream",
     "text": [
      "BBB 18\n"
     ]
    },
    {
     "name": "stderr",
     "output_type": "stream",
     "text": [
      "1000it [01:51,  8.93it/s]\n",
      "0it [00:00, ?it/s]"
     ]
    },
    {
     "name": "stdout",
     "output_type": "stream",
     "text": [
      "Iris\n"
     ]
    },
    {
     "name": "stderr",
     "output_type": "stream",
     "text": [
      "1000it [01:50,  9.05it/s]\n",
      "0it [00:00, ?it/s]"
     ]
    },
    {
     "name": "stdout",
     "output_type": "stream",
     "text": [
      "Agora o Arthur\n"
     ]
    },
    {
     "name": "stderr",
     "output_type": "stream",
     "text": [
      "1000it [01:50,  9.04it/s]\n",
      "0it [00:00, ?it/s]"
     ]
    },
    {
     "name": "stdout",
     "output_type": "stream",
     "text": [
      "Siri\n"
     ]
    },
    {
     "name": "stderr",
     "output_type": "stream",
     "text": [
      "1000it [02:02,  8.19it/s]\n",
      "0it [00:00, ?it/s]"
     ]
    },
    {
     "name": "stdout",
     "output_type": "stream",
     "text": [
      "Elana\n"
     ]
    },
    {
     "name": "stderr",
     "output_type": "stream",
     "text": [
      "1000it [01:54,  8.73it/s]\n",
      "0it [00:00, ?it/s]"
     ]
    },
    {
     "name": "stdout",
     "output_type": "stream",
     "text": [
      "André\n"
     ]
    },
    {
     "name": "stderr",
     "output_type": "stream",
     "text": [
      "1000it [01:49,  9.13it/s]\n",
      "0it [00:00, ?it/s]"
     ]
    },
    {
     "name": "stdout",
     "output_type": "stream",
     "text": [
      "Ariadna\n"
     ]
    },
    {
     "name": "stderr",
     "output_type": "stream",
     "text": [
      "1000it [01:58,  8.42it/s]\n",
      "0it [00:00, ?it/s]"
     ]
    },
    {
     "name": "stdout",
     "output_type": "stream",
     "text": [
      "Ana Clara\n"
     ]
    },
    {
     "name": "stderr",
     "output_type": "stream",
     "text": [
      "1000it [01:54,  8.74it/s]\n",
      "0it [00:00, ?it/s]"
     ]
    },
    {
     "name": "stdout",
     "output_type": "stream",
     "text": [
      "Mahmoud\n"
     ]
    },
    {
     "name": "stderr",
     "output_type": "stream",
     "text": [
      "1000it [01:55,  8.65it/s]\n",
      "0it [00:00, ?it/s]"
     ]
    },
    {
     "name": "stdout",
     "output_type": "stream",
     "text": [
      "Igor Vinicius\n"
     ]
    },
    {
     "name": "stderr",
     "output_type": "stream",
     "text": [
      "1000it [02:00,  8.28it/s]\n"
     ]
    }
   ],
   "source": [
    "import tqdm\n",
    "\n",
    "BRAZIL_WOE_ID = 23424768\n",
    "brazil_trends = api.trends_place(BRAZIL_WOE_ID)[0]['trends'][:20]\n",
    "\n",
    "tweets_df = pd.DataFrame(columns=['topic', 'text', 'RT', 'time'])\n",
    "\n",
    "qt_items = 1000\n",
    "\n",
    "for brazil_trend in brazil_trends:\n",
    "    search_words = brazil_trend['name']\n",
    "    print(search_words)\n",
    "    \n",
    "    tweets = tweepy.Cursor(api.search,\n",
    "                           q=search_words,\n",
    "                           tweet_mode = \"extended\",\n",
    "                           lang=\"pt\").items(qt_items)\n",
    "    \n",
    "    for tweet in tqdm.tqdm(tweets):\n",
    "        try:\n",
    "            text = tweet.retweeted_status.full_text\n",
    "            rt = \"1\"\n",
    "        except AttributeError:\n",
    "            text = tweet.full_text\n",
    "            rt = \"0\"\n",
    "\n",
    "        tweets_df = tweets_df.append({'topic':search_words,\n",
    "                                      'text': text,\n",
    "                                      'RT': rt,\n",
    "                                      'time': tweet.created_at},\n",
    "                                     ignore_index=True)\n",
    "    time.sleep(60 * 8)"
   ]
  },
  {
   "cell_type": "code",
   "execution_count": 57,
   "id": "touched-chemical",
   "metadata": {},
   "outputs": [
    {
     "data": {
      "text/html": [
       "<div>\n",
       "<style scoped>\n",
       "    .dataframe tbody tr th:only-of-type {\n",
       "        vertical-align: middle;\n",
       "    }\n",
       "\n",
       "    .dataframe tbody tr th {\n",
       "        vertical-align: top;\n",
       "    }\n",
       "\n",
       "    .dataframe thead th {\n",
       "        text-align: right;\n",
       "    }\n",
       "</style>\n",
       "<table border=\"1\" class=\"dataframe\">\n",
       "  <thead>\n",
       "    <tr style=\"text-align: right;\">\n",
       "      <th></th>\n",
       "      <th>topic</th>\n",
       "      <th>text</th>\n",
       "      <th>RT</th>\n",
       "      <th>time</th>\n",
       "    </tr>\n",
       "  </thead>\n",
       "  <tbody>\n",
       "    <tr>\n",
       "      <th>0</th>\n",
       "      <td>#ForaArthur</td>\n",
       "      <td>A Bonita escapou mais uma vez. Agora vamos de ...</td>\n",
       "      <td>1</td>\n",
       "      <td>2021-04-26 02:45:55</td>\n",
       "    </tr>\n",
       "    <tr>\n",
       "      <th>1</th>\n",
       "      <td>#ForaArthur</td>\n",
       "      <td>Juliette falando que não está triste porque te...</td>\n",
       "      <td>1</td>\n",
       "      <td>2021-04-26 02:45:55</td>\n",
       "    </tr>\n",
       "    <tr>\n",
       "      <th>2</th>\n",
       "      <td>#ForaArthur</td>\n",
       "      <td>SINCERAMENTE, SOU #ForaArthur!!!! E vamos de #...</td>\n",
       "      <td>1</td>\n",
       "      <td>2021-04-26 02:45:55</td>\n",
       "    </tr>\n",
       "    <tr>\n",
       "      <th>3</th>\n",
       "      <td>#ForaArthur</td>\n",
       "      <td>Sterellas que gostam da Pocah, vamos de #ForaA...</td>\n",
       "      <td>1</td>\n",
       "      <td>2021-04-26 02:45:55</td>\n",
       "    </tr>\n",
       "    <tr>\n",
       "      <th>4</th>\n",
       "      <td>#ForaArthur</td>\n",
       "      <td>Juliette falando que não está triste porque te...</td>\n",
       "      <td>1</td>\n",
       "      <td>2021-04-26 02:45:55</td>\n",
       "    </tr>\n",
       "    <tr>\n",
       "      <th>...</th>\n",
       "      <td>...</td>\n",
       "      <td>...</td>\n",
       "      <td>...</td>\n",
       "      <td>...</td>\n",
       "    </tr>\n",
       "    <tr>\n",
       "      <th>19995</th>\n",
       "      <td>Igor Vinicius</td>\n",
       "      <td>Fim de jogo! #ITUxSPFC (0-3)\\n\\n⚽ Rodrigo \\n⚽ ...</td>\n",
       "      <td>1</td>\n",
       "      <td>2021-04-26 03:11:36</td>\n",
       "    </tr>\n",
       "    <tr>\n",
       "      <th>19996</th>\n",
       "      <td>Igor Vinicius</td>\n",
       "      <td>Fim de jogo! #ITUxSPFC (0-3)\\n\\n⚽ Rodrigo \\n⚽ ...</td>\n",
       "      <td>1</td>\n",
       "      <td>2021-04-26 03:11:36</td>\n",
       "    </tr>\n",
       "    <tr>\n",
       "      <th>19997</th>\n",
       "      <td>Igor Vinicius</td>\n",
       "      <td>Fim de jogo! #ITUxSPFC (0-3)\\n\\n⚽ Rodrigo \\n⚽ ...</td>\n",
       "      <td>1</td>\n",
       "      <td>2021-04-26 03:11:36</td>\n",
       "    </tr>\n",
       "    <tr>\n",
       "      <th>19998</th>\n",
       "      <td>Igor Vinicius</td>\n",
       "      <td>Fim de jogo! #ITUxSPFC (0-3)\\n\\n⚽ Rodrigo \\n⚽ ...</td>\n",
       "      <td>1</td>\n",
       "      <td>2021-04-26 03:11:35</td>\n",
       "    </tr>\n",
       "    <tr>\n",
       "      <th>19999</th>\n",
       "      <td>Igor Vinicius</td>\n",
       "      <td>Fim de jogo! #ITUxSPFC (0-3)\\n\\n⚽ Rodrigo \\n⚽ ...</td>\n",
       "      <td>1</td>\n",
       "      <td>2021-04-26 03:11:35</td>\n",
       "    </tr>\n",
       "  </tbody>\n",
       "</table>\n",
       "<p>20000 rows × 4 columns</p>\n",
       "</div>"
      ],
      "text/plain": [
       "               topic                                               text RT  \\\n",
       "0        #ForaArthur  A Bonita escapou mais uma vez. Agora vamos de ...  1   \n",
       "1        #ForaArthur  Juliette falando que não está triste porque te...  1   \n",
       "2        #ForaArthur  SINCERAMENTE, SOU #ForaArthur!!!! E vamos de #...  1   \n",
       "3        #ForaArthur  Sterellas que gostam da Pocah, vamos de #ForaA...  1   \n",
       "4        #ForaArthur  Juliette falando que não está triste porque te...  1   \n",
       "...              ...                                                ... ..   \n",
       "19995  Igor Vinicius  Fim de jogo! #ITUxSPFC (0-3)\\n\\n⚽ Rodrigo \\n⚽ ...  1   \n",
       "19996  Igor Vinicius  Fim de jogo! #ITUxSPFC (0-3)\\n\\n⚽ Rodrigo \\n⚽ ...  1   \n",
       "19997  Igor Vinicius  Fim de jogo! #ITUxSPFC (0-3)\\n\\n⚽ Rodrigo \\n⚽ ...  1   \n",
       "19998  Igor Vinicius  Fim de jogo! #ITUxSPFC (0-3)\\n\\n⚽ Rodrigo \\n⚽ ...  1   \n",
       "19999  Igor Vinicius  Fim de jogo! #ITUxSPFC (0-3)\\n\\n⚽ Rodrigo \\n⚽ ...  1   \n",
       "\n",
       "                     time  \n",
       "0     2021-04-26 02:45:55  \n",
       "1     2021-04-26 02:45:55  \n",
       "2     2021-04-26 02:45:55  \n",
       "3     2021-04-26 02:45:55  \n",
       "4     2021-04-26 02:45:55  \n",
       "...                   ...  \n",
       "19995 2021-04-26 03:11:36  \n",
       "19996 2021-04-26 03:11:36  \n",
       "19997 2021-04-26 03:11:36  \n",
       "19998 2021-04-26 03:11:35  \n",
       "19999 2021-04-26 03:11:35  \n",
       "\n",
       "[20000 rows x 4 columns]"
      ]
     },
     "execution_count": 57,
     "metadata": {},
     "output_type": "execute_result"
    }
   ],
   "source": [
    "tweets_df"
   ]
  },
  {
   "cell_type": "code",
   "execution_count": 58,
   "id": "designing-income",
   "metadata": {},
   "outputs": [],
   "source": [
    "def count_swear_words(text):\n",
    "    swear = []\n",
    "    text = text.split(' ')\n",
    "    for swear_word in list_bad_words:\n",
    "        try:\n",
    "            x = [re.findall('^' + swear_word.lower(), word) for word in text]\n",
    "            x = [y for y in x if y != []]\n",
    "            if x != []:\n",
    "                swear.append(x[0][0])\n",
    "        except:\n",
    "            pass\n",
    "    return len(swear)\n",
    "\n",
    "tweets_df['swear_words'] = tweets_df['text'].apply(count_swear_words)"
   ]
  },
  {
   "cell_type": "code",
   "execution_count": 59,
   "id": "impossible-observer",
   "metadata": {},
   "outputs": [
    {
     "data": {
      "text/html": [
       "<div>\n",
       "<style scoped>\n",
       "    .dataframe tbody tr th:only-of-type {\n",
       "        vertical-align: middle;\n",
       "    }\n",
       "\n",
       "    .dataframe tbody tr th {\n",
       "        vertical-align: top;\n",
       "    }\n",
       "\n",
       "    .dataframe thead th {\n",
       "        text-align: right;\n",
       "    }\n",
       "</style>\n",
       "<table border=\"1\" class=\"dataframe\">\n",
       "  <thead>\n",
       "    <tr style=\"text-align: right;\">\n",
       "      <th></th>\n",
       "      <th>topic</th>\n",
       "      <th>text</th>\n",
       "      <th>RT</th>\n",
       "      <th>time</th>\n",
       "      <th>swear_words</th>\n",
       "    </tr>\n",
       "  </thead>\n",
       "  <tbody>\n",
       "    <tr>\n",
       "      <th>0</th>\n",
       "      <td>#ForaArthur</td>\n",
       "      <td>A Bonita escapou mais uma vez. Agora vamos de ...</td>\n",
       "      <td>1</td>\n",
       "      <td>2021-04-26 02:45:55</td>\n",
       "      <td>0</td>\n",
       "    </tr>\n",
       "    <tr>\n",
       "      <th>1</th>\n",
       "      <td>#ForaArthur</td>\n",
       "      <td>Juliette falando que não está triste porque te...</td>\n",
       "      <td>1</td>\n",
       "      <td>2021-04-26 02:45:55</td>\n",
       "      <td>0</td>\n",
       "    </tr>\n",
       "    <tr>\n",
       "      <th>2</th>\n",
       "      <td>#ForaArthur</td>\n",
       "      <td>SINCERAMENTE, SOU #ForaArthur!!!! E vamos de #...</td>\n",
       "      <td>1</td>\n",
       "      <td>2021-04-26 02:45:55</td>\n",
       "      <td>0</td>\n",
       "    </tr>\n",
       "    <tr>\n",
       "      <th>3</th>\n",
       "      <td>#ForaArthur</td>\n",
       "      <td>Sterellas que gostam da Pocah, vamos de #ForaA...</td>\n",
       "      <td>1</td>\n",
       "      <td>2021-04-26 02:45:55</td>\n",
       "      <td>0</td>\n",
       "    </tr>\n",
       "    <tr>\n",
       "      <th>4</th>\n",
       "      <td>#ForaArthur</td>\n",
       "      <td>Juliette falando que não está triste porque te...</td>\n",
       "      <td>1</td>\n",
       "      <td>2021-04-26 02:45:55</td>\n",
       "      <td>0</td>\n",
       "    </tr>\n",
       "    <tr>\n",
       "      <th>...</th>\n",
       "      <td>...</td>\n",
       "      <td>...</td>\n",
       "      <td>...</td>\n",
       "      <td>...</td>\n",
       "      <td>...</td>\n",
       "    </tr>\n",
       "    <tr>\n",
       "      <th>19995</th>\n",
       "      <td>Igor Vinicius</td>\n",
       "      <td>Fim de jogo! #ITUxSPFC (0-3)\\n\\n⚽ Rodrigo \\n⚽ ...</td>\n",
       "      <td>1</td>\n",
       "      <td>2021-04-26 03:11:36</td>\n",
       "      <td>0</td>\n",
       "    </tr>\n",
       "    <tr>\n",
       "      <th>19996</th>\n",
       "      <td>Igor Vinicius</td>\n",
       "      <td>Fim de jogo! #ITUxSPFC (0-3)\\n\\n⚽ Rodrigo \\n⚽ ...</td>\n",
       "      <td>1</td>\n",
       "      <td>2021-04-26 03:11:36</td>\n",
       "      <td>0</td>\n",
       "    </tr>\n",
       "    <tr>\n",
       "      <th>19997</th>\n",
       "      <td>Igor Vinicius</td>\n",
       "      <td>Fim de jogo! #ITUxSPFC (0-3)\\n\\n⚽ Rodrigo \\n⚽ ...</td>\n",
       "      <td>1</td>\n",
       "      <td>2021-04-26 03:11:36</td>\n",
       "      <td>0</td>\n",
       "    </tr>\n",
       "    <tr>\n",
       "      <th>19998</th>\n",
       "      <td>Igor Vinicius</td>\n",
       "      <td>Fim de jogo! #ITUxSPFC (0-3)\\n\\n⚽ Rodrigo \\n⚽ ...</td>\n",
       "      <td>1</td>\n",
       "      <td>2021-04-26 03:11:35</td>\n",
       "      <td>0</td>\n",
       "    </tr>\n",
       "    <tr>\n",
       "      <th>19999</th>\n",
       "      <td>Igor Vinicius</td>\n",
       "      <td>Fim de jogo! #ITUxSPFC (0-3)\\n\\n⚽ Rodrigo \\n⚽ ...</td>\n",
       "      <td>1</td>\n",
       "      <td>2021-04-26 03:11:35</td>\n",
       "      <td>0</td>\n",
       "    </tr>\n",
       "  </tbody>\n",
       "</table>\n",
       "<p>20000 rows × 5 columns</p>\n",
       "</div>"
      ],
      "text/plain": [
       "               topic                                               text RT  \\\n",
       "0        #ForaArthur  A Bonita escapou mais uma vez. Agora vamos de ...  1   \n",
       "1        #ForaArthur  Juliette falando que não está triste porque te...  1   \n",
       "2        #ForaArthur  SINCERAMENTE, SOU #ForaArthur!!!! E vamos de #...  1   \n",
       "3        #ForaArthur  Sterellas que gostam da Pocah, vamos de #ForaA...  1   \n",
       "4        #ForaArthur  Juliette falando que não está triste porque te...  1   \n",
       "...              ...                                                ... ..   \n",
       "19995  Igor Vinicius  Fim de jogo! #ITUxSPFC (0-3)\\n\\n⚽ Rodrigo \\n⚽ ...  1   \n",
       "19996  Igor Vinicius  Fim de jogo! #ITUxSPFC (0-3)\\n\\n⚽ Rodrigo \\n⚽ ...  1   \n",
       "19997  Igor Vinicius  Fim de jogo! #ITUxSPFC (0-3)\\n\\n⚽ Rodrigo \\n⚽ ...  1   \n",
       "19998  Igor Vinicius  Fim de jogo! #ITUxSPFC (0-3)\\n\\n⚽ Rodrigo \\n⚽ ...  1   \n",
       "19999  Igor Vinicius  Fim de jogo! #ITUxSPFC (0-3)\\n\\n⚽ Rodrigo \\n⚽ ...  1   \n",
       "\n",
       "                     time  swear_words  \n",
       "0     2021-04-26 02:45:55            0  \n",
       "1     2021-04-26 02:45:55            0  \n",
       "2     2021-04-26 02:45:55            0  \n",
       "3     2021-04-26 02:45:55            0  \n",
       "4     2021-04-26 02:45:55            0  \n",
       "...                   ...          ...  \n",
       "19995 2021-04-26 03:11:36            0  \n",
       "19996 2021-04-26 03:11:36            0  \n",
       "19997 2021-04-26 03:11:36            0  \n",
       "19998 2021-04-26 03:11:35            0  \n",
       "19999 2021-04-26 03:11:35            0  \n",
       "\n",
       "[20000 rows x 5 columns]"
      ]
     },
     "execution_count": 59,
     "metadata": {},
     "output_type": "execute_result"
    }
   ],
   "source": [
    "tweets_df"
   ]
  },
  {
   "cell_type": "code",
   "execution_count": 75,
   "id": "perceived-northern",
   "metadata": {},
   "outputs": [],
   "source": [
    "tweets_df['hate'] = loaded_model.predict(tweets_df['text'])"
   ]
  },
  {
   "cell_type": "code",
   "execution_count": 76,
   "id": "awful-trace",
   "metadata": {},
   "outputs": [
    {
     "data": {
      "text/html": [
       "<div>\n",
       "<style scoped>\n",
       "    .dataframe tbody tr th:only-of-type {\n",
       "        vertical-align: middle;\n",
       "    }\n",
       "\n",
       "    .dataframe tbody tr th {\n",
       "        vertical-align: top;\n",
       "    }\n",
       "\n",
       "    .dataframe thead th {\n",
       "        text-align: right;\n",
       "    }\n",
       "</style>\n",
       "<table border=\"1\" class=\"dataframe\">\n",
       "  <thead>\n",
       "    <tr style=\"text-align: right;\">\n",
       "      <th></th>\n",
       "      <th>topic</th>\n",
       "      <th>text</th>\n",
       "      <th>RT</th>\n",
       "      <th>time</th>\n",
       "      <th>swear_words</th>\n",
       "      <th>hate</th>\n",
       "    </tr>\n",
       "  </thead>\n",
       "  <tbody>\n",
       "    <tr>\n",
       "      <th>0</th>\n",
       "      <td>#ForaArthur</td>\n",
       "      <td>A Bonita escapou mais uma vez. Agora vamos de ...</td>\n",
       "      <td>1</td>\n",
       "      <td>2021-04-26 02:45:55</td>\n",
       "      <td>0</td>\n",
       "      <td>1</td>\n",
       "    </tr>\n",
       "    <tr>\n",
       "      <th>1</th>\n",
       "      <td>#ForaArthur</td>\n",
       "      <td>Juliette falando que não está triste porque te...</td>\n",
       "      <td>1</td>\n",
       "      <td>2021-04-26 02:45:55</td>\n",
       "      <td>0</td>\n",
       "      <td>0</td>\n",
       "    </tr>\n",
       "    <tr>\n",
       "      <th>2</th>\n",
       "      <td>#ForaArthur</td>\n",
       "      <td>SINCERAMENTE, SOU #ForaArthur!!!! E vamos de #...</td>\n",
       "      <td>1</td>\n",
       "      <td>2021-04-26 02:45:55</td>\n",
       "      <td>0</td>\n",
       "      <td>1</td>\n",
       "    </tr>\n",
       "    <tr>\n",
       "      <th>3</th>\n",
       "      <td>#ForaArthur</td>\n",
       "      <td>Sterellas que gostam da Pocah, vamos de #ForaA...</td>\n",
       "      <td>1</td>\n",
       "      <td>2021-04-26 02:45:55</td>\n",
       "      <td>0</td>\n",
       "      <td>1</td>\n",
       "    </tr>\n",
       "    <tr>\n",
       "      <th>4</th>\n",
       "      <td>#ForaArthur</td>\n",
       "      <td>Juliette falando que não está triste porque te...</td>\n",
       "      <td>1</td>\n",
       "      <td>2021-04-26 02:45:55</td>\n",
       "      <td>0</td>\n",
       "      <td>0</td>\n",
       "    </tr>\n",
       "    <tr>\n",
       "      <th>...</th>\n",
       "      <td>...</td>\n",
       "      <td>...</td>\n",
       "      <td>...</td>\n",
       "      <td>...</td>\n",
       "      <td>...</td>\n",
       "      <td>...</td>\n",
       "    </tr>\n",
       "    <tr>\n",
       "      <th>19995</th>\n",
       "      <td>Igor Vinicius</td>\n",
       "      <td>Fim de jogo! #ITUxSPFC (0-3)\\n\\n⚽ Rodrigo \\n⚽ ...</td>\n",
       "      <td>1</td>\n",
       "      <td>2021-04-26 03:11:36</td>\n",
       "      <td>0</td>\n",
       "      <td>0</td>\n",
       "    </tr>\n",
       "    <tr>\n",
       "      <th>19996</th>\n",
       "      <td>Igor Vinicius</td>\n",
       "      <td>Fim de jogo! #ITUxSPFC (0-3)\\n\\n⚽ Rodrigo \\n⚽ ...</td>\n",
       "      <td>1</td>\n",
       "      <td>2021-04-26 03:11:36</td>\n",
       "      <td>0</td>\n",
       "      <td>0</td>\n",
       "    </tr>\n",
       "    <tr>\n",
       "      <th>19997</th>\n",
       "      <td>Igor Vinicius</td>\n",
       "      <td>Fim de jogo! #ITUxSPFC (0-3)\\n\\n⚽ Rodrigo \\n⚽ ...</td>\n",
       "      <td>1</td>\n",
       "      <td>2021-04-26 03:11:36</td>\n",
       "      <td>0</td>\n",
       "      <td>0</td>\n",
       "    </tr>\n",
       "    <tr>\n",
       "      <th>19998</th>\n",
       "      <td>Igor Vinicius</td>\n",
       "      <td>Fim de jogo! #ITUxSPFC (0-3)\\n\\n⚽ Rodrigo \\n⚽ ...</td>\n",
       "      <td>1</td>\n",
       "      <td>2021-04-26 03:11:35</td>\n",
       "      <td>0</td>\n",
       "      <td>0</td>\n",
       "    </tr>\n",
       "    <tr>\n",
       "      <th>19999</th>\n",
       "      <td>Igor Vinicius</td>\n",
       "      <td>Fim de jogo! #ITUxSPFC (0-3)\\n\\n⚽ Rodrigo \\n⚽ ...</td>\n",
       "      <td>1</td>\n",
       "      <td>2021-04-26 03:11:35</td>\n",
       "      <td>0</td>\n",
       "      <td>0</td>\n",
       "    </tr>\n",
       "  </tbody>\n",
       "</table>\n",
       "<p>20000 rows × 6 columns</p>\n",
       "</div>"
      ],
      "text/plain": [
       "               topic                                               text RT  \\\n",
       "0        #ForaArthur  A Bonita escapou mais uma vez. Agora vamos de ...  1   \n",
       "1        #ForaArthur  Juliette falando que não está triste porque te...  1   \n",
       "2        #ForaArthur  SINCERAMENTE, SOU #ForaArthur!!!! E vamos de #...  1   \n",
       "3        #ForaArthur  Sterellas que gostam da Pocah, vamos de #ForaA...  1   \n",
       "4        #ForaArthur  Juliette falando que não está triste porque te...  1   \n",
       "...              ...                                                ... ..   \n",
       "19995  Igor Vinicius  Fim de jogo! #ITUxSPFC (0-3)\\n\\n⚽ Rodrigo \\n⚽ ...  1   \n",
       "19996  Igor Vinicius  Fim de jogo! #ITUxSPFC (0-3)\\n\\n⚽ Rodrigo \\n⚽ ...  1   \n",
       "19997  Igor Vinicius  Fim de jogo! #ITUxSPFC (0-3)\\n\\n⚽ Rodrigo \\n⚽ ...  1   \n",
       "19998  Igor Vinicius  Fim de jogo! #ITUxSPFC (0-3)\\n\\n⚽ Rodrigo \\n⚽ ...  1   \n",
       "19999  Igor Vinicius  Fim de jogo! #ITUxSPFC (0-3)\\n\\n⚽ Rodrigo \\n⚽ ...  1   \n",
       "\n",
       "                     time  swear_words  hate  \n",
       "0     2021-04-26 02:45:55            0     1  \n",
       "1     2021-04-26 02:45:55            0     0  \n",
       "2     2021-04-26 02:45:55            0     1  \n",
       "3     2021-04-26 02:45:55            0     1  \n",
       "4     2021-04-26 02:45:55            0     0  \n",
       "...                   ...          ...   ...  \n",
       "19995 2021-04-26 03:11:36            0     0  \n",
       "19996 2021-04-26 03:11:36            0     0  \n",
       "19997 2021-04-26 03:11:36            0     0  \n",
       "19998 2021-04-26 03:11:35            0     0  \n",
       "19999 2021-04-26 03:11:35            0     0  \n",
       "\n",
       "[20000 rows x 6 columns]"
      ]
     },
     "execution_count": 76,
     "metadata": {},
     "output_type": "execute_result"
    }
   ],
   "source": [
    "tweets_df"
   ]
  },
  {
   "cell_type": "code",
   "execution_count": 78,
   "id": "contemporary-olympus",
   "metadata": {},
   "outputs": [],
   "source": [
    "tweets_df.to_csv('tweets.csv', index=False)"
   ]
  },
  {
   "cell_type": "code",
   "execution_count": null,
   "id": "historic-shield",
   "metadata": {},
   "outputs": [],
   "source": []
  }
 ],
 "metadata": {
  "kernelspec": {
   "display_name": "Python 3",
   "language": "python",
   "name": "python3"
  },
  "language_info": {
   "codemirror_mode": {
    "name": "ipython",
    "version": 3
   },
   "file_extension": ".py",
   "mimetype": "text/x-python",
   "name": "python",
   "nbconvert_exporter": "python",
   "pygments_lexer": "ipython3",
   "version": "3.8.8"
  }
 },
 "nbformat": 4,
 "nbformat_minor": 5
}
