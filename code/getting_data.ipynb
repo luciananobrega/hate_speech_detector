{
 "cells": [
  {
   "cell_type": "markdown",
   "id": "robust-adapter",
   "metadata": {},
   "source": [
    "## Part 1: getting the data from URL"
   ]
  },
  {
   "cell_type": "code",
   "execution_count": 1,
   "id": "sticky-valley",
   "metadata": {},
   "outputs": [],
   "source": [
    "from urllib.request import urlopen\n",
    "import pandas as pd"
   ]
  },
  {
   "cell_type": "markdown",
   "id": "entitled-renaissance",
   "metadata": {},
   "source": [
    "### Part 1.1: Fortuna et al dataset\n",
    "This dataset can be easily accessed on b2share.eudat.eu website.\n",
    "\n",
    "\n",
    "*Reference for datasets: https://hatespeechdata.com/*"
   ]
  },
  {
   "cell_type": "code",
   "execution_count": 2,
   "id": "positive-camping",
   "metadata": {},
   "outputs": [],
   "source": [
    "try:\n",
    "    dataset_fortuna = pd.read_csv(\"datasets/dataset_fortuna.csv\")\n",
    "except FileNotFoundError:\n",
    "    url = \"https://raw.githubusercontent.com/paulafortuna/Portuguese-Hate-Speech-Dataset/master/2019-05-28_portuguese_hate_speech_hierarchical_classification.csv\"\n",
    "    f = urlopen(url)\n",
    "    dataset_fortuna = f.read()\n",
    "    f.close()\n",
    "    csv_file = open('datasets/dataset_fortuna.csv', 'wb')\n",
    "    csv_file.write(dataset_fortuna)\n",
    "    csv_file.close()\n",
    "    dataset_fortuna = pd.read_csv(\"datasets/dataset_fortuna.csv\")\n"
   ]
  },
  {
   "cell_type": "code",
   "execution_count": 3,
   "id": "annual-beverage",
   "metadata": {},
   "outputs": [
    {
     "output_type": "execute_result",
     "data": {
      "text/plain": [
       "                                                text  Hate.speech  Sexism  \\\n",
       "0                   \"não come mel, morde marimbondo\"            0       0   \n",
       "1                       não tem pinto, tem orgulho !            0       0   \n",
       "2  Não vê essa merda de Crepúsculo! Pra isso temo...            0       0   \n",
       "3  não da tapa na bundinha, da cotovelada nas cos...            0       0   \n",
       "4  o diminutivo INHO não acompanha a trajetória d...            1       1   \n",
       "\n",
       "   Body  Racism  Ideology  Homophobia  Origin  Religion  Health  ...  \\\n",
       "0     0       0         0           0       0         0       0  ...   \n",
       "1     0       0         0           0       0         0       0  ...   \n",
       "2     0       0         0           0       0         0       0  ...   \n",
       "3     0       0         0           0       0         0       0  ...   \n",
       "4     0       0         0           0       0         0       0  ...   \n",
       "\n",
       "   Thin.women  Arabic  East.europeans  Africans  South.Americans  Brazilians  \\\n",
       "0           0       0               0         0                0           0   \n",
       "1           0       0               0         0                0           0   \n",
       "2           0       0               0         0                0           0   \n",
       "3           0       0               0         0                0           0   \n",
       "4           0       0               0         0                0           0   \n",
       "\n",
       "   Migrants  Homossexuals  Thin.people  Ageing  \n",
       "0         0             0            0       0  \n",
       "1         0             0            0       0  \n",
       "2         0             0            0       0  \n",
       "3         0             0            0       0  \n",
       "4         0             0            0       0  \n",
       "\n",
       "[5 rows x 80 columns]"
      ],
      "text/html": "<div>\n<style scoped>\n    .dataframe tbody tr th:only-of-type {\n        vertical-align: middle;\n    }\n\n    .dataframe tbody tr th {\n        vertical-align: top;\n    }\n\n    .dataframe thead th {\n        text-align: right;\n    }\n</style>\n<table border=\"1\" class=\"dataframe\">\n  <thead>\n    <tr style=\"text-align: right;\">\n      <th></th>\n      <th>text</th>\n      <th>Hate.speech</th>\n      <th>Sexism</th>\n      <th>Body</th>\n      <th>Racism</th>\n      <th>Ideology</th>\n      <th>Homophobia</th>\n      <th>Origin</th>\n      <th>Religion</th>\n      <th>Health</th>\n      <th>...</th>\n      <th>Thin.women</th>\n      <th>Arabic</th>\n      <th>East.europeans</th>\n      <th>Africans</th>\n      <th>South.Americans</th>\n      <th>Brazilians</th>\n      <th>Migrants</th>\n      <th>Homossexuals</th>\n      <th>Thin.people</th>\n      <th>Ageing</th>\n    </tr>\n  </thead>\n  <tbody>\n    <tr>\n      <th>0</th>\n      <td>\"não come mel, morde marimbondo\"</td>\n      <td>0</td>\n      <td>0</td>\n      <td>0</td>\n      <td>0</td>\n      <td>0</td>\n      <td>0</td>\n      <td>0</td>\n      <td>0</td>\n      <td>0</td>\n      <td>...</td>\n      <td>0</td>\n      <td>0</td>\n      <td>0</td>\n      <td>0</td>\n      <td>0</td>\n      <td>0</td>\n      <td>0</td>\n      <td>0</td>\n      <td>0</td>\n      <td>0</td>\n    </tr>\n    <tr>\n      <th>1</th>\n      <td>não tem pinto, tem orgulho !</td>\n      <td>0</td>\n      <td>0</td>\n      <td>0</td>\n      <td>0</td>\n      <td>0</td>\n      <td>0</td>\n      <td>0</td>\n      <td>0</td>\n      <td>0</td>\n      <td>...</td>\n      <td>0</td>\n      <td>0</td>\n      <td>0</td>\n      <td>0</td>\n      <td>0</td>\n      <td>0</td>\n      <td>0</td>\n      <td>0</td>\n      <td>0</td>\n      <td>0</td>\n    </tr>\n    <tr>\n      <th>2</th>\n      <td>Não vê essa merda de Crepúsculo! Pra isso temo...</td>\n      <td>0</td>\n      <td>0</td>\n      <td>0</td>\n      <td>0</td>\n      <td>0</td>\n      <td>0</td>\n      <td>0</td>\n      <td>0</td>\n      <td>0</td>\n      <td>...</td>\n      <td>0</td>\n      <td>0</td>\n      <td>0</td>\n      <td>0</td>\n      <td>0</td>\n      <td>0</td>\n      <td>0</td>\n      <td>0</td>\n      <td>0</td>\n      <td>0</td>\n    </tr>\n    <tr>\n      <th>3</th>\n      <td>não da tapa na bundinha, da cotovelada nas cos...</td>\n      <td>0</td>\n      <td>0</td>\n      <td>0</td>\n      <td>0</td>\n      <td>0</td>\n      <td>0</td>\n      <td>0</td>\n      <td>0</td>\n      <td>0</td>\n      <td>...</td>\n      <td>0</td>\n      <td>0</td>\n      <td>0</td>\n      <td>0</td>\n      <td>0</td>\n      <td>0</td>\n      <td>0</td>\n      <td>0</td>\n      <td>0</td>\n      <td>0</td>\n    </tr>\n    <tr>\n      <th>4</th>\n      <td>o diminutivo INHO não acompanha a trajetória d...</td>\n      <td>1</td>\n      <td>1</td>\n      <td>0</td>\n      <td>0</td>\n      <td>0</td>\n      <td>0</td>\n      <td>0</td>\n      <td>0</td>\n      <td>0</td>\n      <td>...</td>\n      <td>0</td>\n      <td>0</td>\n      <td>0</td>\n      <td>0</td>\n      <td>0</td>\n      <td>0</td>\n      <td>0</td>\n      <td>0</td>\n      <td>0</td>\n      <td>0</td>\n    </tr>\n  </tbody>\n</table>\n<p>5 rows × 80 columns</p>\n</div>"
     },
     "metadata": {},
     "execution_count": 3
    }
   ],
   "source": [
    "dataset_fortuna.head()"
   ]
  },
  {
   "cell_type": "markdown",
   "id": "sunset-region",
   "metadata": {},
   "source": [
    "### Part 1.2: De Pelle et al dataset\n",
    "This dataset can be easily accessed on github. On this case, we just downloaded the file OffComBR2.arff, renamed it to dataset_depelle.csv and made it available on our datasets folder.\n",
    "\n",
    "Github page of the project: https://github.com/rogersdepelle/OffComBR"
   ]
  },
  {
   "cell_type": "code",
   "execution_count": 4,
   "id": "pretty-mentor",
   "metadata": {},
   "outputs": [],
   "source": [
    "try:\n",
    "    dataset_depelle_3 = pd.read_csv(\"datasets/dataset_depelle_3.csv\")\n",
    "except FileNotFoundError:\n",
    "    url = \"https://raw.githubusercontent.com/rogersdepelle/OffComBR/master/OffComBR3.arff\"\n",
    "    f = urlopen(url)\n",
    "    dataset_depelle_3 = f.read()\n",
    "    f.close()\n",
    "    csv_file = open('datasets/dataset_depelle_3.csv', 'wb')\n",
    "    csv_file.write(dataset_depelle_3)\n",
    "    csv_file.close()\n",
    "    dataset_depelle_3 = pd.read_csv(\"datasets/dataset_depelle_3.csv\")"
   ]
  },
  {
   "cell_type": "code",
   "execution_count": 5,
   "id": "addressed-ownership",
   "metadata": {},
   "outputs": [
    {
     "output_type": "execute_result",
     "data": {
      "text/plain": [
       "  class                                               data\n",
       "0   yes             'Votaram no PEZAO Agora tomem no CZAO'\n",
       "1    no  'cuidado com a poupanca pessoal Lembram o que ...\n",
       "2    no  'Sabe o que eu acho engracado os nossos govern...\n",
       "3    no            'Podiam retirar dos lucros dos bancos '\n",
       "4    no  'CADE O GALVAO PRA NARRAR AGORA   FALIIIIUUUUU..."
      ],
      "text/html": "<div>\n<style scoped>\n    .dataframe tbody tr th:only-of-type {\n        vertical-align: middle;\n    }\n\n    .dataframe tbody tr th {\n        vertical-align: top;\n    }\n\n    .dataframe thead th {\n        text-align: right;\n    }\n</style>\n<table border=\"1\" class=\"dataframe\">\n  <thead>\n    <tr style=\"text-align: right;\">\n      <th></th>\n      <th>class</th>\n      <th>data</th>\n    </tr>\n  </thead>\n  <tbody>\n    <tr>\n      <th>0</th>\n      <td>yes</td>\n      <td>'Votaram no PEZAO Agora tomem no CZAO'</td>\n    </tr>\n    <tr>\n      <th>1</th>\n      <td>no</td>\n      <td>'cuidado com a poupanca pessoal Lembram o que ...</td>\n    </tr>\n    <tr>\n      <th>2</th>\n      <td>no</td>\n      <td>'Sabe o que eu acho engracado os nossos govern...</td>\n    </tr>\n    <tr>\n      <th>3</th>\n      <td>no</td>\n      <td>'Podiam retirar dos lucros dos bancos '</td>\n    </tr>\n    <tr>\n      <th>4</th>\n      <td>no</td>\n      <td>'CADE O GALVAO PRA NARRAR AGORA   FALIIIIUUUUU...</td>\n    </tr>\n  </tbody>\n</table>\n</div>"
     },
     "metadata": {},
     "execution_count": 5
    }
   ],
   "source": [
    "dataset_depelle_3.head()"
   ]
  },
  {
   "cell_type": "markdown",
   "id": "incomplete-remark",
   "metadata": {},
   "source": [
    "## Part 2: putting all the data together\n",
    "As we could see, the formats of the datasets are different.\n",
    "On Fortuna's dataset, we have the information whether it is considered as hate speech (with 0 or 1) and the classification of that hate. We'll use only the first two collumns (text and hate.speech).\n",
    "On De Pelle's dataset, we have the data in text format and the class in yes/no.\n",
    "\n",
    "We'll join those two datasets in one, with only the information of \"hatespeech\" in 0/1 and data as text."
   ]
  },
  {
   "cell_type": "code",
   "execution_count": 6,
   "id": "general-nowhere",
   "metadata": {},
   "outputs": [],
   "source": [
    "dataset_fortuna = dataset_fortuna[['text', 'Hate.speech']]\n",
    "dataset_fortuna.columns = ['text', 'hate_speech']"
   ]
  },
  {
   "cell_type": "code",
   "execution_count": 7,
   "id": "institutional-replacement",
   "metadata": {},
   "outputs": [
    {
     "output_type": "execute_result",
     "data": {
      "text/plain": [
       "                                                   text  hate_speech\n",
       "0                      \"não come mel, morde marimbondo\"            0\n",
       "1                          não tem pinto, tem orgulho !            0\n",
       "2     Não vê essa merda de Crepúsculo! Pra isso temo...            0\n",
       "3     não da tapa na bundinha, da cotovelada nas cos...            0\n",
       "4     o diminutivo INHO não acompanha a trajetória d...            1\n",
       "...                                                 ...          ...\n",
       "5663  Na minha sala só tem viado e sapatão  e a cois...            1\n",
       "5664  PARABENS SAPATÃO SDDS @attomiter https://t.co/...            1\n",
       "5665  RT @toquedeveludo: Agora um poema:\\r\\nEu sou s...            1\n",
       "5666  O mundo das sapatao é mais ligado do que eu im...            1\n",
       "5667  Gente, sapatão é uma coisa q me assusta https:...            1\n",
       "\n",
       "[5668 rows x 2 columns]"
      ],
      "text/html": "<div>\n<style scoped>\n    .dataframe tbody tr th:only-of-type {\n        vertical-align: middle;\n    }\n\n    .dataframe tbody tr th {\n        vertical-align: top;\n    }\n\n    .dataframe thead th {\n        text-align: right;\n    }\n</style>\n<table border=\"1\" class=\"dataframe\">\n  <thead>\n    <tr style=\"text-align: right;\">\n      <th></th>\n      <th>text</th>\n      <th>hate_speech</th>\n    </tr>\n  </thead>\n  <tbody>\n    <tr>\n      <th>0</th>\n      <td>\"não come mel, morde marimbondo\"</td>\n      <td>0</td>\n    </tr>\n    <tr>\n      <th>1</th>\n      <td>não tem pinto, tem orgulho !</td>\n      <td>0</td>\n    </tr>\n    <tr>\n      <th>2</th>\n      <td>Não vê essa merda de Crepúsculo! Pra isso temo...</td>\n      <td>0</td>\n    </tr>\n    <tr>\n      <th>3</th>\n      <td>não da tapa na bundinha, da cotovelada nas cos...</td>\n      <td>0</td>\n    </tr>\n    <tr>\n      <th>4</th>\n      <td>o diminutivo INHO não acompanha a trajetória d...</td>\n      <td>1</td>\n    </tr>\n    <tr>\n      <th>...</th>\n      <td>...</td>\n      <td>...</td>\n    </tr>\n    <tr>\n      <th>5663</th>\n      <td>Na minha sala só tem viado e sapatão  e a cois...</td>\n      <td>1</td>\n    </tr>\n    <tr>\n      <th>5664</th>\n      <td>PARABENS SAPATÃO SDDS @attomiter https://t.co/...</td>\n      <td>1</td>\n    </tr>\n    <tr>\n      <th>5665</th>\n      <td>RT @toquedeveludo: Agora um poema:\\r\\nEu sou s...</td>\n      <td>1</td>\n    </tr>\n    <tr>\n      <th>5666</th>\n      <td>O mundo das sapatao é mais ligado do que eu im...</td>\n      <td>1</td>\n    </tr>\n    <tr>\n      <th>5667</th>\n      <td>Gente, sapatão é uma coisa q me assusta https:...</td>\n      <td>1</td>\n    </tr>\n  </tbody>\n</table>\n<p>5668 rows × 2 columns</p>\n</div>"
     },
     "metadata": {},
     "execution_count": 7
    }
   ],
   "source": [
    "dataset_fortuna"
   ]
  },
  {
   "cell_type": "markdown",
   "id": "informational-symposium",
   "metadata": {},
   "source": [
    "### Part 2.2: Change dataset_depelle to same format as dataset_fortuna"
   ]
  },
  {
   "cell_type": "code",
   "execution_count": 8,
   "id": "skilled-salmon",
   "metadata": {},
   "outputs": [
    {
     "output_type": "execute_result",
     "data": {
      "text/plain": [
       "                                                   text  hate_speech\n",
       "0                'Votaram no PEZAO Agora tomem no CZAO'            1\n",
       "1     'cuidado com a poupanca pessoal Lembram o que ...            0\n",
       "2     'Sabe o que eu acho engracado os nossos govern...            0\n",
       "3               'Podiam retirar dos lucros dos bancos '            0\n",
       "4     'CADE O GALVAO PRA NARRAR AGORA   FALIIIIUUUUU...            0\n",
       "...                                                 ...          ...\n",
       "1028  'Cruz so tem agilidade mesmo poder de nocaute ...            0\n",
       "1029  'Meus caros amigos enigmaticosNao deveriam com...            0\n",
       "1030  'Ele chamava pra atras da escola e sentava nos...            1\n",
       "1031  'Jhalim Rabei ate fiquei assustado comecei a l...            0\n",
       "1032  'Irmao Honorato sempre falando verdades e agin...            0\n",
       "\n",
       "[1033 rows x 2 columns]"
      ],
      "text/html": "<div>\n<style scoped>\n    .dataframe tbody tr th:only-of-type {\n        vertical-align: middle;\n    }\n\n    .dataframe tbody tr th {\n        vertical-align: top;\n    }\n\n    .dataframe thead th {\n        text-align: right;\n    }\n</style>\n<table border=\"1\" class=\"dataframe\">\n  <thead>\n    <tr style=\"text-align: right;\">\n      <th></th>\n      <th>text</th>\n      <th>hate_speech</th>\n    </tr>\n  </thead>\n  <tbody>\n    <tr>\n      <th>0</th>\n      <td>'Votaram no PEZAO Agora tomem no CZAO'</td>\n      <td>1</td>\n    </tr>\n    <tr>\n      <th>1</th>\n      <td>'cuidado com a poupanca pessoal Lembram o que ...</td>\n      <td>0</td>\n    </tr>\n    <tr>\n      <th>2</th>\n      <td>'Sabe o que eu acho engracado os nossos govern...</td>\n      <td>0</td>\n    </tr>\n    <tr>\n      <th>3</th>\n      <td>'Podiam retirar dos lucros dos bancos '</td>\n      <td>0</td>\n    </tr>\n    <tr>\n      <th>4</th>\n      <td>'CADE O GALVAO PRA NARRAR AGORA   FALIIIIUUUUU...</td>\n      <td>0</td>\n    </tr>\n    <tr>\n      <th>...</th>\n      <td>...</td>\n      <td>...</td>\n    </tr>\n    <tr>\n      <th>1028</th>\n      <td>'Cruz so tem agilidade mesmo poder de nocaute ...</td>\n      <td>0</td>\n    </tr>\n    <tr>\n      <th>1029</th>\n      <td>'Meus caros amigos enigmaticosNao deveriam com...</td>\n      <td>0</td>\n    </tr>\n    <tr>\n      <th>1030</th>\n      <td>'Ele chamava pra atras da escola e sentava nos...</td>\n      <td>1</td>\n    </tr>\n    <tr>\n      <th>1031</th>\n      <td>'Jhalim Rabei ate fiquei assustado comecei a l...</td>\n      <td>0</td>\n    </tr>\n    <tr>\n      <th>1032</th>\n      <td>'Irmao Honorato sempre falando verdades e agin...</td>\n      <td>0</td>\n    </tr>\n  </tbody>\n</table>\n<p>1033 rows × 2 columns</p>\n</div>"
     },
     "metadata": {},
     "execution_count": 8
    }
   ],
   "source": [
    "cols = dataset_depelle_3.columns.tolist()\n",
    "cols = cols[::-1] #reverting cols\n",
    "dataset_depelle_3 = dataset_depelle_3[cols]\n",
    "dataset_depelle_3['class'] = dataset_depelle_3['class'].map({'yes': 1, 'no': 0})\n",
    "dataset_depelle_3.columns = ['text', 'hate_speech']\n",
    "dataset_depelle_3"
   ]
  },
  {
   "cell_type": "markdown",
   "id": "dietary-traveler",
   "metadata": {},
   "source": [
    "### Part 2.3: Bringing it all together and saving all the work"
   ]
  },
  {
   "cell_type": "code",
   "execution_count": 9,
   "id": "bottom-gregory",
   "metadata": {},
   "outputs": [
    {
     "output_type": "execute_result",
     "data": {
      "text/plain": [
       "                                                   text  hate_speech\n",
       "0                      \"não come mel, morde marimbondo\"            0\n",
       "1                          não tem pinto, tem orgulho !            0\n",
       "2     Não vê essa merda de Crepúsculo! Pra isso temo...            0\n",
       "3     não da tapa na bundinha, da cotovelada nas cos...            0\n",
       "4     o diminutivo INHO não acompanha a trajetória d...            1\n",
       "...                                                 ...          ...\n",
       "6696  'Cruz so tem agilidade mesmo poder de nocaute ...            0\n",
       "6697  'Meus caros amigos enigmaticosNao deveriam com...            0\n",
       "6698  'Ele chamava pra atras da escola e sentava nos...            1\n",
       "6699  'Jhalim Rabei ate fiquei assustado comecei a l...            0\n",
       "6700  'Irmao Honorato sempre falando verdades e agin...            0\n",
       "\n",
       "[6701 rows x 2 columns]"
      ],
      "text/html": "<div>\n<style scoped>\n    .dataframe tbody tr th:only-of-type {\n        vertical-align: middle;\n    }\n\n    .dataframe tbody tr th {\n        vertical-align: top;\n    }\n\n    .dataframe thead th {\n        text-align: right;\n    }\n</style>\n<table border=\"1\" class=\"dataframe\">\n  <thead>\n    <tr style=\"text-align: right;\">\n      <th></th>\n      <th>text</th>\n      <th>hate_speech</th>\n    </tr>\n  </thead>\n  <tbody>\n    <tr>\n      <th>0</th>\n      <td>\"não come mel, morde marimbondo\"</td>\n      <td>0</td>\n    </tr>\n    <tr>\n      <th>1</th>\n      <td>não tem pinto, tem orgulho !</td>\n      <td>0</td>\n    </tr>\n    <tr>\n      <th>2</th>\n      <td>Não vê essa merda de Crepúsculo! Pra isso temo...</td>\n      <td>0</td>\n    </tr>\n    <tr>\n      <th>3</th>\n      <td>não da tapa na bundinha, da cotovelada nas cos...</td>\n      <td>0</td>\n    </tr>\n    <tr>\n      <th>4</th>\n      <td>o diminutivo INHO não acompanha a trajetória d...</td>\n      <td>1</td>\n    </tr>\n    <tr>\n      <th>...</th>\n      <td>...</td>\n      <td>...</td>\n    </tr>\n    <tr>\n      <th>6696</th>\n      <td>'Cruz so tem agilidade mesmo poder de nocaute ...</td>\n      <td>0</td>\n    </tr>\n    <tr>\n      <th>6697</th>\n      <td>'Meus caros amigos enigmaticosNao deveriam com...</td>\n      <td>0</td>\n    </tr>\n    <tr>\n      <th>6698</th>\n      <td>'Ele chamava pra atras da escola e sentava nos...</td>\n      <td>1</td>\n    </tr>\n    <tr>\n      <th>6699</th>\n      <td>'Jhalim Rabei ate fiquei assustado comecei a l...</td>\n      <td>0</td>\n    </tr>\n    <tr>\n      <th>6700</th>\n      <td>'Irmao Honorato sempre falando verdades e agin...</td>\n      <td>0</td>\n    </tr>\n  </tbody>\n</table>\n<p>6701 rows × 2 columns</p>\n</div>"
     },
     "metadata": {},
     "execution_count": 9
    }
   ],
   "source": [
    "full_dataset_3 = pd.concat([dataset_fortuna, dataset_depelle_3], ignore_index=True)\n",
    "full_dataset_3"
   ]
  },
  {
   "cell_type": "code",
   "execution_count": 10,
   "metadata": {},
   "outputs": [
    {
     "output_type": "execute_result",
     "data": {
      "text/plain": [
       "text           0\n",
       "hate_speech    0\n",
       "dtype: int64"
      ]
     },
     "metadata": {},
     "execution_count": 10
    }
   ],
   "source": [
    "full_dataset_3.isnull().sum()"
   ]
  },
  {
   "cell_type": "code",
   "execution_count": 11,
   "id": "committed-colony",
   "metadata": {},
   "outputs": [],
   "source": [
    "full_dataset_3.to_csv('datasets\\\\full_dataset_3.csv', index=False)"
   ]
  }
 ],
 "metadata": {
  "kernelspec": {
   "display_name": "Python 3",
   "language": "python",
   "name": "python3"
  },
  "language_info": {
   "codemirror_mode": {
    "name": "ipython",
    "version": 3
   },
   "file_extension": ".py",
   "mimetype": "text/x-python",
   "name": "python",
   "nbconvert_exporter": "python",
   "pygments_lexer": "ipython3",
   "version": "3.8.8-final"
  }
 },
 "nbformat": 4,
 "nbformat_minor": 5
}