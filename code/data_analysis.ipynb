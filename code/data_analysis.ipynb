{
 "cells": [
  {
   "cell_type": "markdown",
   "metadata": {},
   "source": [
    "# Data analysis\n",
    "Let's try to find some patterns in the data!\n",
    "\n",
    "* Length of the text\n",
    "* Amount of misspell\n",
    "* Amount of swear words\n",
    "* Laughs\n"
   ]
  },
  {
   "cell_type": "markdown",
   "metadata": {},
   "source": [
    "### 1.1 importing"
   ]
  },
  {
   "cell_type": "code",
   "execution_count": 1,
   "metadata": {},
   "outputs": [],
   "source": [
    "import numpy as np\n",
    "import pandas as pd\n",
    "import seaborn as sns\n",
    "import re"
   ]
  },
  {
   "cell_type": "code",
   "execution_count": 2,
   "metadata": {},
   "outputs": [],
   "source": [
    "full_dataset3 = pd.read_csv('datasets\\\\full_dataset_3.csv')"
   ]
  },
  {
   "cell_type": "markdown",
   "metadata": {},
   "source": [
    "### 1.2 preprocessing text"
   ]
  },
  {
   "cell_type": "code",
   "execution_count": 3,
   "metadata": {},
   "outputs": [],
   "source": [
    "def removing_links(text):\n",
    "    text = text.lower()\n",
    "    text = re.sub(r'http\\S+', '', text)\n",
    "    text = re.sub(r'www\\S+', '', text)\n",
    "    return text\n",
    "\n",
    "def cleaning_data(text):\n",
    "    text = re.sub(r'[0-9]', '', text)\n",
    "    text = re.sub(r'rt+', '', text)\n",
    "    text = re.sub(r'@\\w+', '', text)\n",
    "    text = re.sub(r'#\\w+', '', text)\n",
    "    text = re.sub(r'[\\\"!$%-*&’‘*+”“,-./\\[\\]<=>\\'?():;^_`<>{|}~#@]', '', text)\n",
    "    return text\n",
    "\n",
    "def preprocessing(text):\n",
    "    text = removing_links(text)\n",
    "    text = cleaning_data(text)\n",
    "    return text\n"
   ]
  },
  {
   "cell_type": "code",
   "execution_count": 4,
   "metadata": {},
   "outputs": [],
   "source": [
    "full_dataset3['text_removing_links'] = full_dataset3['text'].apply(removing_links)\n",
    "full_dataset3['text_preproc'] = full_dataset3['text'].apply(preprocessing)"
   ]
  },
  {
   "cell_type": "markdown",
   "metadata": {},
   "source": [
    "## 2. Length of the text"
   ]
  },
  {
   "cell_type": "code",
   "execution_count": 5,
   "metadata": {
    "scrolled": true
   },
   "outputs": [
    {
     "data": {
      "text/plain": [
       "<AxesSubplot:xlabel='hate_speech', ylabel='length'>"
      ]
     },
     "execution_count": 5,
     "metadata": {},
     "output_type": "execute_result"
    },
    {
     "data": {
      "image/png": "[encoded data removed]",
      "text/plain": [
       "<Figure size 432x288 with 1 Axes>"
      ]
     },
     "metadata": {
      "needs_background": "light"
     },
     "output_type": "display_data"
    }
   ],
   "source": [
    "full_dataset3['length'] = full_dataset3['text_removing_links'].apply(len)\n",
    "sns.boxplot(x='hate_speech', y='length', data=full_dataset3)"
   ]
  },
  {
   "cell_type": "code",
   "execution_count": 6,
   "metadata": {},
   "outputs": [],
   "source": [
    "hate_0 = full_dataset3[full_dataset3.hate_speech==0]\n",
    "hate_1 = full_dataset3[full_dataset3.hate_speech==1]"
   ]
  },
  {
   "cell_type": "code",
   "execution_count": 7,
   "metadata": {},
   "outputs": [
    {
     "name": "stdout",
     "output_type": "stream",
     "text": [
      "Class 0 info: \n",
      "count    5271.000000\n",
      "mean       90.336748\n",
      "std        42.612141\n",
      "min         7.000000\n",
      "25%        58.000000\n",
      "50%        90.000000\n",
      "75%       118.000000\n",
      "max       535.000000\n",
      "Name: length, dtype: float64\n",
      "\n",
      "Class 1 info: \n",
      "count    5271.000000\n",
      "mean       90.336748\n",
      "std        42.612141\n",
      "min         7.000000\n",
      "25%        58.000000\n",
      "50%        90.000000\n",
      "75%       118.000000\n",
      "max       535.000000\n",
      "Name: length, dtype: float64\n",
      "\n",
      "median length of all texts is 88.00\n",
      "median length of class 0 text is 90.00\n",
      "50.73% of the elements in class 0 are above average in length\n",
      "median length of class 1 text is 84.00\n",
      "47.06% of the elements in class 1 are above average in length\n"
     ]
    }
   ],
   "source": [
    "global_med = np.median(full_dataset3['length'])\n",
    "\n",
    "c0_med = np.median(hate_0['length'])\n",
    "c1_med = np.median(hate_1['length'])\n",
    "\n",
    "w = hate_0[hate_0['length'] > global_med]\n",
    "z = hate_1[hate_1['length'] > global_med]\n",
    "\n",
    "print('Class 0 info: ')\n",
    "print(hate_0['length'].describe())\n",
    "print('\\nClass 1 info: ')\n",
    "print(hate_0['length'].describe())\n",
    "\n",
    "print('\\nmedian length of all texts is {:2.2f}'.format(global_med))\n",
    "print('median length of class 0 text is {:2.2f}'.format(c0_med))\n",
    "print('{:.2f}% of the elements in class 0 are above average in length'.format(100*len(w)/len(hate_0)))\n",
    "print('median length of class 1 text is {:2.2f}'.format(c1_med))\n",
    "print('{:.2f}% of the elements in class 1 are above average in length'.format(100*len(z)/len(hate_1)))"
   ]
  },
  {
   "cell_type": "markdown",
   "metadata": {},
   "source": [
    "## 2. Amount of misspell"
   ]
  },
  {
   "cell_type": "code",
   "execution_count": 8,
   "metadata": {},
   "outputs": [],
   "source": [
    "from spellchecker import SpellChecker\n",
    "spell = SpellChecker(language='pt')"
   ]
  },
  {
   "cell_type": "code",
   "execution_count": 9,
   "metadata": {},
   "outputs": [],
   "source": [
    "def count_misspell(text):\n",
    "    text = text.split()\n",
    "    unknown_res = []\n",
    "    for word in text:\n",
    "        unknown_res.append(spell.unknown([word]) != set())\n",
    "    return unknown_res.count(True)"
   ]
  },
  {
   "cell_type": "code",
   "execution_count": 10,
   "metadata": {
    "scrolled": true
   },
   "outputs": [
    {
     "data": {
      "text/plain": [
       "<AxesSubplot:xlabel='hate_speech', ylabel='count_misspell'>"
      ]
     },
     "execution_count": 10,
     "metadata": {},
     "output_type": "execute_result"
    },
    {
     "data": {
      "image/png": "[encoded data removed]",
      "text/plain": [
       "<Figure size 432x288 with 1 Axes>"
      ]
     },
     "metadata": {
      "needs_background": "light"
     },
     "output_type": "display_data"
    }
   ],
   "source": [
    "full_dataset3['count_misspell'] = full_dataset3['text_preproc'].apply(count_misspell)\n",
    "sns.boxplot(x='hate_speech', y='count_misspell', data=full_dataset3)"
   ]
  },
  {
   "cell_type": "code",
   "execution_count": 18,
   "metadata": {},
   "outputs": [
    {
     "name": "stdout",
     "output_type": "stream",
     "text": [
      "59.46% of elements in class 0 contains misspell\n",
      "62.24% of elements in class 1 contains misspell\n"
     ]
    }
   ],
   "source": [
    "hate_0 = full_dataset3[full_dataset3.hate_speech==0]\n",
    "hate_1 = full_dataset3[full_dataset3.hate_speech==1]\n",
    "\n",
    "w = hate_0[hate_0.count_misspell > 0]\n",
    "z = hate_1[hate_1.count_misspell > 0]\n",
    "\n",
    "print('{:.2f}% of elements in class 0 contains misspell'.format(len(w)/len(hate_0)*100))\n",
    "print('{:.2f}% of elements in class 1 contains misspell'.format(len(z)/len(hate_1)*100))"
   ]
  },
  {
   "cell_type": "markdown",
   "metadata": {},
   "source": [
    "## 3. Amount of swear words"
   ]
  },
  {
   "cell_type": "code",
   "execution_count": 12,
   "metadata": {},
   "outputs": [],
   "source": [
    "f = open(\"datasets\\\\lista-palavroes-bloqueio.txt\", \"r\", encoding=\"utf8\")\n",
    "list_swear_words = f.readlines()\n",
    "list_swear_words = [x.strip() for x in list_swear_words]\n",
    "f.close()\n",
    "\n",
    "def count_swear_words(text):\n",
    "    swear = []\n",
    "    text = text.split(' ')\n",
    "    for swear_word in list_swear_words:\n",
    "        try:\n",
    "            x = [re.findall('^' + swear_word.lower(), word) for word in text]\n",
    "            x = [y for y in x if y != []]\n",
    "            if x != []:\n",
    "                swear.append(x[0][0])\n",
    "        except:\n",
    "            pass\n",
    "    return len(swear)"
   ]
  },
  {
   "cell_type": "code",
   "execution_count": 13,
   "metadata": {},
   "outputs": [
    {
     "data": {
      "text/plain": [
       "<AxesSubplot:xlabel='hate_speech', ylabel='swear_words'>"
      ]
     },
     "execution_count": 13,
     "metadata": {},
     "output_type": "execute_result"
    },
    {
     "data": {
      "image/png": "[encoded data removed]",
      "text/plain": [
       "<Figure size 432x288 with 1 Axes>"
      ]
     },
     "metadata": {
      "needs_background": "light"
     },
     "output_type": "display_data"
    }
   ],
   "source": [
    "full_dataset3['swear_words'] = full_dataset3['text'].apply(count_swear_words)\n",
    "sns.boxplot(x='hate_speech', y='swear_words', data=full_dataset3)"
   ]
  },
  {
   "cell_type": "code",
   "execution_count": 14,
   "metadata": {},
   "outputs": [
    {
     "name": "stdout",
     "output_type": "stream",
     "text": [
      "8.40% of elements in class 0 contains swear words\n",
      "43.43% of elements in class 1 contains swear words\n"
     ]
    }
   ],
   "source": [
    "hate_0 = full_dataset3[full_dataset3.hate_speech==0]\n",
    "hate_1 = full_dataset3[full_dataset3.hate_speech==1]\n",
    "\n",
    "w = hate_0[hate_0.swear_words > 0]\n",
    "z = hate_1[hate_1.swear_words > 0]\n",
    "\n",
    "print('{:.2f}% of elements in class 0 contains swear words'.format(len(w)/len(hate_0)*100))\n",
    "print('{:.2f}% of elements in class 1 contains swear words'.format(len(z)/len(hate_1)*100))"
   ]
  },
  {
   "cell_type": "markdown",
   "metadata": {},
   "source": [
    "## 4. Presence of laughs"
   ]
  },
  {
   "cell_type": "code",
   "execution_count": 15,
   "metadata": {},
   "outputs": [],
   "source": [
    "laughs = \"k{2,}|a*ha+h[ha]*|e*he+h[he]*|s*rs+r[rs]*\" # get regex for laughs\n",
    "def thereis_laughs(text):\n",
    "    if re.findall(laughs, text): return True\n",
    "    else: return False"
   ]
  },
  {
   "cell_type": "code",
   "execution_count": 16,
   "metadata": {},
   "outputs": [],
   "source": [
    "full_dataset3['laughs'] = full_dataset3['text'].apply(thereis_laughs)"
   ]
  },
  {
   "cell_type": "code",
   "execution_count": 17,
   "metadata": {
    "scrolled": true
   },
   "outputs": [
    {
     "name": "stdout",
     "output_type": "stream",
     "text": [
      "3.62% of the elements in class 0 have laughs\n",
      "4.13% of the elements in class 1 have laughs\n"
     ]
    }
   ],
   "source": [
    "hate_0 = full_dataset3[full_dataset3.hate_speech==0]\n",
    "hate_1 = full_dataset3[full_dataset3.hate_speech==1]\n",
    "\n",
    "w = hate_0[hate_0['laughs'] == True]\n",
    "z = hate_1[hate_1['laughs'] == True]\n",
    "\n",
    "print('{:.2f}% of the elements in class 0 have laughs'.format(100*len(w)/len(hate_0)))\n",
    "print('{:.2f}% of the elements in class 1 have laughs'.format(100*len(z)/len(hate_1)))"
   ]
  },
  {
   "cell_type": "code",
   "execution_count": null,
   "metadata": {},
   "outputs": [],
   "source": []
  },
  {
   "cell_type": "code",
   "execution_count": null,
   "metadata": {},
   "outputs": [],
   "source": []
  }
 ],
 "metadata": {
  "kernelspec": {
   "display_name": "Python 3",
   "language": "python",
   "name": "python3"
  },
  "language_info": {
   "codemirror_mode": {
    "name": "ipython",
    "version": 3
   },
   "file_extension": ".py",
   "mimetype": "text/x-python",
   "name": "python",
   "nbconvert_exporter": "python",
   "pygments_lexer": "ipython3",
   "version": "3.8.8"
  }
 },
 "nbformat": 4,
 "nbformat_minor": 4
}
