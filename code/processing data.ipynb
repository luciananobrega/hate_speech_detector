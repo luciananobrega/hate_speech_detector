{
 "cells": [
  {
   "cell_type": "markdown",
   "id": "artistic-scotland",
   "metadata": {},
   "source": [
    "## Part 1: Data enrichment\n",
    "Count length and count laugh length"
   ]
  },
  {
   "cell_type": "code",
   "execution_count": 1,
   "id": "early-fountain",
   "metadata": {},
   "outputs": [],
   "source": [
    "import pandas as pd\n",
    "import re"
   ]
  },
  {
   "cell_type": "code",
   "execution_count": 2,
   "id": "robust-ordering",
   "metadata": {},
   "outputs": [],
   "source": [
    "full_dataset = pd.read_csv('datasets\\\\full_dataset.csv')"
   ]
  },
  {
   "cell_type": "code",
   "execution_count": 3,
   "id": "constitutional-motor",
   "metadata": {},
   "outputs": [
    {
     "data": {
      "text/html": [
       "<div>\n",
       "<style scoped>\n",
       "    .dataframe tbody tr th:only-of-type {\n",
       "        vertical-align: middle;\n",
       "    }\n",
       "\n",
       "    .dataframe tbody tr th {\n",
       "        vertical-align: top;\n",
       "    }\n",
       "\n",
       "    .dataframe thead th {\n",
       "        text-align: right;\n",
       "    }\n",
       "</style>\n",
       "<table border=\"1\" class=\"dataframe\">\n",
       "  <thead>\n",
       "    <tr style=\"text-align: right;\">\n",
       "      <th></th>\n",
       "      <th>data</th>\n",
       "      <th>Hate.speech</th>\n",
       "    </tr>\n",
       "  </thead>\n",
       "  <tbody>\n",
       "    <tr>\n",
       "      <th>0</th>\n",
       "      <td>\"não come mel, morde marimbondo\"</td>\n",
       "      <td>0</td>\n",
       "    </tr>\n",
       "    <tr>\n",
       "      <th>1</th>\n",
       "      <td>não tem pinto, tem orgulho !</td>\n",
       "      <td>0</td>\n",
       "    </tr>\n",
       "    <tr>\n",
       "      <th>2</th>\n",
       "      <td>Não vê essa merda de Crepúsculo! Pra isso temo...</td>\n",
       "      <td>0</td>\n",
       "    </tr>\n",
       "    <tr>\n",
       "      <th>3</th>\n",
       "      <td>não da tapa na bundinha, da cotovelada nas cos...</td>\n",
       "      <td>0</td>\n",
       "    </tr>\n",
       "    <tr>\n",
       "      <th>4</th>\n",
       "      <td>o diminutivo INHO não acompanha a trajetória d...</td>\n",
       "      <td>1</td>\n",
       "    </tr>\n",
       "    <tr>\n",
       "      <th>...</th>\n",
       "      <td>...</td>\n",
       "      <td>...</td>\n",
       "    </tr>\n",
       "    <tr>\n",
       "      <th>2759</th>\n",
       "      <td>'LIXO DO CRL'</td>\n",
       "      <td>1</td>\n",
       "    </tr>\n",
       "    <tr>\n",
       "      <th>2760</th>\n",
       "      <td>'ela esta fazendo isso para aparecer Nao e gay...</td>\n",
       "      <td>1</td>\n",
       "    </tr>\n",
       "    <tr>\n",
       "      <th>2761</th>\n",
       "      <td>'Volta pra jaula sua macaca vou pegar meu xico...</td>\n",
       "      <td>1</td>\n",
       "    </tr>\n",
       "    <tr>\n",
       "      <th>2762</th>\n",
       "      <td>'Achei que a macaca vivia apenas na floresta o...</td>\n",
       "      <td>1</td>\n",
       "    </tr>\n",
       "    <tr>\n",
       "      <th>2763</th>\n",
       "      <td>'Espera essa neve derreter e usa ela pra lavar...</td>\n",
       "      <td>1</td>\n",
       "    </tr>\n",
       "  </tbody>\n",
       "</table>\n",
       "<p>2764 rows × 2 columns</p>\n",
       "</div>"
      ],
      "text/plain": [
       "                                                   data  Hate.speech\n",
       "0                      \"não come mel, morde marimbondo\"            0\n",
       "1                          não tem pinto, tem orgulho !            0\n",
       "2     Não vê essa merda de Crepúsculo! Pra isso temo...            0\n",
       "3     não da tapa na bundinha, da cotovelada nas cos...            0\n",
       "4     o diminutivo INHO não acompanha a trajetória d...            1\n",
       "...                                                 ...          ...\n",
       "2759                                      'LIXO DO CRL'            1\n",
       "2760  'ela esta fazendo isso para aparecer Nao e gay...            1\n",
       "2761  'Volta pra jaula sua macaca vou pegar meu xico...            1\n",
       "2762  'Achei que a macaca vivia apenas na floresta o...            1\n",
       "2763  'Espera essa neve derreter e usa ela pra lavar...            1\n",
       "\n",
       "[2764 rows x 2 columns]"
      ]
     },
     "execution_count": 3,
     "metadata": {},
     "output_type": "execute_result"
    }
   ],
   "source": [
    "full_dataset"
   ]
  },
  {
   "cell_type": "code",
   "execution_count": 4,
   "id": "random-landscape",
   "metadata": {},
   "outputs": [],
   "source": [
    "# get common portuguese laughts online, like kkkkk, hahaha, hehe and rsrs\n",
    "laughs = \"k{2,}|a*ha+h[ha]*|e*he+h[he]*|s*rs+r[rs]*\" # get regex for laughs\n",
    "def count_laughs(text):\n",
    "    all_laughs = re.findall(laughs, text)\n",
    "    all_laughs = ''.join(all_laughs)\n",
    "    return len(all_laughs)"
   ]
  },
  {
   "cell_type": "code",
   "execution_count": 5,
   "id": "veterinary-elements",
   "metadata": {},
   "outputs": [],
   "source": [
    "length = full_dataset['data'].apply(len)\n",
    "laughs = full_dataset['data'].apply(count_laughs)"
   ]
  },
  {
   "cell_type": "markdown",
   "id": "alert-batman",
   "metadata": {},
   "source": [
    "## Part 2: Basic text processing\n",
    "Put everything in lower case, remove url links, punctuations and duplicated letters."
   ]
  },
  {
   "cell_type": "code",
   "execution_count": 6,
   "id": "mineral-wallpaper",
   "metadata": {},
   "outputs": [],
   "source": [
    "from spellchecker import SpellChecker\n",
    "spell = SpellChecker(language='pt') # spell checker in portuguese"
   ]
  },
  {
   "cell_type": "code",
   "execution_count": 7,
   "id": "frozen-lingerie",
   "metadata": {},
   "outputs": [],
   "source": [
    "def lower(text):\n",
    "    return text.lower()"
   ]
  },
  {
   "cell_type": "code",
   "execution_count": 8,
   "id": "renewable-commonwealth",
   "metadata": {},
   "outputs": [],
   "source": [
    "def remove_break_line(text):\n",
    "    word = text.split()\n",
    "    new_text = []\n",
    "    if '\\n' in word:\n",
    "         new_text.append(word.replace('\\n', ' '))\n",
    "    else:\n",
    "        return text\n",
    "    return \" \".join(new_text)"
   ]
  },
  {
   "cell_type": "code",
   "execution_count": 9,
   "id": "associate-detroit",
   "metadata": {},
   "outputs": [],
   "source": [
    "def remove_links(text):\n",
    "    separated_text = text.split(' ')\n",
    "    for word in separated_text:\n",
    "        if 'http' in word or '.com' in word:\n",
    "            separated_text.remove(word)\n",
    "    new_text = ' '.join(separated_text)\n",
    "    if new_text == '':\n",
    "        return text\n",
    "    else:\n",
    "        return new_text"
   ]
  },
  {
   "cell_type": "code",
   "execution_count": 10,
   "id": "outstanding-beginning",
   "metadata": {},
   "outputs": [],
   "source": [
    "def remove_punctuation(text):\n",
    "    return re.sub(r'[\"!$%&\\'()*+,-./:;<=>?\\\\^_`{|}~]', '', text)"
   ]
  },
  {
   "cell_type": "code",
   "execution_count": 11,
   "id": "included-steps",
   "metadata": {},
   "outputs": [],
   "source": [
    "def is_unknown(word):\n",
    "    return spell.unknown([word]) != set()\n",
    "\n",
    "def remove_duplicated_letters(text):    \n",
    "    text = text.split(' ')\n",
    "    new_text = []\n",
    "    for word in text:\n",
    "        if is_unknown(word) and word != '':\n",
    "            new_word = [word[0]] # start new word with 1st letter\n",
    "            for i, letter in enumerate(word[1:]):\n",
    "                if letter != word[i]:\n",
    "                    new_word.append(letter)\n",
    "            new_word = ''.join(new_word)\n",
    "        else:\n",
    "            new_word = word\n",
    "        new_text.append(new_word)\n",
    "    text = ' '.join(new_text)\n",
    "    return text"
   ]
  },
  {
   "cell_type": "code",
   "execution_count": 12,
   "id": "facial-contribution",
   "metadata": {},
   "outputs": [],
   "source": [
    "def process_text1(text):\n",
    "    \"\"\"\n",
    "    Basic text processing: lower, remove links, punctuations and duplicated letters.\n",
    "    \"\"\"\n",
    "    text = lower(text)\n",
    "    text = remove_break_line(text)\n",
    "    text = remove_links(text)\n",
    "    text = remove_punctuation(text)\n",
    "    text = remove_duplicated_letters(text)\n",
    "    return text"
   ]
  },
  {
   "cell_type": "code",
   "execution_count": 13,
   "id": "pointed-venue",
   "metadata": {},
   "outputs": [],
   "source": [
    "full_dataset['data'] = full_dataset['data'].apply(process_text1)"
   ]
  },
  {
   "cell_type": "code",
   "execution_count": 14,
   "id": "virgin-helicopter",
   "metadata": {},
   "outputs": [
    {
     "data": {
      "text/html": [
       "<div>\n",
       "<style scoped>\n",
       "    .dataframe tbody tr th:only-of-type {\n",
       "        vertical-align: middle;\n",
       "    }\n",
       "\n",
       "    .dataframe tbody tr th {\n",
       "        vertical-align: top;\n",
       "    }\n",
       "\n",
       "    .dataframe thead th {\n",
       "        text-align: right;\n",
       "    }\n",
       "</style>\n",
       "<table border=\"1\" class=\"dataframe\">\n",
       "  <thead>\n",
       "    <tr style=\"text-align: right;\">\n",
       "      <th></th>\n",
       "      <th>data</th>\n",
       "      <th>Hate.speech</th>\n",
       "    </tr>\n",
       "  </thead>\n",
       "  <tbody>\n",
       "    <tr>\n",
       "      <th>0</th>\n",
       "      <td>não come mel morde marimbondo</td>\n",
       "      <td>0</td>\n",
       "    </tr>\n",
       "    <tr>\n",
       "      <th>1</th>\n",
       "      <td>não tem pinto tem orgulho</td>\n",
       "      <td>0</td>\n",
       "    </tr>\n",
       "    <tr>\n",
       "      <th>2</th>\n",
       "      <td>não vê essa merda de crepúsculo pra isso temos...</td>\n",
       "      <td>0</td>\n",
       "    </tr>\n",
       "    <tr>\n",
       "      <th>3</th>\n",
       "      <td>não da tapa na bundinha da cotovelada nas costas</td>\n",
       "      <td>0</td>\n",
       "    </tr>\n",
       "    <tr>\n",
       "      <th>4</th>\n",
       "      <td>o diminutivo inho não acompanha a trajetória d...</td>\n",
       "      <td>1</td>\n",
       "    </tr>\n",
       "    <tr>\n",
       "      <th>...</th>\n",
       "      <td>...</td>\n",
       "      <td>...</td>\n",
       "    </tr>\n",
       "    <tr>\n",
       "      <th>2759</th>\n",
       "      <td>lixo do crl</td>\n",
       "      <td>1</td>\n",
       "    </tr>\n",
       "    <tr>\n",
       "      <th>2760</th>\n",
       "      <td>ela esta fazendo isso para aparecer nao e gay ...</td>\n",
       "      <td>1</td>\n",
       "    </tr>\n",
       "    <tr>\n",
       "      <th>2761</th>\n",
       "      <td>volta pra jaula sua macaca vou pegar meu xicot...</td>\n",
       "      <td>1</td>\n",
       "    </tr>\n",
       "    <tr>\n",
       "      <th>2762</th>\n",
       "      <td>achei que a macaca vivia apenas na floresta ou...</td>\n",
       "      <td>1</td>\n",
       "    </tr>\n",
       "    <tr>\n",
       "      <th>2763</th>\n",
       "      <td>espera essa neve derreter e usa ela pra lavar ...</td>\n",
       "      <td>1</td>\n",
       "    </tr>\n",
       "  </tbody>\n",
       "</table>\n",
       "<p>2764 rows × 2 columns</p>\n",
       "</div>"
      ],
      "text/plain": [
       "                                                   data  Hate.speech\n",
       "0                         não come mel morde marimbondo            0\n",
       "1                            não tem pinto tem orgulho             0\n",
       "2     não vê essa merda de crepúsculo pra isso temos...            0\n",
       "3     não da tapa na bundinha da cotovelada nas costas             0\n",
       "4     o diminutivo inho não acompanha a trajetória d...            1\n",
       "...                                                 ...          ...\n",
       "2759                                        lixo do crl            1\n",
       "2760  ela esta fazendo isso para aparecer nao e gay ...            1\n",
       "2761  volta pra jaula sua macaca vou pegar meu xicot...            1\n",
       "2762  achei que a macaca vivia apenas na floresta ou...            1\n",
       "2763  espera essa neve derreter e usa ela pra lavar ...            1\n",
       "\n",
       "[2764 rows x 2 columns]"
      ]
     },
     "execution_count": 14,
     "metadata": {},
     "output_type": "execute_result"
    }
   ],
   "source": [
    "full_dataset"
   ]
  },
  {
   "cell_type": "markdown",
   "id": "medieval-publicity",
   "metadata": {},
   "source": [
    "## Part 3: more enrichment"
   ]
  },
  {
   "cell_type": "code",
   "execution_count": 15,
   "id": "romance-scroll",
   "metadata": {},
   "outputs": [],
   "source": [
    "f = open(\"datasets\\\\lista-palavroes-bloqueio.txt\", \"r\", encoding=\"utf8\")\n",
    "list_bad_words = f.readlines()\n",
    "list_bad_words = [x.strip() for x in list_bad_words]\n",
    "f.close()\n",
    "\n",
    "\n",
    "def count_bad_words(text):\n",
    "    bad = []\n",
    "    text = text.split(' ')\n",
    "    for bad_word in list_bad_words:\n",
    "        try:\n",
    "            x = [re.findall('^' + bad_word.lower(), word) for word in text]\n",
    "            x = [y for y in x if y != []]\n",
    "            if x != []:\n",
    "                bad.append(x[0][0])\n",
    "        except:\n",
    "            pass\n",
    "    if bad != []:\n",
    "        bad = set(bad) # get the unique values\n",
    "    return len(bad)"
   ]
  },
  {
   "cell_type": "code",
   "execution_count": 16,
   "id": "selective-swiss",
   "metadata": {},
   "outputs": [],
   "source": [
    "def count_misspell(text):\n",
    "    count = 0\n",
    "    for word in text.split():\n",
    "        if '#' not in word and '@' not in word and word != 'rt':\n",
    "            if is_unknown(word) and word != '':\n",
    "                count += 1\n",
    "    return count"
   ]
  },
  {
   "cell_type": "code",
   "execution_count": 17,
   "id": "temporal-count",
   "metadata": {},
   "outputs": [],
   "source": [
    "bad_words = full_dataset['data'].apply(count_bad_words)\n",
    "misspell = full_dataset['data'].apply(count_misspell)"
   ]
  },
  {
   "cell_type": "markdown",
   "id": "interracial-recording",
   "metadata": {},
   "source": [
    "### Part 4: more processing"
   ]
  },
  {
   "cell_type": "code",
   "execution_count": 18,
   "id": "cooked-anger",
   "metadata": {},
   "outputs": [
    {
     "name": "stderr",
     "output_type": "stream",
     "text": [
      "[nltk_data] Downloading package stopwords to\n",
      "[nltk_data]     C:\\Users\\Acer\\AppData\\Roaming\\nltk_data...\n",
      "[nltk_data]   Package stopwords is already up-to-date!\n",
      "[nltk_data] Downloading package rslp to\n",
      "[nltk_data]     C:\\Users\\Acer\\AppData\\Roaming\\nltk_data...\n",
      "[nltk_data]   Package rslp is already up-to-date!\n",
      "[nltk_data] Downloading package punkt to\n",
      "[nltk_data]     C:\\Users\\Acer\\AppData\\Roaming\\nltk_data...\n",
      "[nltk_data]   Package punkt is already up-to-date!\n"
     ]
    },
    {
     "data": {
      "text/plain": [
       "True"
      ]
     },
     "execution_count": 18,
     "metadata": {},
     "output_type": "execute_result"
    }
   ],
   "source": [
    "import nltk\n",
    "nltk.download('stopwords')\n",
    "nltk.download('rslp')\n",
    "nltk.download('punkt')"
   ]
  },
  {
   "cell_type": "code",
   "execution_count": 19,
   "id": "quarterly-mechanics",
   "metadata": {},
   "outputs": [],
   "source": [
    "stopwords = set(nltk.corpus.stopwords.words('portuguese')) # get stop words in portuguese\n",
    "\n",
    "def remove_stopwords(text):\n",
    "    text_without_stopwords = [word for word in text.split() if word not in stopwords] # remove stopwords\n",
    "    # some elements of the dataset were only stopwords (eg: \"quando foi isso\")\n",
    "    # if it's the case, we won't remove stopwords\n",
    "    if text_without_stopwords != []:\n",
    "        text = text_without_stopwords\n",
    "    return ' '.join(text)"
   ]
  },
  {
   "cell_type": "code",
   "execution_count": 20,
   "id": "integral-crazy",
   "metadata": {},
   "outputs": [],
   "source": [
    "def remove_laughs(text):\n",
    "    return re.sub(r'k{2,}|a*ha+h[ha]*|e*he+h[he]*|s*rs+r[rs]*', '', text)"
   ]
  },
  {
   "cell_type": "code",
   "execution_count": 21,
   "id": "cathedral-latex",
   "metadata": {},
   "outputs": [],
   "source": [
    "def stemming(text):\n",
    "    stemmer = nltk.stem.RSLPStemmer() #steamming in portuguese\n",
    "    words = []\n",
    "    for word in text.split():\n",
    "        words.append(stemmer.stem(word))\n",
    "    return \" \".join(words)"
   ]
  },
  {
   "cell_type": "code",
   "execution_count": 22,
   "id": "improved-motivation",
   "metadata": {},
   "outputs": [],
   "source": [
    "def bag_of_words(text):\n",
    "    return nltk.word_tokenize(text)"
   ]
  },
  {
   "cell_type": "code",
   "execution_count": 23,
   "id": "aging-fruit",
   "metadata": {},
   "outputs": [],
   "source": [
    "def process_text2(text):\n",
    "    text = remove_laughs(text)\n",
    "    text = remove_stopwords(text)\n",
    "    text = stemming(text)\n",
    "    text = bag_of_words(text)\n",
    "    return text"
   ]
  },
  {
   "cell_type": "code",
   "execution_count": 24,
   "id": "fancy-galaxy",
   "metadata": {},
   "outputs": [],
   "source": [
    "full_dataset['data'] = full_dataset['data'].apply(process_text2)"
   ]
  },
  {
   "cell_type": "code",
   "execution_count": 25,
   "id": "parliamentary-winter",
   "metadata": {},
   "outputs": [
    {
     "data": {
      "text/plain": [
       "0                                [com, mel, mord, marimb]\n",
       "1                                          [pint, orgulh]\n",
       "2       [vê, merd, crepúscul, pra, cinebiograf, chuck,...\n",
       "3                              [tap, bund, cotovel, cost]\n",
       "4          [diminu, inh, acompanh, trajetór, hom, verdad]\n",
       "                              ...                        \n",
       "2759                                           [lix, crl]\n",
       "2760    [faz, aparec, nao, gay, cois, nenhum, vergonh,...\n",
       "2761    [volt, pra, jaul, macac, vou, peg, xicot, pret...\n",
       "2762              [ach, macac, viv, apen, florest, zolog]\n",
       "2763            [esper, nev, derret, usa, pra, lav, louc]\n",
       "Name: data, Length: 2764, dtype: object"
      ]
     },
     "execution_count": 25,
     "metadata": {},
     "output_type": "execute_result"
    }
   ],
   "source": [
    "full_dataset['data']"
   ]
  },
  {
   "cell_type": "markdown",
   "id": "alternate-antique",
   "metadata": {},
   "source": [
    "## Part 5: Putting it all together and saving\n",
    "* length\n",
    "* laughs\n",
    "* bad_words\n",
    "* misspell"
   ]
  },
  {
   "cell_type": "code",
   "execution_count": 26,
   "id": "essential-procedure",
   "metadata": {},
   "outputs": [
    {
     "data": {
      "text/html": [
       "<div>\n",
       "<style scoped>\n",
       "    .dataframe tbody tr th:only-of-type {\n",
       "        vertical-align: middle;\n",
       "    }\n",
       "\n",
       "    .dataframe tbody tr th {\n",
       "        vertical-align: top;\n",
       "    }\n",
       "\n",
       "    .dataframe thead th {\n",
       "        text-align: right;\n",
       "    }\n",
       "</style>\n",
       "<table border=\"1\" class=\"dataframe\">\n",
       "  <thead>\n",
       "    <tr style=\"text-align: right;\">\n",
       "      <th></th>\n",
       "      <th>data</th>\n",
       "      <th>Hate.speech</th>\n",
       "    </tr>\n",
       "  </thead>\n",
       "  <tbody>\n",
       "    <tr>\n",
       "      <th>0</th>\n",
       "      <td>[com, mel, mord, marimb]</td>\n",
       "      <td>0</td>\n",
       "    </tr>\n",
       "    <tr>\n",
       "      <th>1</th>\n",
       "      <td>[pint, orgulh]</td>\n",
       "      <td>0</td>\n",
       "    </tr>\n",
       "    <tr>\n",
       "      <th>2</th>\n",
       "      <td>[vê, merd, crepúscul, pra, cinebiograf, chuck,...</td>\n",
       "      <td>0</td>\n",
       "    </tr>\n",
       "    <tr>\n",
       "      <th>3</th>\n",
       "      <td>[tap, bund, cotovel, cost]</td>\n",
       "      <td>0</td>\n",
       "    </tr>\n",
       "    <tr>\n",
       "      <th>4</th>\n",
       "      <td>[diminu, inh, acompanh, trajetór, hom, verdad]</td>\n",
       "      <td>1</td>\n",
       "    </tr>\n",
       "    <tr>\n",
       "      <th>...</th>\n",
       "      <td>...</td>\n",
       "      <td>...</td>\n",
       "    </tr>\n",
       "    <tr>\n",
       "      <th>2759</th>\n",
       "      <td>[lix, crl]</td>\n",
       "      <td>1</td>\n",
       "    </tr>\n",
       "    <tr>\n",
       "      <th>2760</th>\n",
       "      <td>[faz, aparec, nao, gay, cois, nenhum, vergonh,...</td>\n",
       "      <td>1</td>\n",
       "    </tr>\n",
       "    <tr>\n",
       "      <th>2761</th>\n",
       "      <td>[volt, pra, jaul, macac, vou, peg, xicot, pret...</td>\n",
       "      <td>1</td>\n",
       "    </tr>\n",
       "    <tr>\n",
       "      <th>2762</th>\n",
       "      <td>[ach, macac, viv, apen, florest, zolog]</td>\n",
       "      <td>1</td>\n",
       "    </tr>\n",
       "    <tr>\n",
       "      <th>2763</th>\n",
       "      <td>[esper, nev, derret, usa, pra, lav, louc]</td>\n",
       "      <td>1</td>\n",
       "    </tr>\n",
       "  </tbody>\n",
       "</table>\n",
       "<p>2764 rows × 2 columns</p>\n",
       "</div>"
      ],
      "text/plain": [
       "                                                   data  Hate.speech\n",
       "0                              [com, mel, mord, marimb]            0\n",
       "1                                        [pint, orgulh]            0\n",
       "2     [vê, merd, crepúscul, pra, cinebiograf, chuck,...            0\n",
       "3                            [tap, bund, cotovel, cost]            0\n",
       "4        [diminu, inh, acompanh, trajetór, hom, verdad]            1\n",
       "...                                                 ...          ...\n",
       "2759                                         [lix, crl]            1\n",
       "2760  [faz, aparec, nao, gay, cois, nenhum, vergonh,...            1\n",
       "2761  [volt, pra, jaul, macac, vou, peg, xicot, pret...            1\n",
       "2762            [ach, macac, viv, apen, florest, zolog]            1\n",
       "2763          [esper, nev, derret, usa, pra, lav, louc]            1\n",
       "\n",
       "[2764 rows x 2 columns]"
      ]
     },
     "execution_count": 26,
     "metadata": {},
     "output_type": "execute_result"
    }
   ],
   "source": [
    "full_dataset"
   ]
  },
  {
   "cell_type": "code",
   "execution_count": 27,
   "id": "sustained-observation",
   "metadata": {},
   "outputs": [],
   "source": [
    "full_dataset['length'] = length\n",
    "full_dataset['laughs'] = laughs\n",
    "full_dataset['bad_words'] = bad_words\n",
    "full_dataset['misspell'] = misspell"
   ]
  },
  {
   "cell_type": "code",
   "execution_count": 28,
   "id": "second-radical",
   "metadata": {},
   "outputs": [
    {
     "data": {
      "text/html": [
       "<div>\n",
       "<style scoped>\n",
       "    .dataframe tbody tr th:only-of-type {\n",
       "        vertical-align: middle;\n",
       "    }\n",
       "\n",
       "    .dataframe tbody tr th {\n",
       "        vertical-align: top;\n",
       "    }\n",
       "\n",
       "    .dataframe thead th {\n",
       "        text-align: right;\n",
       "    }\n",
       "</style>\n",
       "<table border=\"1\" class=\"dataframe\">\n",
       "  <thead>\n",
       "    <tr style=\"text-align: right;\">\n",
       "      <th></th>\n",
       "      <th>data</th>\n",
       "      <th>Hate.speech</th>\n",
       "      <th>length</th>\n",
       "      <th>laughs</th>\n",
       "      <th>bad_words</th>\n",
       "      <th>misspell</th>\n",
       "    </tr>\n",
       "  </thead>\n",
       "  <tbody>\n",
       "    <tr>\n",
       "      <th>0</th>\n",
       "      <td>[com, mel, mord, marimb]</td>\n",
       "      <td>0</td>\n",
       "      <td>32</td>\n",
       "      <td>0</td>\n",
       "      <td>0</td>\n",
       "      <td>1</td>\n",
       "    </tr>\n",
       "    <tr>\n",
       "      <th>1</th>\n",
       "      <td>[pint, orgulh]</td>\n",
       "      <td>0</td>\n",
       "      <td>28</td>\n",
       "      <td>0</td>\n",
       "      <td>1</td>\n",
       "      <td>0</td>\n",
       "    </tr>\n",
       "    <tr>\n",
       "      <th>2</th>\n",
       "      <td>[vê, merd, crepúscul, pra, cinebiograf, chuck,...</td>\n",
       "      <td>0</td>\n",
       "      <td>83</td>\n",
       "      <td>0</td>\n",
       "      <td>1</td>\n",
       "      <td>2</td>\n",
       "    </tr>\n",
       "    <tr>\n",
       "      <th>3</th>\n",
       "      <td>[tap, bund, cotovel, cost]</td>\n",
       "      <td>0</td>\n",
       "      <td>51</td>\n",
       "      <td>0</td>\n",
       "      <td>1</td>\n",
       "      <td>0</td>\n",
       "    </tr>\n",
       "    <tr>\n",
       "      <th>4</th>\n",
       "      <td>[diminu, inh, acompanh, trajetór, hom, verdad]</td>\n",
       "      <td>1</td>\n",
       "      <td>68</td>\n",
       "      <td>0</td>\n",
       "      <td>0</td>\n",
       "      <td>1</td>\n",
       "    </tr>\n",
       "    <tr>\n",
       "      <th>...</th>\n",
       "      <td>...</td>\n",
       "      <td>...</td>\n",
       "      <td>...</td>\n",
       "      <td>...</td>\n",
       "      <td>...</td>\n",
       "      <td>...</td>\n",
       "    </tr>\n",
       "    <tr>\n",
       "      <th>2759</th>\n",
       "      <td>[lix, crl]</td>\n",
       "      <td>1</td>\n",
       "      <td>13</td>\n",
       "      <td>0</td>\n",
       "      <td>0</td>\n",
       "      <td>1</td>\n",
       "    </tr>\n",
       "    <tr>\n",
       "      <th>2760</th>\n",
       "      <td>[faz, aparec, nao, gay, cois, nenhum, vergonh,...</td>\n",
       "      <td>1</td>\n",
       "      <td>85</td>\n",
       "      <td>0</td>\n",
       "      <td>1</td>\n",
       "      <td>0</td>\n",
       "    </tr>\n",
       "    <tr>\n",
       "      <th>2761</th>\n",
       "      <td>[volt, pra, jaul, macac, vou, peg, xicot, pret...</td>\n",
       "      <td>1</td>\n",
       "      <td>66</td>\n",
       "      <td>0</td>\n",
       "      <td>2</td>\n",
       "      <td>1</td>\n",
       "    </tr>\n",
       "    <tr>\n",
       "      <th>2762</th>\n",
       "      <td>[ach, macac, viv, apen, florest, zolog]</td>\n",
       "      <td>1</td>\n",
       "      <td>60</td>\n",
       "      <td>0</td>\n",
       "      <td>1</td>\n",
       "      <td>1</td>\n",
       "    </tr>\n",
       "    <tr>\n",
       "      <th>2763</th>\n",
       "      <td>[esper, nev, derret, usa, pra, lav, louc]</td>\n",
       "      <td>1</td>\n",
       "      <td>53</td>\n",
       "      <td>0</td>\n",
       "      <td>0</td>\n",
       "      <td>0</td>\n",
       "    </tr>\n",
       "  </tbody>\n",
       "</table>\n",
       "<p>2764 rows × 6 columns</p>\n",
       "</div>"
      ],
      "text/plain": [
       "                                                   data  Hate.speech  length  \\\n",
       "0                              [com, mel, mord, marimb]            0      32   \n",
       "1                                        [pint, orgulh]            0      28   \n",
       "2     [vê, merd, crepúscul, pra, cinebiograf, chuck,...            0      83   \n",
       "3                            [tap, bund, cotovel, cost]            0      51   \n",
       "4        [diminu, inh, acompanh, trajetór, hom, verdad]            1      68   \n",
       "...                                                 ...          ...     ...   \n",
       "2759                                         [lix, crl]            1      13   \n",
       "2760  [faz, aparec, nao, gay, cois, nenhum, vergonh,...            1      85   \n",
       "2761  [volt, pra, jaul, macac, vou, peg, xicot, pret...            1      66   \n",
       "2762            [ach, macac, viv, apen, florest, zolog]            1      60   \n",
       "2763          [esper, nev, derret, usa, pra, lav, louc]            1      53   \n",
       "\n",
       "      laughs  bad_words  misspell  \n",
       "0          0          0         1  \n",
       "1          0          1         0  \n",
       "2          0          1         2  \n",
       "3          0          1         0  \n",
       "4          0          0         1  \n",
       "...      ...        ...       ...  \n",
       "2759       0          0         1  \n",
       "2760       0          1         0  \n",
       "2761       0          2         1  \n",
       "2762       0          1         1  \n",
       "2763       0          0         0  \n",
       "\n",
       "[2764 rows x 6 columns]"
      ]
     },
     "execution_count": 28,
     "metadata": {},
     "output_type": "execute_result"
    }
   ],
   "source": [
    "full_dataset"
   ]
  },
  {
   "cell_type": "code",
   "execution_count": 29,
   "id": "informational-button",
   "metadata": {},
   "outputs": [],
   "source": [
    "full_dataset.to_csv('datasets\\\\final_dataset.csv', index=False)"
   ]
  },
  {
   "cell_type": "code",
   "execution_count": null,
   "id": "analyzed-glossary",
   "metadata": {},
   "outputs": [],
   "source": []
  },
  {
   "cell_type": "code",
   "execution_count": null,
   "id": "greek-gardening",
   "metadata": {},
   "outputs": [],
   "source": []
  }
 ],
 "metadata": {
  "kernelspec": {
   "display_name": "Python 3",
   "language": "python",
   "name": "python3"
  },
  "language_info": {
   "codemirror_mode": {
    "name": "ipython",
    "version": 3
   },
   "file_extension": ".py",
   "mimetype": "text/x-python",
   "name": "python",
   "nbconvert_exporter": "python",
   "pygments_lexer": "ipython3",
   "version": "3.9.0"
  }
 },
 "nbformat": 4,
 "nbformat_minor": 5
}
